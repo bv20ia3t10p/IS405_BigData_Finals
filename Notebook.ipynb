{
 "cells": [
  {
   "cell_type": "markdown",
   "id": "a29a7bf6-31a1-43e3-9766-8f03dec58dea",
   "metadata": {
    "jp-MarkdownHeadingCollapsed": true
   },
   "source": [
    "# Tải dữ liệu từ Hadoop HDFS"
   ]
  },
  {
   "cell_type": "markdown",
   "id": "bc4767b4",
   "metadata": {},
   "source": [
    "## 1. Kết nối và tải dữ liệu thô"
   ]
  },
  {
   "cell_type": "code",
   "execution_count": 1,
   "id": "85379f4e-5717-4886-82b7-6afd1626aa45",
   "metadata": {
    "scrolled": true
   },
   "outputs": [
    {
     "name": "stderr",
     "output_type": "stream",
     "text": [
      "23/12/21 04:05:23 WARN SparkStringUtils: Truncated the string representation of a plan since it was too large. This behavior can be adjusted by setting 'spark.sql.debug.maxToStringFields'.\n"
     ]
    }
   ],
   "source": [
    "from pyspark.sql import SparkSession, SQLContext\n",
    "from pyspark import SparkConf, SparkContext\n",
    "from pyspark.sql.functions import udf,count,sum,avg,col,isnan, when,mean,stddev\n",
    "sc = SparkContext.getOrCreate()\n",
    "spark = SparkSession(sc)\n",
    "# Đọc lấy file dữ liệu, giữ các tiêu đề (header), cho Spark tự định nghĩa các thuộc tính \n",
    "# và kiểu dữ liệu của thuộc tính [option(\"inferSchema\",True)] \n",
    "data = spark.read.option(\"header\", True).option(\"inferSchema\", True).option('encoding', 'latin1').csv(\"hdfs://localhost:9000/user/root/DataCoSupplyChainDataset.csv\").cache(); "
   ]
  },
  {
   "cell_type": "code",
   "execution_count": 2,
   "id": "45044b77-1342-4602-b308-462f06734757",
   "metadata": {
    "scrolled": true
   },
   "outputs": [
    {
     "name": "stderr",
     "output_type": "stream",
     "text": [
      "[Stage 2:==============>                                            (1 + 3) / 4]\r"
     ]
    },
    {
     "name": "stdout",
     "output_type": "stream",
     "text": [
      "+--------+------------------------+-----------------------------+-----------------+------------------+-----------------+------------------+-----------+--------------+--------------+----------------+--------------+--------------+-----------+--------------+-----------------+----------------+--------------+--------------------+----------------+-------------+---------------+-----------+------------+------------+----------+-------------+-----------------+-----------------------+--------+----------------------+-------------------+------------------------+-------------+------------------------+-----------------------+-------------------+------+----------------+----------------------+--------------+--------------------+---------------+-------------+---------------+-------------------+-------------------+--------------------+------------+-------------+--------------+--------------------------+--------------+\n",
      "|    Type|Days for shipping (real)|Days for shipment (scheduled)|Benefit per order|Sales per customer|  Delivery Status|Late_delivery_risk|Category Id| Category Name| Customer City|Customer Country|Customer Email|Customer Fname|Customer Id|Customer Lname|Customer Password|Customer Segment|Customer State|     Customer Street|Customer Zipcode|Department Id|Department Name|   Latitude|   Longitude|      Market|Order City|Order Country|Order Customer Id|order date (DateOrders)|Order Id|Order Item Cardprod Id|Order Item Discount|Order Item Discount Rate|Order Item Id|Order Item Product Price|Order Item Profit Ratio|Order Item Quantity| Sales|Order Item Total|Order Profit Per Order|  Order Region|         Order State|   Order Status|Order Zipcode|Product Card Id|Product Category Id|Product Description|       Product Image|Product Name|Product Price|Product Status|shipping date (DateOrders)| Shipping Mode|\n",
      "+--------+------------------------+-----------------------------+-----------------+------------------+-----------------+------------------+-----------+--------------+--------------+----------------+--------------+--------------+-----------+--------------+-----------------+----------------+--------------+--------------------+----------------+-------------+---------------+-----------+------------+------------+----------+-------------+-----------------+-----------------------+--------+----------------------+-------------------+------------------------+-------------+------------------------+-----------------------+-------------------+------+----------------+----------------------+--------------+--------------------+---------------+-------------+---------------+-------------------+-------------------+--------------------+------------+-------------+--------------+--------------------------+--------------+\n",
      "|   DEBIT|                       3|                            4|            91.25|       314.6400146| Advance shipping|                 0|         73|Sporting Goods|        Caguas|     Puerto Rico|     XXXXXXXXX|         Cally|      20755|      Holloway|        XXXXXXXXX|        Consumer|            PR|5365 Noble Nectar...|             725|            2|        Fitness| 18.2514534|-66.03705597|Pacific Asia|    Bekasi|    Indonesia|            20755|        1/31/2018 22:56|   77202|                  1360|        13.10999966|             0.039999999|       180517|                  327.75|            0.289999992|                  1|327.75|     314.6400146|                 91.25|Southeast Asia|     Java Occidental|       COMPLETE|         NULL|           1360|                 73|               NULL|http://images.acm...|Smart watch |       327.75|             0|            2/3/2018 22:56|Standard Class|\n",
      "|TRANSFER|                       5|                            4|     -249.0899963|       311.3599854|    Late delivery|                 1|         73|Sporting Goods|        Caguas|     Puerto Rico|     XXXXXXXXX|         Irene|      19492|          Luna|        XXXXXXXXX|        Consumer|            PR|    2679 Rustic Loop|             725|            2|        Fitness|18.27945137| -66.0370636|Pacific Asia|   Bikaner|        India|            19492|        1/13/2018 12:27|   75939|                  1360|        16.38999939|             0.050000001|       179254|                  327.75|           -0.800000012|                  1|327.75|     311.3599854|          -249.0899963|    South Asia|            Rajastán|        PENDING|         NULL|           1360|                 73|               NULL|http://images.acm...|Smart watch |       327.75|             0|           1/18/2018 12:27|Standard Class|\n",
      "|    CASH|                       4|                            4|     -247.7799988|       309.7200012| Shipping on time|                 0|         73|Sporting Goods|      San Jose|         EE. UU.|     XXXXXXXXX|       Gillian|      19491|     Maldonado|        XXXXXXXXX|        Consumer|            CA|8510 Round Bear Gate|           95125|            2|        Fitness|37.29223251| -121.881279|Pacific Asia|   Bikaner|        India|            19491|        1/13/2018 12:06|   75938|                  1360|        18.03000069|             0.059999999|       179253|                  327.75|           -0.800000012|                  1|327.75|     309.7200012|          -247.7799988|    South Asia|            Rajastán|         CLOSED|         NULL|           1360|                 73|               NULL|http://images.acm...|Smart watch |       327.75|             0|           1/17/2018 12:06|Standard Class|\n",
      "|   DEBIT|                       3|                            4|      22.86000061|       304.8099976| Advance shipping|                 0|         73|Sporting Goods|   Los Angeles|         EE. UU.|     XXXXXXXXX|          Tana|      19490|          Tate|        XXXXXXXXX|     Home Office|            CA|     3200 Amber Bend|           90027|            2|        Fitness|34.12594605|-118.2910156|Pacific Asia|Townsville|    Australia|            19490|        1/13/2018 11:45|   75937|                  1360|        22.94000053|                    0.07|       179252|                  327.75|            0.079999998|                  1|327.75|     304.8099976|           22.86000061|       Oceania|          Queensland|       COMPLETE|         NULL|           1360|                 73|               NULL|http://images.acm...|Smart watch |       327.75|             0|           1/16/2018 11:45|Standard Class|\n",
      "| PAYMENT|                       2|                            4|      134.2100067|            298.25| Advance shipping|                 0|         73|Sporting Goods|        Caguas|     Puerto Rico|     XXXXXXXXX|          Orli|      19489|     Hendricks|        XXXXXXXXX|       Corporate|            PR|8671 Iron Anchor ...|             725|            2|        Fitness|18.25376892|-66.03704834|Pacific Asia|Townsville|    Australia|            19489|        1/13/2018 11:24|   75936|                  1360|               29.5|             0.090000004|       179251|                  327.75|            0.449999988|                  1|327.75|          298.25|           134.2100067|       Oceania|          Queensland|PENDING_PAYMENT|         NULL|           1360|                 73|               NULL|http://images.acm...|Smart watch |       327.75|             0|           1/15/2018 11:24|Standard Class|\n",
      "|TRANSFER|                       6|                            4|      18.57999992|        294.980011|Shipping canceled|                 0|         73|Sporting Goods|     Tonawanda|         EE. UU.|     XXXXXXXXX|      Kimberly|      19488|       Flowers|        XXXXXXXXX|        Consumer|            NY|    2122 Hazy Corner|           14150|            2|        Fitness|43.01396942|-78.87906647|Pacific Asia| Toowoomba|    Australia|            19488|        1/13/2018 11:03|   75935|                  1360|        32.77999878|             0.100000001|       179250|                  327.75|            0.059999999|                  1|327.75|      294.980011|           18.57999992|       Oceania|          Queensland|       CANCELED|         NULL|           1360|                 73|               NULL|http://images.acm...|Smart watch |       327.75|             0|           1/19/2018 11:03|Standard Class|\n",
      "|   DEBIT|                       2|                            1|      95.18000031|       288.4200134|    Late delivery|                 1|         73|Sporting Goods|        Caguas|     Puerto Rico|     XXXXXXXXX|     Constance|      19487|       Terrell|        XXXXXXXXX|     Home Office|            PR|1879 Green Pine Bank|             725|            2|        Fitness|18.24253845|-66.03705597|Pacific Asia| Guangzhou|        China|            19487|        1/13/2018 10:42|   75934|                  1360|        39.33000183|             0.119999997|       179249|                  327.75|            0.330000013|                  1|327.75|     288.4200134|           95.18000031|  Eastern Asia|           Guangdong|       COMPLETE|         NULL|           1360|                 73|               NULL|http://images.acm...|Smart watch |       327.75|             0|           1/15/2018 10:42|   First Class|\n",
      "|TRANSFER|                       2|                            1|      68.43000031|       285.1400146|    Late delivery|                 1|         73|Sporting Goods|         Miami|         EE. UU.|     XXXXXXXXX|         Erica|      19486|       Stevens|        XXXXXXXXX|       Corporate|            FL| 7595 Cotton Log Row|           33162|            2|        Fitness|25.92886925|-80.16287231|Pacific Asia| Guangzhou|        China|            19486|        1/13/2018 10:21|   75933|                  1360|        42.61000061|             0.129999995|       179248|                  327.75|            0.239999995|                  1|327.75|     285.1400146|           68.43000031|  Eastern Asia|           Guangdong|     PROCESSING|         NULL|           1360|                 73|               NULL|http://images.acm...|Smart watch |       327.75|             0|           1/15/2018 10:21|   First Class|\n",
      "|    CASH|                       3|                            2|      133.7200012|       278.5899963|    Late delivery|                 1|         73|Sporting Goods|        Caguas|     Puerto Rico|     XXXXXXXXX|       Nichole|      19485|         Olsen|        XXXXXXXXX|       Corporate|            PR|    2051 Dusty Route|             725|            2|        Fitness|18.23322296|-66.03705597|Pacific Asia| Guangzhou|        China|            19485|        1/13/2018 10:00|   75932|                  1360|        49.15999985|             0.150000006|       179247|                  327.75|            0.479999989|                  1|327.75|     278.5899963|           133.7200012|  Eastern Asia|           Guangdong|         CLOSED|         NULL|           1360|                 73|               NULL|http://images.acm...|Smart watch |       327.75|             0|           1/16/2018 10:00|  Second Class|\n",
      "|    CASH|                       2|                            1|      132.1499939|       275.3099976|    Late delivery|                 1|         73|Sporting Goods|     San Ramon|         EE. UU.|     XXXXXXXXX|         Oprah|      19484|      Delacruz|        XXXXXXXXX|       Corporate|            CA|9139 Blue Blossom...|           94583|            2|        Fitness|37.77399063| -121.966629|Pacific Asia| Guangzhou|        China|            19484|         1/13/2018 9:39|   75931|                  1360|        52.43999863|             0.159999996|       179246|                  327.75|            0.479999989|                  1|327.75|     275.3099976|           132.1499939|  Eastern Asia|           Guangdong|         CLOSED|         NULL|           1360|                 73|               NULL|http://images.acm...|Smart watch |       327.75|             0|            1/15/2018 9:39|   First Class|\n",
      "|TRANSFER|                       6|                            2|      130.5800018|       272.0299988|Shipping canceled|                 0|         73|Sporting Goods|        Caguas|     Puerto Rico|     XXXXXXXXX|       Germane|      19483|         Short|        XXXXXXXXX|       Corporate|            PR|  4058 Quiet Heights|             725|            2|        Fitness|18.28284454|-66.03705597|Pacific Asia|     Tokio|        Japón|            19483|         1/13/2018 9:18|   75930|                  1360|        55.72000122|             0.170000002|       179245|                  327.75|            0.479999989|                  1|327.75|     272.0299988|           130.5800018|  Eastern Asia|               Tokio|SUSPECTED_FRAUD|         NULL|           1360|                 73|               NULL|http://images.acm...|Smart watch |       327.75|             0|            1/19/2018 9:18|  Second Class|\n",
      "|TRANSFER|                       5|                            2|      45.68999863|       268.7600098|    Late delivery|                 1|         73|Sporting Goods|      Freeport|         EE. UU.|     XXXXXXXXX|         Freya|      19482|       Robbins|        XXXXXXXXX|        Consumer|            NY|   3243 Shady Corner|           11520|            2|        Fitness|40.65486527|-73.58707428|Pacific Asia|    Manado|    Indonesia|            19482|         1/13/2018 8:57|   75929|                  1360|               59.0|             0.180000007|       179244|                  327.75|            0.170000002|                  1|327.75|     268.7600098|           45.68999863|Southeast Asia|Célebes Septentri...|        PENDING|         NULL|           1360|                 73|               NULL|http://images.acm...|Smart watch |       327.75|             0|            1/18/2018 8:57|  Second Class|\n",
      "|TRANSFER|                       4|                            2|      21.76000023|       262.2000122|    Late delivery|                 1|         73|Sporting Goods|       Salinas|         EE. UU.|     XXXXXXXXX|     Cassandra|      19481|        Jensen|        XXXXXXXXX|       Corporate|            CA|131 Sunny Treasur...|           93905|            2|        Fitness| 36.6763382| -121.656517|Pacific Asia|    Manado|    Indonesia|            19481|         1/13/2018 8:36|   75928|                  1360|        65.55000305|             0.200000003|       179243|                  327.75|            0.079999998|                  1|327.75|     262.2000122|           21.76000023|Southeast Asia|Célebes Septentri...|        PENDING|         NULL|           1360|                 73|               NULL|http://images.acm...|Smart watch |       327.75|             0|            1/17/2018 8:36|  Second Class|\n",
      "|   DEBIT|                       2|                            1|      24.57999992|       245.8099976|    Late delivery|                 1|         73|Sporting Goods|        Caguas|     Puerto Rico|     XXXXXXXXX|       Natalie|      19480|      Mcfadden|        XXXXXXXXX|       Corporate|            PR| 2531 Wishing Square|             725|            2|        Fitness|18.27843857|-66.03705597|Pacific Asia|    Sangli|        India|            19480|         1/13/2018 8:15|   75927|                  1360|        81.94000244|                    0.25|       179242|                  327.75|            0.100000001|                  1|327.75|     245.8099976|           24.57999992|    South Asia|         Maharashtra|       COMPLETE|         NULL|           1360|                 73|               NULL|http://images.acm...|Smart watch |       327.75|             0|            1/15/2018 8:15|   First Class|\n",
      "|TRANSFER|                       2|                            1|      16.38999939|            327.75|    Late delivery|                 1|         73|Sporting Goods|       Peabody|         EE. UU.|     XXXXXXXXX|     Kimberley|      19479|        Sharpe|        XXXXXXXXX|       Corporate|            MA|  6417 Silver Towers|            1960|            2|        Fitness|42.52627564|-70.92703247|Pacific Asia|    Sangli|        India|            19479|         1/13/2018 7:54|   75926|                  1360|                0.0|                     0.0|       179241|                  327.75|            0.050000001|                  1|327.75|          327.75|           16.38999939|    South Asia|         Maharashtra|     PROCESSING|         NULL|           1360|                 73|               NULL|http://images.acm...|Smart watch |       327.75|             0|            1/15/2018 7:54|   First Class|\n",
      "|   DEBIT|                       2|                            1|     -259.5799866|       324.4700012|    Late delivery|                 1|         73|Sporting Goods|        Caguas|     Puerto Rico|     XXXXXXXXX|          Sade|      19478|     Lancaster|        XXXXXXXXX|       Corporate|            PR|   257 Harvest Close|             725|            2|        Fitness|18.28404999|-66.03705597|Pacific Asia|    Sangli|        India|            19478|         1/13/2018 7:33|   75925|                  1360|        3.279999971|                    0.01|       179240|                  327.75|           -0.800000012|                  1|327.75|     324.4700012|          -259.5799866|    South Asia|         Maharashtra|       COMPLETE|         NULL|           1360|                 73|               NULL|http://images.acm...|Smart watch |       327.75|             0|            1/15/2018 7:33|   First Class|\n",
      "| PAYMENT|                       5|                            2|     -246.3600006|       321.2000122|    Late delivery|                 1|         73|Sporting Goods|     Canovanas|     Puerto Rico|     XXXXXXXXX|        Brynne|      19477|         Giles|        XXXXXXXXX|       Corporate|            PR|7342 Hazy Beacon ...|             729|            2|        Fitness| 18.3957901|-65.87288666|Pacific Asia|      Seúl|Corea del Sur|            19477|         1/13/2018 7:12|   75924|                  1360|        6.559999943|                    0.02|       179239|                  327.75|           -0.769999981|                  1|327.75|     321.2000122|          -246.3600006|  Eastern Asia|                Seúl|PENDING_PAYMENT|         NULL|           1360|                 73|               NULL|http://images.acm...|Smart watch |       327.75|             0|            1/18/2018 7:12|  Second Class|\n",
      "|    CASH|                       2|                            1|      23.84000015|       317.9200134|    Late delivery|                 1|         73|Sporting Goods|     Paramount|         EE. UU.|     XXXXXXXXX|         Ciara|      19476|          Bird|        XXXXXXXXX|       Corporate|            CA|   7787 Lazy Corners|           90723|            2|        Fitness|33.89869309|-118.1745605|Pacific Asia|  Jabalpur|        India|            19476|         1/13/2018 6:51|   75923|                  1360|        9.829999924|             0.029999999|       179238|                  327.75|            0.079999998|                  1|327.75|     317.9200134|           23.84000015|    South Asia|      Madhya Pradesh|         CLOSED|         NULL|           1360|                 73|               NULL|http://images.acm...|Smart watch |       327.75|             0|            1/15/2018 6:51|   First Class|\n",
      "|   DEBIT|                       2|                            1|      102.2600021|       314.6400146|    Late delivery|                 1|         73|Sporting Goods|        Caguas|     Puerto Rico|     XXXXXXXXX|            Bo|      19475|       Griffin|        XXXXXXXXX|        Consumer|            PR|5136 Rustic Pione...|             725|            2|        Fitness|  18.233778| -66.0370636|Pacific Asia|  Jabalpur|        India|            19475|         1/13/2018 6:30|   75922|                  1360|        13.10999966|             0.039999999|       179237|                  327.75|            0.330000013|                  1|327.75|     314.6400146|           102.2600021|    South Asia|      Madhya Pradesh|       COMPLETE|         NULL|           1360|                 73|               NULL|http://images.acm...|Smart watch |       327.75|             0|            1/15/2018 6:30|   First Class|\n",
      "| PAYMENT|                       0|                            0|      87.18000031|       311.3599854| Shipping on time|                 0|         73|Sporting Goods|Mount Prospect|         EE. UU.|     XXXXXXXXX|           Kim|      19474|         Simon|        XXXXXXXXX|        Consumer|            IL|      1723 Tawny Via|           60056|            2|        Fitness|42.04830551|-87.96134186|Pacific Asia|  Jabalpur|        India|            19474|         1/13/2018 6:09|   75921|                  1360|        16.38999939|             0.050000001|       179236|                  327.75|            0.280000001|                  1|327.75|     311.3599854|           87.18000031|    South Asia|      Madhya Pradesh|PENDING_PAYMENT|         NULL|           1360|                 73|               NULL|http://images.acm...|Smart watch |       327.75|             0|           1/13/2018 18:09|      Same Day|\n",
      "+--------+------------------------+-----------------------------+-----------------+------------------+-----------------+------------------+-----------+--------------+--------------+----------------+--------------+--------------+-----------+--------------+-----------------+----------------+--------------+--------------------+----------------+-------------+---------------+-----------+------------+------------+----------+-------------+-----------------+-----------------------+--------+----------------------+-------------------+------------------------+-------------+------------------------+-----------------------+-------------------+------+----------------+----------------------+--------------+--------------------+---------------+-------------+---------------+-------------------+-------------------+--------------------+------------+-------------+--------------+--------------------------+--------------+\n",
      "only showing top 20 rows\n",
      "\n"
     ]
    },
    {
     "name": "stderr",
     "output_type": "stream",
     "text": [
      "\r\n",
      "                                                                                \r"
     ]
    }
   ],
   "source": [
    "data.show()"
   ]
  },
  {
   "cell_type": "markdown",
   "id": "4394273d",
   "metadata": {},
   "source": [
    "## 2. Mô tả và schema của dữ liệu thô"
   ]
  },
  {
   "cell_type": "markdown",
   "id": "f3658cac",
   "metadata": {},
   "source": [
    "### Mô tả đối với các cột dữ liệu số"
   ]
  },
  {
   "cell_type": "code",
   "execution_count": 3,
   "id": "c2d9d5ac",
   "metadata": {},
   "outputs": [
    {
     "data": {
      "text/plain": [
       "[('Type', 'string'),\n",
       " ('Days for shipping (real)', 'int'),\n",
       " ('Days for shipment (scheduled)', 'int'),\n",
       " ('Benefit per order', 'double'),\n",
       " ('Sales per customer', 'double'),\n",
       " ('Delivery Status', 'string'),\n",
       " ('Late_delivery_risk', 'int'),\n",
       " ('Category Id', 'int'),\n",
       " ('Category Name', 'string'),\n",
       " ('Customer City', 'string'),\n",
       " ('Customer Country', 'string'),\n",
       " ('Customer Email', 'string'),\n",
       " ('Customer Fname', 'string'),\n",
       " ('Customer Id', 'int'),\n",
       " ('Customer Lname', 'string'),\n",
       " ('Customer Password', 'string'),\n",
       " ('Customer Segment', 'string'),\n",
       " ('Customer State', 'string'),\n",
       " ('Customer Street', 'string'),\n",
       " ('Customer Zipcode', 'int'),\n",
       " ('Department Id', 'int'),\n",
       " ('Department Name', 'string'),\n",
       " ('Latitude', 'double'),\n",
       " ('Longitude', 'double'),\n",
       " ('Market', 'string'),\n",
       " ('Order City', 'string'),\n",
       " ('Order Country', 'string'),\n",
       " ('Order Customer Id', 'int'),\n",
       " ('order date (DateOrders)', 'string'),\n",
       " ('Order Id', 'int'),\n",
       " ('Order Item Cardprod Id', 'int'),\n",
       " ('Order Item Discount', 'double'),\n",
       " ('Order Item Discount Rate', 'double'),\n",
       " ('Order Item Id', 'int'),\n",
       " ('Order Item Product Price', 'double'),\n",
       " ('Order Item Profit Ratio', 'double'),\n",
       " ('Order Item Quantity', 'int'),\n",
       " ('Sales', 'double'),\n",
       " ('Order Item Total', 'double'),\n",
       " ('Order Profit Per Order', 'double'),\n",
       " ('Order Region', 'string'),\n",
       " ('Order State', 'string'),\n",
       " ('Order Status', 'string'),\n",
       " ('Order Zipcode', 'int'),\n",
       " ('Product Card Id', 'int'),\n",
       " ('Product Category Id', 'int'),\n",
       " ('Product Description', 'string'),\n",
       " ('Product Image', 'string'),\n",
       " ('Product Name', 'string'),\n",
       " ('Product Price', 'double'),\n",
       " ('Product Status', 'int'),\n",
       " ('shipping date (DateOrders)', 'string'),\n",
       " ('Shipping Mode', 'string')]"
      ]
     },
     "execution_count": 3,
     "metadata": {},
     "output_type": "execute_result"
    }
   ],
   "source": [
    "# Thuộc tính dtypes của Dataframe\n",
    "data.dtypes"
   ]
  },
  {
   "cell_type": "code",
   "execution_count": 4,
   "id": "047671c0",
   "metadata": {},
   "outputs": [
    {
     "name": "stderr",
     "output_type": "stream",
     "text": [
      "[Stage 6:>                                                          (0 + 1) / 1]\r"
     ]
    },
    {
     "name": "stdout",
     "output_type": "stream",
     "text": [
      "+-------+------------------------+-----------------------------+------------------+------------------+------------------+------------------+-----------------+-----------------+------------------+-----------------+------------------+-----------------+-----------------+----------------------+-------------------+------------------------+-----------------+------------------------+-----------------------+-------------------+------------------+------------------+----------------------+------------------+-----------------+-------------------+------------------+--------------+\n",
      "|summary|Days for shipping (real)|Days for shipment (scheduled)| Benefit per order|Sales per customer|Late_delivery_risk|       Category Id|      Customer Id| Customer Zipcode|     Department Id|         Latitude|         Longitude|Order Customer Id|         Order Id|Order Item Cardprod Id|Order Item Discount|Order Item Discount Rate|    Order Item Id|Order Item Product Price|Order Item Profit Ratio|Order Item Quantity|             Sales|  Order Item Total|Order Profit Per Order|     Order Zipcode|  Product Card Id|Product Category Id|     Product Price|Product Status|\n",
      "+-------+------------------------+-----------------------------+------------------+------------------+------------------+------------------+-----------------+-----------------+------------------+-----------------+------------------+-----------------+-----------------+----------------------+-------------------+------------------------+-----------------+------------------------+-----------------------+-------------------+------------------+------------------+----------------------+------------------+-----------------+-------------------+------------------+--------------+\n",
      "|  count|                  180519|                       180519|            180519|            180519|            180519|            180519|           180519|           180516|            180519|           180519|            180519|           180519|           180519|                180519|             180519|                  180519|           180519|                  180519|                 180519|             180519|            180519|            180519|                180519|             24840|           180519|             180519|            180519|        180519|\n",
      "|   mean|      3.4976539865609713|            2.931846509231715|21.974988638593125|183.10760850777316|0.5482913155955883| 31.85145053983237| 6691.37949467923|35921.12691395776| 5.443460245181948| 29.7199546620736|-84.91567468784329| 6691.37949467923| 36221.8949030296|     692.5097635151978| 20.664741121945113|     0.10166819055204027|          90260.0|       141.2325499287293|     0.1206466354902746|  2.127637533999191|203.77209608614436|183.10760850777316|    21.974988638593125| 55426.13232689211|692.5097635151978|  31.85145053983237| 141.2325499287293|           0.0|\n",
      "| stddev|      1.6237218283741663|           1.3744492800079782|104.43352574698653|120.04367002812559|0.4976638632880924|15.640063883389177|4162.918105728266|37542.46112229251|1.6292460350717755|9.813646326922855| 21.43324120028373|4162.918105728266|21045.37956885945|     336.4468073302184| 21.800900954295876|     0.07041521532547643|52111.49095928845|      139.73249200374258|     0.4667956046074936| 1.4534514814226422|132.27307749970336|120.04367002812559|    104.43352574698653|31919.279100725296|336.4468073302184| 15.640063883389177|139.73249200374258|           0.0|\n",
      "|    min|                       0|                            0|       -4274.97998|       7.489999771|                 0|                 2|                1|              603|                 2|     -33.93755341|      -158.0259857|                1|                1|                    19|                0.0|                     0.0|                1|             9.989999771|                  -2.75|                  1|       9.989999771|       7.489999771|           -4274.97998|              1040|               19|                  2|       9.989999771|             0|\n",
      "|    max|                       6|                            4|       911.7999878|        1939.98999|                 1|                76|            20757|            99205|                12|      48.78193283|       115.2630768|            20757|            77204|                  1363|              500.0|                    0.25|           180519|              1999.98999|                    0.5|                  5|        1999.98999|        1939.98999|           911.7999878|             99301|             1363|                 76|        1999.98999|             0|\n",
      "+-------+------------------------+-----------------------------+------------------+------------------+------------------+------------------+-----------------+-----------------+------------------+-----------------+------------------+-----------------+-----------------+----------------------+-------------------+------------------------+-----------------+------------------------+-----------------------+-------------------+------------------+------------------+----------------------+------------------+-----------------+-------------------+------------------+--------------+\n",
      "\n"
     ]
    },
    {
     "name": "stderr",
     "output_type": "stream",
     "text": [
      "\r\n",
      "                                                                                \r"
     ]
    }
   ],
   "source": [
    "# Lọc qua danh sách các loại dữ liệu của Dataframe,\n",
    "# đây là các mảng gồm các tuple với index đầu của tuple là tên cột, index thứ hai là kiểu dữ liệu\n",
    "# Xét index thứ hai xem có chứa string hay không, nếu có thì lấy tên cột (index đầu)\n",
    "numericColumns = [item[0] for item in data.dtypes if not item[1].startswith('string')]\n",
    "# Sử dụng câu lệnh select trên Dataframe, đối với mỗi tên cột trong danh sách cột numericColumns, \n",
    "# gọi hàm col(tên cột) để lấy giá trị tại cột đó\n",
    "# Câu lệnh select cuối cùng sẽ có dạng: \n",
    "# data.select([ col('Daysforshipping_real_') , col('Daysforshipment_scheduled_) , ... ])\n",
    "data.select([col(c) for c in numericColumns]).describe().show() "
   ]
  },
  {
   "cell_type": "markdown",
   "id": "d679a0f4",
   "metadata": {},
   "source": [
    "### Schema của dữ liệu"
   ]
  },
  {
   "cell_type": "code",
   "execution_count": 6,
   "id": "3d57b60f-6793-4ba7-b4b7-7841b939e8bb",
   "metadata": {},
   "outputs": [
    {
     "name": "stdout",
     "output_type": "stream",
     "text": [
      "root\n",
      " |-- Type: string (nullable = true)\n",
      " |-- Days for shipping (real): integer (nullable = true)\n",
      " |-- Days for shipment (scheduled): integer (nullable = true)\n",
      " |-- Benefit per order: double (nullable = true)\n",
      " |-- Sales per customer: double (nullable = true)\n",
      " |-- Delivery Status: string (nullable = true)\n",
      " |-- Late_delivery_risk: integer (nullable = true)\n",
      " |-- Category Id: integer (nullable = true)\n",
      " |-- Category Name: string (nullable = true)\n",
      " |-- Customer City: string (nullable = true)\n",
      " |-- Customer Country: string (nullable = true)\n",
      " |-- Customer Email: string (nullable = true)\n",
      " |-- Customer Fname: string (nullable = true)\n",
      " |-- Customer Id: integer (nullable = true)\n",
      " |-- Customer Lname: string (nullable = true)\n",
      " |-- Customer Password: string (nullable = true)\n",
      " |-- Customer Segment: string (nullable = true)\n",
      " |-- Customer State: string (nullable = true)\n",
      " |-- Customer Street: string (nullable = true)\n",
      " |-- Customer Zipcode: integer (nullable = true)\n",
      " |-- Department Id: integer (nullable = true)\n",
      " |-- Department Name: string (nullable = true)\n",
      " |-- Latitude: double (nullable = true)\n",
      " |-- Longitude: double (nullable = true)\n",
      " |-- Market: string (nullable = true)\n",
      " |-- Order City: string (nullable = true)\n",
      " |-- Order Country: string (nullable = true)\n",
      " |-- Order Customer Id: integer (nullable = true)\n",
      " |-- order date (DateOrders): string (nullable = true)\n",
      " |-- Order Id: integer (nullable = true)\n",
      " |-- Order Item Cardprod Id: integer (nullable = true)\n",
      " |-- Order Item Discount: double (nullable = true)\n",
      " |-- Order Item Discount Rate: double (nullable = true)\n",
      " |-- Order Item Id: integer (nullable = true)\n",
      " |-- Order Item Product Price: double (nullable = true)\n",
      " |-- Order Item Profit Ratio: double (nullable = true)\n",
      " |-- Order Item Quantity: integer (nullable = true)\n",
      " |-- Sales: double (nullable = true)\n",
      " |-- Order Item Total: double (nullable = true)\n",
      " |-- Order Profit Per Order: double (nullable = true)\n",
      " |-- Order Region: string (nullable = true)\n",
      " |-- Order State: string (nullable = true)\n",
      " |-- Order Status: string (nullable = true)\n",
      " |-- Order Zipcode: integer (nullable = true)\n",
      " |-- Product Card Id: integer (nullable = true)\n",
      " |-- Product Category Id: integer (nullable = true)\n",
      " |-- Product Description: string (nullable = true)\n",
      " |-- Product Image: string (nullable = true)\n",
      " |-- Product Name: string (nullable = true)\n",
      " |-- Product Price: double (nullable = true)\n",
      " |-- Product Status: integer (nullable = true)\n",
      " |-- shipping date (DateOrders): string (nullable = true)\n",
      " |-- Shipping Mode: string (nullable = true)\n",
      "\n"
     ]
    }
   ],
   "source": [
    "data.printSchema()"
   ]
  },
  {
   "cell_type": "markdown",
   "id": "2a9ea595-9944-4e0d-9069-af9c81bd27ba",
   "metadata": {},
   "source": [
    "# Tiền xử lý dữ liệu"
   ]
  },
  {
   "cell_type": "markdown",
   "id": "97bff58b-c558-4108-b215-df496873795c",
   "metadata": {
    "jp-MarkdownHeadingCollapsed": true
   },
   "source": [
    "## 1. Xử lý tên cột"
   ]
  },
  {
   "cell_type": "markdown",
   "id": "fa16452c",
   "metadata": {},
   "source": [
    "### Loại bỏ khoảng trắng trong tên cột và thay thế ký tự đóng ngoặc, mở ngoặc bằng dấu gạch dưới"
   ]
  },
  {
   "cell_type": "code",
   "execution_count": 7,
   "id": "1d38371e",
   "metadata": {},
   "outputs": [
    {
     "data": {
      "text/plain": [
       "['Type',\n",
       " 'Days for shipping (real)',\n",
       " 'Days for shipment (scheduled)',\n",
       " 'Benefit per order',\n",
       " 'Sales per customer',\n",
       " 'Delivery Status',\n",
       " 'Late_delivery_risk',\n",
       " 'Category Id',\n",
       " 'Category Name',\n",
       " 'Customer City',\n",
       " 'Customer Country',\n",
       " 'Customer Email',\n",
       " 'Customer Fname',\n",
       " 'Customer Id',\n",
       " 'Customer Lname',\n",
       " 'Customer Password',\n",
       " 'Customer Segment',\n",
       " 'Customer State',\n",
       " 'Customer Street',\n",
       " 'Customer Zipcode',\n",
       " 'Department Id',\n",
       " 'Department Name',\n",
       " 'Latitude',\n",
       " 'Longitude',\n",
       " 'Market',\n",
       " 'Order City',\n",
       " 'Order Country',\n",
       " 'Order Customer Id',\n",
       " 'order date (DateOrders)',\n",
       " 'Order Id',\n",
       " 'Order Item Cardprod Id',\n",
       " 'Order Item Discount',\n",
       " 'Order Item Discount Rate',\n",
       " 'Order Item Id',\n",
       " 'Order Item Product Price',\n",
       " 'Order Item Profit Ratio',\n",
       " 'Order Item Quantity',\n",
       " 'Sales',\n",
       " 'Order Item Total',\n",
       " 'Order Profit Per Order',\n",
       " 'Order Region',\n",
       " 'Order State',\n",
       " 'Order Status',\n",
       " 'Order Zipcode',\n",
       " 'Product Card Id',\n",
       " 'Product Category Id',\n",
       " 'Product Description',\n",
       " 'Product Image',\n",
       " 'Product Name',\n",
       " 'Product Price',\n",
       " 'Product Status',\n",
       " 'shipping date (DateOrders)',\n",
       " 'Shipping Mode']"
      ]
     },
     "execution_count": 7,
     "metadata": {},
     "output_type": "execute_result"
    }
   ],
   "source": [
    "# Thuộc tính data.columns của Dataframe\n",
    "data.columns"
   ]
  },
  {
   "cell_type": "code",
   "execution_count": 8,
   "id": "0e930e89-03aa-491a-9a7f-892c302dbbc7",
   "metadata": {},
   "outputs": [],
   "source": [
    "# Tạo một dataframe khác là bản sao của data được đọc lên để dễ phân biệt\n",
    "df = data\n",
    "for col in data.columns :\n",
    "    # Đối với mỗi cột trong danh sách cột\n",
    "    # Thay đổi tên cột đó bằng tên cột mới\n",
    "    # Hàm replace(python) chỉ được thực thi khi giá trị tìm kiếm \n",
    "    # (tham số thứ nhất) có tồn tại nếu không nó trả về chuỗi ban đầu. \n",
    "    # Nếu có nó sẽ thay mọi nơi xuất hiện tham số thứ nhất bằng tham số thứ hai\n",
    "    df = df.withColumnRenamed(col, col.replace(\" \", \"\").replace(\"(\", \"_\").replace(\")\",\"_\"))"
   ]
  },
  {
   "cell_type": "markdown",
   "id": "b8d1b0c8",
   "metadata": {},
   "source": [
    "### Dữ liệu sau khi được đặt lại các tên cột"
   ]
  },
  {
   "cell_type": "code",
   "execution_count": 9,
   "id": "1f7855af-0c1f-4609-8887-3b691b3b8dde",
   "metadata": {
    "scrolled": true
   },
   "outputs": [
    {
     "name": "stdout",
     "output_type": "stream",
     "text": [
      "+--------+---------------------+--------------------------+---------------+----------------+-----------------+------------------+----------+--------------+--------------+---------------+-------------+-------------+----------+-------------+----------------+---------------+-------------+--------------------+---------------+------------+--------------+-----------+------------+------------+----------+-------------+---------------+---------------------+-------+-------------------+-----------------+---------------------+-----------+---------------------+--------------------+-----------------+------+--------------+-------------------+--------------+--------------------+---------------+------------+-------------+-----------------+------------------+--------------------+------------+------------+-------------+------------------------+--------------+\n",
      "|    Type|Daysforshipping_real_|Daysforshipment_scheduled_|Benefitperorder|Salespercustomer|   DeliveryStatus|Late_delivery_risk|CategoryId|  CategoryName|  CustomerCity|CustomerCountry|CustomerEmail|CustomerFname|CustomerId|CustomerLname|CustomerPassword|CustomerSegment|CustomerState|      CustomerStreet|CustomerZipcode|DepartmentId|DepartmentName|   Latitude|   Longitude|      Market| OrderCity| OrderCountry|OrderCustomerId|orderdate_DateOrders_|OrderId|OrderItemCardprodId|OrderItemDiscount|OrderItemDiscountRate|OrderItemId|OrderItemProductPrice|OrderItemProfitRatio|OrderItemQuantity| Sales|OrderItemTotal|OrderProfitPerOrder|   OrderRegion|          OrderState|    OrderStatus|OrderZipcode|ProductCardId|ProductCategoryId|ProductDescription|        ProductImage| ProductName|ProductPrice|ProductStatus|shippingdate_DateOrders_|  ShippingMode|\n",
      "+--------+---------------------+--------------------------+---------------+----------------+-----------------+------------------+----------+--------------+--------------+---------------+-------------+-------------+----------+-------------+----------------+---------------+-------------+--------------------+---------------+------------+--------------+-----------+------------+------------+----------+-------------+---------------+---------------------+-------+-------------------+-----------------+---------------------+-----------+---------------------+--------------------+-----------------+------+--------------+-------------------+--------------+--------------------+---------------+------------+-------------+-----------------+------------------+--------------------+------------+------------+-------------+------------------------+--------------+\n",
      "|   DEBIT|                    3|                         4|          91.25|     314.6400146| Advance shipping|                 0|        73|Sporting Goods|        Caguas|    Puerto Rico|    XXXXXXXXX|        Cally|     20755|     Holloway|       XXXXXXXXX|       Consumer|           PR|5365 Noble Nectar...|            725|           2|       Fitness| 18.2514534|-66.03705597|Pacific Asia|    Bekasi|    Indonesia|          20755|      1/31/2018 22:56|  77202|               1360|      13.10999966|          0.039999999|     180517|               327.75|         0.289999992|                1|327.75|   314.6400146|              91.25|Southeast Asia|     Java Occidental|       COMPLETE|        NULL|         1360|               73|              NULL|http://images.acm...|Smart watch |      327.75|            0|          2/3/2018 22:56|Standard Class|\n",
      "|TRANSFER|                    5|                         4|   -249.0899963|     311.3599854|    Late delivery|                 1|        73|Sporting Goods|        Caguas|    Puerto Rico|    XXXXXXXXX|        Irene|     19492|         Luna|       XXXXXXXXX|       Consumer|           PR|    2679 Rustic Loop|            725|           2|       Fitness|18.27945137| -66.0370636|Pacific Asia|   Bikaner|        India|          19492|      1/13/2018 12:27|  75939|               1360|      16.38999939|          0.050000001|     179254|               327.75|        -0.800000012|                1|327.75|   311.3599854|       -249.0899963|    South Asia|            Rajastán|        PENDING|        NULL|         1360|               73|              NULL|http://images.acm...|Smart watch |      327.75|            0|         1/18/2018 12:27|Standard Class|\n",
      "|    CASH|                    4|                         4|   -247.7799988|     309.7200012| Shipping on time|                 0|        73|Sporting Goods|      San Jose|        EE. UU.|    XXXXXXXXX|      Gillian|     19491|    Maldonado|       XXXXXXXXX|       Consumer|           CA|8510 Round Bear Gate|          95125|           2|       Fitness|37.29223251| -121.881279|Pacific Asia|   Bikaner|        India|          19491|      1/13/2018 12:06|  75938|               1360|      18.03000069|          0.059999999|     179253|               327.75|        -0.800000012|                1|327.75|   309.7200012|       -247.7799988|    South Asia|            Rajastán|         CLOSED|        NULL|         1360|               73|              NULL|http://images.acm...|Smart watch |      327.75|            0|         1/17/2018 12:06|Standard Class|\n",
      "|   DEBIT|                    3|                         4|    22.86000061|     304.8099976| Advance shipping|                 0|        73|Sporting Goods|   Los Angeles|        EE. UU.|    XXXXXXXXX|         Tana|     19490|         Tate|       XXXXXXXXX|    Home Office|           CA|     3200 Amber Bend|          90027|           2|       Fitness|34.12594605|-118.2910156|Pacific Asia|Townsville|    Australia|          19490|      1/13/2018 11:45|  75937|               1360|      22.94000053|                 0.07|     179252|               327.75|         0.079999998|                1|327.75|   304.8099976|        22.86000061|       Oceania|          Queensland|       COMPLETE|        NULL|         1360|               73|              NULL|http://images.acm...|Smart watch |      327.75|            0|         1/16/2018 11:45|Standard Class|\n",
      "| PAYMENT|                    2|                         4|    134.2100067|          298.25| Advance shipping|                 0|        73|Sporting Goods|        Caguas|    Puerto Rico|    XXXXXXXXX|         Orli|     19489|    Hendricks|       XXXXXXXXX|      Corporate|           PR|8671 Iron Anchor ...|            725|           2|       Fitness|18.25376892|-66.03704834|Pacific Asia|Townsville|    Australia|          19489|      1/13/2018 11:24|  75936|               1360|             29.5|          0.090000004|     179251|               327.75|         0.449999988|                1|327.75|        298.25|        134.2100067|       Oceania|          Queensland|PENDING_PAYMENT|        NULL|         1360|               73|              NULL|http://images.acm...|Smart watch |      327.75|            0|         1/15/2018 11:24|Standard Class|\n",
      "|TRANSFER|                    6|                         4|    18.57999992|      294.980011|Shipping canceled|                 0|        73|Sporting Goods|     Tonawanda|        EE. UU.|    XXXXXXXXX|     Kimberly|     19488|      Flowers|       XXXXXXXXX|       Consumer|           NY|    2122 Hazy Corner|          14150|           2|       Fitness|43.01396942|-78.87906647|Pacific Asia| Toowoomba|    Australia|          19488|      1/13/2018 11:03|  75935|               1360|      32.77999878|          0.100000001|     179250|               327.75|         0.059999999|                1|327.75|    294.980011|        18.57999992|       Oceania|          Queensland|       CANCELED|        NULL|         1360|               73|              NULL|http://images.acm...|Smart watch |      327.75|            0|         1/19/2018 11:03|Standard Class|\n",
      "|   DEBIT|                    2|                         1|    95.18000031|     288.4200134|    Late delivery|                 1|        73|Sporting Goods|        Caguas|    Puerto Rico|    XXXXXXXXX|    Constance|     19487|      Terrell|       XXXXXXXXX|    Home Office|           PR|1879 Green Pine Bank|            725|           2|       Fitness|18.24253845|-66.03705597|Pacific Asia| Guangzhou|        China|          19487|      1/13/2018 10:42|  75934|               1360|      39.33000183|          0.119999997|     179249|               327.75|         0.330000013|                1|327.75|   288.4200134|        95.18000031|  Eastern Asia|           Guangdong|       COMPLETE|        NULL|         1360|               73|              NULL|http://images.acm...|Smart watch |      327.75|            0|         1/15/2018 10:42|   First Class|\n",
      "|TRANSFER|                    2|                         1|    68.43000031|     285.1400146|    Late delivery|                 1|        73|Sporting Goods|         Miami|        EE. UU.|    XXXXXXXXX|        Erica|     19486|      Stevens|       XXXXXXXXX|      Corporate|           FL| 7595 Cotton Log Row|          33162|           2|       Fitness|25.92886925|-80.16287231|Pacific Asia| Guangzhou|        China|          19486|      1/13/2018 10:21|  75933|               1360|      42.61000061|          0.129999995|     179248|               327.75|         0.239999995|                1|327.75|   285.1400146|        68.43000031|  Eastern Asia|           Guangdong|     PROCESSING|        NULL|         1360|               73|              NULL|http://images.acm...|Smart watch |      327.75|            0|         1/15/2018 10:21|   First Class|\n",
      "|    CASH|                    3|                         2|    133.7200012|     278.5899963|    Late delivery|                 1|        73|Sporting Goods|        Caguas|    Puerto Rico|    XXXXXXXXX|      Nichole|     19485|        Olsen|       XXXXXXXXX|      Corporate|           PR|    2051 Dusty Route|            725|           2|       Fitness|18.23322296|-66.03705597|Pacific Asia| Guangzhou|        China|          19485|      1/13/2018 10:00|  75932|               1360|      49.15999985|          0.150000006|     179247|               327.75|         0.479999989|                1|327.75|   278.5899963|        133.7200012|  Eastern Asia|           Guangdong|         CLOSED|        NULL|         1360|               73|              NULL|http://images.acm...|Smart watch |      327.75|            0|         1/16/2018 10:00|  Second Class|\n",
      "|    CASH|                    2|                         1|    132.1499939|     275.3099976|    Late delivery|                 1|        73|Sporting Goods|     San Ramon|        EE. UU.|    XXXXXXXXX|        Oprah|     19484|     Delacruz|       XXXXXXXXX|      Corporate|           CA|9139 Blue Blossom...|          94583|           2|       Fitness|37.77399063| -121.966629|Pacific Asia| Guangzhou|        China|          19484|       1/13/2018 9:39|  75931|               1360|      52.43999863|          0.159999996|     179246|               327.75|         0.479999989|                1|327.75|   275.3099976|        132.1499939|  Eastern Asia|           Guangdong|         CLOSED|        NULL|         1360|               73|              NULL|http://images.acm...|Smart watch |      327.75|            0|          1/15/2018 9:39|   First Class|\n",
      "|TRANSFER|                    6|                         2|    130.5800018|     272.0299988|Shipping canceled|                 0|        73|Sporting Goods|        Caguas|    Puerto Rico|    XXXXXXXXX|      Germane|     19483|        Short|       XXXXXXXXX|      Corporate|           PR|  4058 Quiet Heights|            725|           2|       Fitness|18.28284454|-66.03705597|Pacific Asia|     Tokio|        Japón|          19483|       1/13/2018 9:18|  75930|               1360|      55.72000122|          0.170000002|     179245|               327.75|         0.479999989|                1|327.75|   272.0299988|        130.5800018|  Eastern Asia|               Tokio|SUSPECTED_FRAUD|        NULL|         1360|               73|              NULL|http://images.acm...|Smart watch |      327.75|            0|          1/19/2018 9:18|  Second Class|\n",
      "|TRANSFER|                    5|                         2|    45.68999863|     268.7600098|    Late delivery|                 1|        73|Sporting Goods|      Freeport|        EE. UU.|    XXXXXXXXX|        Freya|     19482|      Robbins|       XXXXXXXXX|       Consumer|           NY|   3243 Shady Corner|          11520|           2|       Fitness|40.65486527|-73.58707428|Pacific Asia|    Manado|    Indonesia|          19482|       1/13/2018 8:57|  75929|               1360|             59.0|          0.180000007|     179244|               327.75|         0.170000002|                1|327.75|   268.7600098|        45.68999863|Southeast Asia|Célebes Septentri...|        PENDING|        NULL|         1360|               73|              NULL|http://images.acm...|Smart watch |      327.75|            0|          1/18/2018 8:57|  Second Class|\n",
      "|TRANSFER|                    4|                         2|    21.76000023|     262.2000122|    Late delivery|                 1|        73|Sporting Goods|       Salinas|        EE. UU.|    XXXXXXXXX|    Cassandra|     19481|       Jensen|       XXXXXXXXX|      Corporate|           CA|131 Sunny Treasur...|          93905|           2|       Fitness| 36.6763382| -121.656517|Pacific Asia|    Manado|    Indonesia|          19481|       1/13/2018 8:36|  75928|               1360|      65.55000305|          0.200000003|     179243|               327.75|         0.079999998|                1|327.75|   262.2000122|        21.76000023|Southeast Asia|Célebes Septentri...|        PENDING|        NULL|         1360|               73|              NULL|http://images.acm...|Smart watch |      327.75|            0|          1/17/2018 8:36|  Second Class|\n",
      "|   DEBIT|                    2|                         1|    24.57999992|     245.8099976|    Late delivery|                 1|        73|Sporting Goods|        Caguas|    Puerto Rico|    XXXXXXXXX|      Natalie|     19480|     Mcfadden|       XXXXXXXXX|      Corporate|           PR| 2531 Wishing Square|            725|           2|       Fitness|18.27843857|-66.03705597|Pacific Asia|    Sangli|        India|          19480|       1/13/2018 8:15|  75927|               1360|      81.94000244|                 0.25|     179242|               327.75|         0.100000001|                1|327.75|   245.8099976|        24.57999992|    South Asia|         Maharashtra|       COMPLETE|        NULL|         1360|               73|              NULL|http://images.acm...|Smart watch |      327.75|            0|          1/15/2018 8:15|   First Class|\n",
      "|TRANSFER|                    2|                         1|    16.38999939|          327.75|    Late delivery|                 1|        73|Sporting Goods|       Peabody|        EE. UU.|    XXXXXXXXX|    Kimberley|     19479|       Sharpe|       XXXXXXXXX|      Corporate|           MA|  6417 Silver Towers|           1960|           2|       Fitness|42.52627564|-70.92703247|Pacific Asia|    Sangli|        India|          19479|       1/13/2018 7:54|  75926|               1360|              0.0|                  0.0|     179241|               327.75|         0.050000001|                1|327.75|        327.75|        16.38999939|    South Asia|         Maharashtra|     PROCESSING|        NULL|         1360|               73|              NULL|http://images.acm...|Smart watch |      327.75|            0|          1/15/2018 7:54|   First Class|\n",
      "|   DEBIT|                    2|                         1|   -259.5799866|     324.4700012|    Late delivery|                 1|        73|Sporting Goods|        Caguas|    Puerto Rico|    XXXXXXXXX|         Sade|     19478|    Lancaster|       XXXXXXXXX|      Corporate|           PR|   257 Harvest Close|            725|           2|       Fitness|18.28404999|-66.03705597|Pacific Asia|    Sangli|        India|          19478|       1/13/2018 7:33|  75925|               1360|      3.279999971|                 0.01|     179240|               327.75|        -0.800000012|                1|327.75|   324.4700012|       -259.5799866|    South Asia|         Maharashtra|       COMPLETE|        NULL|         1360|               73|              NULL|http://images.acm...|Smart watch |      327.75|            0|          1/15/2018 7:33|   First Class|\n",
      "| PAYMENT|                    5|                         2|   -246.3600006|     321.2000122|    Late delivery|                 1|        73|Sporting Goods|     Canovanas|    Puerto Rico|    XXXXXXXXX|       Brynne|     19477|        Giles|       XXXXXXXXX|      Corporate|           PR|7342 Hazy Beacon ...|            729|           2|       Fitness| 18.3957901|-65.87288666|Pacific Asia|      Seúl|Corea del Sur|          19477|       1/13/2018 7:12|  75924|               1360|      6.559999943|                 0.02|     179239|               327.75|        -0.769999981|                1|327.75|   321.2000122|       -246.3600006|  Eastern Asia|                Seúl|PENDING_PAYMENT|        NULL|         1360|               73|              NULL|http://images.acm...|Smart watch |      327.75|            0|          1/18/2018 7:12|  Second Class|\n",
      "|    CASH|                    2|                         1|    23.84000015|     317.9200134|    Late delivery|                 1|        73|Sporting Goods|     Paramount|        EE. UU.|    XXXXXXXXX|        Ciara|     19476|         Bird|       XXXXXXXXX|      Corporate|           CA|   7787 Lazy Corners|          90723|           2|       Fitness|33.89869309|-118.1745605|Pacific Asia|  Jabalpur|        India|          19476|       1/13/2018 6:51|  75923|               1360|      9.829999924|          0.029999999|     179238|               327.75|         0.079999998|                1|327.75|   317.9200134|        23.84000015|    South Asia|      Madhya Pradesh|         CLOSED|        NULL|         1360|               73|              NULL|http://images.acm...|Smart watch |      327.75|            0|          1/15/2018 6:51|   First Class|\n",
      "|   DEBIT|                    2|                         1|    102.2600021|     314.6400146|    Late delivery|                 1|        73|Sporting Goods|        Caguas|    Puerto Rico|    XXXXXXXXX|           Bo|     19475|      Griffin|       XXXXXXXXX|       Consumer|           PR|5136 Rustic Pione...|            725|           2|       Fitness|  18.233778| -66.0370636|Pacific Asia|  Jabalpur|        India|          19475|       1/13/2018 6:30|  75922|               1360|      13.10999966|          0.039999999|     179237|               327.75|         0.330000013|                1|327.75|   314.6400146|        102.2600021|    South Asia|      Madhya Pradesh|       COMPLETE|        NULL|         1360|               73|              NULL|http://images.acm...|Smart watch |      327.75|            0|          1/15/2018 6:30|   First Class|\n",
      "| PAYMENT|                    0|                         0|    87.18000031|     311.3599854| Shipping on time|                 0|        73|Sporting Goods|Mount Prospect|        EE. UU.|    XXXXXXXXX|          Kim|     19474|        Simon|       XXXXXXXXX|       Consumer|           IL|      1723 Tawny Via|          60056|           2|       Fitness|42.04830551|-87.96134186|Pacific Asia|  Jabalpur|        India|          19474|       1/13/2018 6:09|  75921|               1360|      16.38999939|          0.050000001|     179236|               327.75|         0.280000001|                1|327.75|   311.3599854|        87.18000031|    South Asia|      Madhya Pradesh|PENDING_PAYMENT|        NULL|         1360|               73|              NULL|http://images.acm...|Smart watch |      327.75|            0|         1/13/2018 18:09|      Same Day|\n",
      "+--------+---------------------+--------------------------+---------------+----------------+-----------------+------------------+----------+--------------+--------------+---------------+-------------+-------------+----------+-------------+----------------+---------------+-------------+--------------------+---------------+------------+--------------+-----------+------------+------------+----------+-------------+---------------+---------------------+-------+-------------------+-----------------+---------------------+-----------+---------------------+--------------------+-----------------+------+--------------+-------------------+--------------+--------------------+---------------+------------+-------------+-----------------+------------------+--------------------+------------+------------+-------------+------------------------+--------------+\n",
      "only showing top 20 rows\n",
      "\n"
     ]
    }
   ],
   "source": [
    "df.show()"
   ]
  },
  {
   "cell_type": "markdown",
   "id": "cd6608dd-932b-4943-82bd-9362878d6ae6",
   "metadata": {},
   "source": [
    "## 2. Xử lý dữ liệu null và loại bỏ những thuộc tính không có giá trị phân tích"
   ]
  },
  {
   "cell_type": "markdown",
   "id": "6103ec3b",
   "metadata": {},
   "source": [
    "### Loại bỏ các cột không cần thiết"
   ]
  },
  {
   "cell_type": "markdown",
   "id": "924b29d4",
   "metadata": {},
   "source": [
    "#### Các cột CustomerPassword và CustomerEmail bị thay thế bằng XXXXXXX vì lý do bảo mật của dữ liệu nên sẽ không được dùng để phân tích\n",
    "#### Cột mô tả sản phẩm (ProductDescription) bị null toàn diện, cột hình ảnh sản phẩm (ProductImageUrl) không có giá trị trong phạm vi đề tài\n",
    "#### Trạng thái còn hàng (ProductStatus) luôn là 0 nên không có giá trị phân tích\n",
    "#### Cột ID của chi tiết hóa đơn (OrderItemId) tương ứng với mặc định của một dataframe nên không cần thiết\n",
    "#### Các cột trùng:\n",
    "##### OrderItemCardProdId = ProductCardId\n",
    "##### OrderItemProductPrice = ProductPrice\n",
    "##### OrderCustomerId = CustomerId\n",
    "##### ProductCategoryId = CategoryId"
   ]
  },
  {
   "cell_type": "code",
   "execution_count": 10,
   "id": "0c90acfc-9186-444f-b23d-bcc12b7dc4d0",
   "metadata": {
    "vscode": {
     "languageId": "plaintext"
    }
   },
   "outputs": [
    {
     "name": "stdout",
     "output_type": "stream",
     "text": [
      "+--------+---------------------+--------------------------+---------------+----------------+-----------------+------------------+----------+--------------+--------------+---------------+-------------+----------+-------------+---------------+-------------+--------------------+---------------+------------+--------------+-----------+------------+------------+----------+-------------+---------------------+-------+-----------------+---------------------+--------------------+-----------------+------+--------------+-------------------+--------------+--------------------+---------------+------------+-------------+------------+------------+------------------------+--------------+\n",
      "|    Type|Daysforshipping_real_|Daysforshipment_scheduled_|Benefitperorder|Salespercustomer|   DeliveryStatus|Late_delivery_risk|CategoryId|  CategoryName|  CustomerCity|CustomerCountry|CustomerFname|CustomerId|CustomerLname|CustomerSegment|CustomerState|      CustomerStreet|CustomerZipcode|DepartmentId|DepartmentName|   Latitude|   Longitude|      Market| OrderCity| OrderCountry|orderdate_DateOrders_|OrderId|OrderItemDiscount|OrderItemDiscountRate|OrderItemProfitRatio|OrderItemQuantity| Sales|OrderItemTotal|OrderProfitPerOrder|   OrderRegion|          OrderState|    OrderStatus|OrderZipcode|ProductCardId| ProductName|ProductPrice|shippingdate_DateOrders_|  ShippingMode|\n",
      "+--------+---------------------+--------------------------+---------------+----------------+-----------------+------------------+----------+--------------+--------------+---------------+-------------+----------+-------------+---------------+-------------+--------------------+---------------+------------+--------------+-----------+------------+------------+----------+-------------+---------------------+-------+-----------------+---------------------+--------------------+-----------------+------+--------------+-------------------+--------------+--------------------+---------------+------------+-------------+------------+------------+------------------------+--------------+\n",
      "|   DEBIT|                    3|                         4|          91.25|     314.6400146| Advance shipping|                 0|        73|Sporting Goods|        Caguas|    Puerto Rico|        Cally|     20755|     Holloway|       Consumer|           PR|5365 Noble Nectar...|            725|           2|       Fitness| 18.2514534|-66.03705597|Pacific Asia|    Bekasi|    Indonesia|      1/31/2018 22:56|  77202|      13.10999966|          0.039999999|         0.289999992|                1|327.75|   314.6400146|              91.25|Southeast Asia|     Java Occidental|       COMPLETE|        NULL|         1360|Smart watch |      327.75|          2/3/2018 22:56|Standard Class|\n",
      "|TRANSFER|                    5|                         4|   -249.0899963|     311.3599854|    Late delivery|                 1|        73|Sporting Goods|        Caguas|    Puerto Rico|        Irene|     19492|         Luna|       Consumer|           PR|    2679 Rustic Loop|            725|           2|       Fitness|18.27945137| -66.0370636|Pacific Asia|   Bikaner|        India|      1/13/2018 12:27|  75939|      16.38999939|          0.050000001|        -0.800000012|                1|327.75|   311.3599854|       -249.0899963|    South Asia|            Rajastán|        PENDING|        NULL|         1360|Smart watch |      327.75|         1/18/2018 12:27|Standard Class|\n",
      "|    CASH|                    4|                         4|   -247.7799988|     309.7200012| Shipping on time|                 0|        73|Sporting Goods|      San Jose|        EE. UU.|      Gillian|     19491|    Maldonado|       Consumer|           CA|8510 Round Bear Gate|          95125|           2|       Fitness|37.29223251| -121.881279|Pacific Asia|   Bikaner|        India|      1/13/2018 12:06|  75938|      18.03000069|          0.059999999|        -0.800000012|                1|327.75|   309.7200012|       -247.7799988|    South Asia|            Rajastán|         CLOSED|        NULL|         1360|Smart watch |      327.75|         1/17/2018 12:06|Standard Class|\n",
      "|   DEBIT|                    3|                         4|    22.86000061|     304.8099976| Advance shipping|                 0|        73|Sporting Goods|   Los Angeles|        EE. UU.|         Tana|     19490|         Tate|    Home Office|           CA|     3200 Amber Bend|          90027|           2|       Fitness|34.12594605|-118.2910156|Pacific Asia|Townsville|    Australia|      1/13/2018 11:45|  75937|      22.94000053|                 0.07|         0.079999998|                1|327.75|   304.8099976|        22.86000061|       Oceania|          Queensland|       COMPLETE|        NULL|         1360|Smart watch |      327.75|         1/16/2018 11:45|Standard Class|\n",
      "| PAYMENT|                    2|                         4|    134.2100067|          298.25| Advance shipping|                 0|        73|Sporting Goods|        Caguas|    Puerto Rico|         Orli|     19489|    Hendricks|      Corporate|           PR|8671 Iron Anchor ...|            725|           2|       Fitness|18.25376892|-66.03704834|Pacific Asia|Townsville|    Australia|      1/13/2018 11:24|  75936|             29.5|          0.090000004|         0.449999988|                1|327.75|        298.25|        134.2100067|       Oceania|          Queensland|PENDING_PAYMENT|        NULL|         1360|Smart watch |      327.75|         1/15/2018 11:24|Standard Class|\n",
      "|TRANSFER|                    6|                         4|    18.57999992|      294.980011|Shipping canceled|                 0|        73|Sporting Goods|     Tonawanda|        EE. UU.|     Kimberly|     19488|      Flowers|       Consumer|           NY|    2122 Hazy Corner|          14150|           2|       Fitness|43.01396942|-78.87906647|Pacific Asia| Toowoomba|    Australia|      1/13/2018 11:03|  75935|      32.77999878|          0.100000001|         0.059999999|                1|327.75|    294.980011|        18.57999992|       Oceania|          Queensland|       CANCELED|        NULL|         1360|Smart watch |      327.75|         1/19/2018 11:03|Standard Class|\n",
      "|   DEBIT|                    2|                         1|    95.18000031|     288.4200134|    Late delivery|                 1|        73|Sporting Goods|        Caguas|    Puerto Rico|    Constance|     19487|      Terrell|    Home Office|           PR|1879 Green Pine Bank|            725|           2|       Fitness|18.24253845|-66.03705597|Pacific Asia| Guangzhou|        China|      1/13/2018 10:42|  75934|      39.33000183|          0.119999997|         0.330000013|                1|327.75|   288.4200134|        95.18000031|  Eastern Asia|           Guangdong|       COMPLETE|        NULL|         1360|Smart watch |      327.75|         1/15/2018 10:42|   First Class|\n",
      "|TRANSFER|                    2|                         1|    68.43000031|     285.1400146|    Late delivery|                 1|        73|Sporting Goods|         Miami|        EE. UU.|        Erica|     19486|      Stevens|      Corporate|           FL| 7595 Cotton Log Row|          33162|           2|       Fitness|25.92886925|-80.16287231|Pacific Asia| Guangzhou|        China|      1/13/2018 10:21|  75933|      42.61000061|          0.129999995|         0.239999995|                1|327.75|   285.1400146|        68.43000031|  Eastern Asia|           Guangdong|     PROCESSING|        NULL|         1360|Smart watch |      327.75|         1/15/2018 10:21|   First Class|\n",
      "|    CASH|                    3|                         2|    133.7200012|     278.5899963|    Late delivery|                 1|        73|Sporting Goods|        Caguas|    Puerto Rico|      Nichole|     19485|        Olsen|      Corporate|           PR|    2051 Dusty Route|            725|           2|       Fitness|18.23322296|-66.03705597|Pacific Asia| Guangzhou|        China|      1/13/2018 10:00|  75932|      49.15999985|          0.150000006|         0.479999989|                1|327.75|   278.5899963|        133.7200012|  Eastern Asia|           Guangdong|         CLOSED|        NULL|         1360|Smart watch |      327.75|         1/16/2018 10:00|  Second Class|\n",
      "|    CASH|                    2|                         1|    132.1499939|     275.3099976|    Late delivery|                 1|        73|Sporting Goods|     San Ramon|        EE. UU.|        Oprah|     19484|     Delacruz|      Corporate|           CA|9139 Blue Blossom...|          94583|           2|       Fitness|37.77399063| -121.966629|Pacific Asia| Guangzhou|        China|       1/13/2018 9:39|  75931|      52.43999863|          0.159999996|         0.479999989|                1|327.75|   275.3099976|        132.1499939|  Eastern Asia|           Guangdong|         CLOSED|        NULL|         1360|Smart watch |      327.75|          1/15/2018 9:39|   First Class|\n",
      "|TRANSFER|                    6|                         2|    130.5800018|     272.0299988|Shipping canceled|                 0|        73|Sporting Goods|        Caguas|    Puerto Rico|      Germane|     19483|        Short|      Corporate|           PR|  4058 Quiet Heights|            725|           2|       Fitness|18.28284454|-66.03705597|Pacific Asia|     Tokio|        Japón|       1/13/2018 9:18|  75930|      55.72000122|          0.170000002|         0.479999989|                1|327.75|   272.0299988|        130.5800018|  Eastern Asia|               Tokio|SUSPECTED_FRAUD|        NULL|         1360|Smart watch |      327.75|          1/19/2018 9:18|  Second Class|\n",
      "|TRANSFER|                    5|                         2|    45.68999863|     268.7600098|    Late delivery|                 1|        73|Sporting Goods|      Freeport|        EE. UU.|        Freya|     19482|      Robbins|       Consumer|           NY|   3243 Shady Corner|          11520|           2|       Fitness|40.65486527|-73.58707428|Pacific Asia|    Manado|    Indonesia|       1/13/2018 8:57|  75929|             59.0|          0.180000007|         0.170000002|                1|327.75|   268.7600098|        45.68999863|Southeast Asia|Célebes Septentri...|        PENDING|        NULL|         1360|Smart watch |      327.75|          1/18/2018 8:57|  Second Class|\n",
      "|TRANSFER|                    4|                         2|    21.76000023|     262.2000122|    Late delivery|                 1|        73|Sporting Goods|       Salinas|        EE. UU.|    Cassandra|     19481|       Jensen|      Corporate|           CA|131 Sunny Treasur...|          93905|           2|       Fitness| 36.6763382| -121.656517|Pacific Asia|    Manado|    Indonesia|       1/13/2018 8:36|  75928|      65.55000305|          0.200000003|         0.079999998|                1|327.75|   262.2000122|        21.76000023|Southeast Asia|Célebes Septentri...|        PENDING|        NULL|         1360|Smart watch |      327.75|          1/17/2018 8:36|  Second Class|\n",
      "|   DEBIT|                    2|                         1|    24.57999992|     245.8099976|    Late delivery|                 1|        73|Sporting Goods|        Caguas|    Puerto Rico|      Natalie|     19480|     Mcfadden|      Corporate|           PR| 2531 Wishing Square|            725|           2|       Fitness|18.27843857|-66.03705597|Pacific Asia|    Sangli|        India|       1/13/2018 8:15|  75927|      81.94000244|                 0.25|         0.100000001|                1|327.75|   245.8099976|        24.57999992|    South Asia|         Maharashtra|       COMPLETE|        NULL|         1360|Smart watch |      327.75|          1/15/2018 8:15|   First Class|\n",
      "|TRANSFER|                    2|                         1|    16.38999939|          327.75|    Late delivery|                 1|        73|Sporting Goods|       Peabody|        EE. UU.|    Kimberley|     19479|       Sharpe|      Corporate|           MA|  6417 Silver Towers|           1960|           2|       Fitness|42.52627564|-70.92703247|Pacific Asia|    Sangli|        India|       1/13/2018 7:54|  75926|              0.0|                  0.0|         0.050000001|                1|327.75|        327.75|        16.38999939|    South Asia|         Maharashtra|     PROCESSING|        NULL|         1360|Smart watch |      327.75|          1/15/2018 7:54|   First Class|\n",
      "|   DEBIT|                    2|                         1|   -259.5799866|     324.4700012|    Late delivery|                 1|        73|Sporting Goods|        Caguas|    Puerto Rico|         Sade|     19478|    Lancaster|      Corporate|           PR|   257 Harvest Close|            725|           2|       Fitness|18.28404999|-66.03705597|Pacific Asia|    Sangli|        India|       1/13/2018 7:33|  75925|      3.279999971|                 0.01|        -0.800000012|                1|327.75|   324.4700012|       -259.5799866|    South Asia|         Maharashtra|       COMPLETE|        NULL|         1360|Smart watch |      327.75|          1/15/2018 7:33|   First Class|\n",
      "| PAYMENT|                    5|                         2|   -246.3600006|     321.2000122|    Late delivery|                 1|        73|Sporting Goods|     Canovanas|    Puerto Rico|       Brynne|     19477|        Giles|      Corporate|           PR|7342 Hazy Beacon ...|            729|           2|       Fitness| 18.3957901|-65.87288666|Pacific Asia|      Seúl|Corea del Sur|       1/13/2018 7:12|  75924|      6.559999943|                 0.02|        -0.769999981|                1|327.75|   321.2000122|       -246.3600006|  Eastern Asia|                Seúl|PENDING_PAYMENT|        NULL|         1360|Smart watch |      327.75|          1/18/2018 7:12|  Second Class|\n",
      "|    CASH|                    2|                         1|    23.84000015|     317.9200134|    Late delivery|                 1|        73|Sporting Goods|     Paramount|        EE. UU.|        Ciara|     19476|         Bird|      Corporate|           CA|   7787 Lazy Corners|          90723|           2|       Fitness|33.89869309|-118.1745605|Pacific Asia|  Jabalpur|        India|       1/13/2018 6:51|  75923|      9.829999924|          0.029999999|         0.079999998|                1|327.75|   317.9200134|        23.84000015|    South Asia|      Madhya Pradesh|         CLOSED|        NULL|         1360|Smart watch |      327.75|          1/15/2018 6:51|   First Class|\n",
      "|   DEBIT|                    2|                         1|    102.2600021|     314.6400146|    Late delivery|                 1|        73|Sporting Goods|        Caguas|    Puerto Rico|           Bo|     19475|      Griffin|       Consumer|           PR|5136 Rustic Pione...|            725|           2|       Fitness|  18.233778| -66.0370636|Pacific Asia|  Jabalpur|        India|       1/13/2018 6:30|  75922|      13.10999966|          0.039999999|         0.330000013|                1|327.75|   314.6400146|        102.2600021|    South Asia|      Madhya Pradesh|       COMPLETE|        NULL|         1360|Smart watch |      327.75|          1/15/2018 6:30|   First Class|\n",
      "| PAYMENT|                    0|                         0|    87.18000031|     311.3599854| Shipping on time|                 0|        73|Sporting Goods|Mount Prospect|        EE. UU.|          Kim|     19474|        Simon|       Consumer|           IL|      1723 Tawny Via|          60056|           2|       Fitness|42.04830551|-87.96134186|Pacific Asia|  Jabalpur|        India|       1/13/2018 6:09|  75921|      16.38999939|          0.050000001|         0.280000001|                1|327.75|   311.3599854|        87.18000031|    South Asia|      Madhya Pradesh|PENDING_PAYMENT|        NULL|         1360|Smart watch |      327.75|         1/13/2018 18:09|      Same Day|\n",
      "+--------+---------------------+--------------------------+---------------+----------------+-----------------+------------------+----------+--------------+--------------+---------------+-------------+----------+-------------+---------------+-------------+--------------------+---------------+------------+--------------+-----------+------------+------------+----------+-------------+---------------------+-------+-----------------+---------------------+--------------------+-----------------+------+--------------+-------------------+--------------+--------------------+---------------+------------+-------------+------------+------------+------------------------+--------------+\n",
      "only showing top 20 rows\n",
      "\n"
     ]
    }
   ],
   "source": [
    "# Loại bỏ các cột đẫ được đề cập trên và thay thế biến df bằng giá trị trả về\n",
    "df = df.drop('ProductStatus','OrderItemId','CustomerPassword','CustomerEmail','ProductDescription','ProductImage','OrderItemCardProdId','OrderItemProductPrice','OrderCustomerId','ProductCategoryId')\n",
    "df.show()"
   ]
  },
  {
   "cell_type": "markdown",
   "id": "d93f8b83",
   "metadata": {},
   "source": [
    "### Kiểm tra dữ liệu null"
   ]
  },
  {
   "cell_type": "code",
   "execution_count": 11,
   "id": "d3133e17-f4bb-4e46-812c-23ce4946d33e",
   "metadata": {},
   "outputs": [
    {
     "name": "stderr",
     "output_type": "stream",
     "text": [
      "[Stage 9:=============================>                             (2 + 2) / 4]\r"
     ]
    },
    {
     "name": "stdout",
     "output_type": "stream",
     "text": [
      "+----+---------------------+--------------------------+---------------+----------------+--------------+------------------+----------+------------+------------+---------------+-------------+----------+-------------+---------------+-------------+--------------+---------------+------------+--------------+--------+---------+------+---------+------------+---------------------+-------+-----------------+---------------------+--------------------+-----------------+-----+--------------+-------------------+-----------+----------+-----------+------------+-------------+-----------+------------+------------------------+------------+\n",
      "|Type|Daysforshipping_real_|Daysforshipment_scheduled_|Benefitperorder|Salespercustomer|DeliveryStatus|Late_delivery_risk|CategoryId|CategoryName|CustomerCity|CustomerCountry|CustomerFname|CustomerId|CustomerLname|CustomerSegment|CustomerState|CustomerStreet|CustomerZipcode|DepartmentId|DepartmentName|Latitude|Longitude|Market|OrderCity|OrderCountry|orderdate_DateOrders_|OrderId|OrderItemDiscount|OrderItemDiscountRate|OrderItemProfitRatio|OrderItemQuantity|Sales|OrderItemTotal|OrderProfitPerOrder|OrderRegion|OrderState|OrderStatus|OrderZipcode|ProductCardId|ProductName|ProductPrice|shippingdate_DateOrders_|ShippingMode|\n",
      "+----+---------------------+--------------------------+---------------+----------------+--------------+------------------+----------+------------+------------+---------------+-------------+----------+-------------+---------------+-------------+--------------+---------------+------------+--------------+--------+---------+------+---------+------------+---------------------+-------+-----------------+---------------------+--------------------+-----------------+-----+--------------+-------------------+-----------+----------+-----------+------------+-------------+-----------+------------+------------------------+------------+\n",
      "|   0|                    0|                         0|              0|               0|             0|                 0|         0|           0|           0|              0|            0|         0|            8|              0|            0|             0|              3|           0|             0|       0|        0|     0|        0|           0|                    0|      0|                0|                    0|                   0|                0|    0|             0|                  0|          0|         0|          0|      155679|            0|          0|           0|                       0|           0|\n",
      "+----+---------------------+--------------------------+---------------+----------------+--------------+------------------+----------+------------+------------+---------------+-------------+----------+-------------+---------------+-------------+--------------+---------------+------------+--------------+--------+---------+------+---------+------------+---------------------+-------+-----------------+---------------------+--------------------+-----------------+-----+--------------+-------------------+-----------+----------+-----------+------------+-------------+-----------+------------+------------------------+------------+\n",
      "\n"
     ]
    },
    {
     "name": "stderr",
     "output_type": "stream",
     "text": [
      "\r\n",
      "                                                                                \r"
     ]
    }
   ],
   "source": [
    "from pyspark.sql.functions import udf,count,sum,avg,col,isnan, when,mean,stddev\n",
    "# Đối với mỗi cột trong danh sách cột của df, đếm các phần tử thỏa điều kiện isnan(điểm dữ liệu) hoặc isNull rồi đặt tên (alias) bằng tên cột đó\n",
    "df.select([count(when(isnan(c) | col(c).isNull(), c)).alias(c) for c in df.columns]).show()"
   ]
  },
  {
   "cell_type": "markdown",
   "id": "6199dafd",
   "metadata": {},
   "source": [
    "### Xử lý dữ liệu null"
   ]
  },
  {
   "cell_type": "markdown",
   "id": "94539fa1",
   "metadata": {},
   "source": [
    "##### Cột Mã bưu chính giao hàng (OrderZipcode) bị null cho đến 155 nghìn dòng trên tổng 180 nghìn dòng nên không có giá trị phân tích"
   ]
  },
  {
   "cell_type": "code",
   "execution_count": 12,
   "id": "7a55b8df-cdb2-4392-9556-27afca7a73f3",
   "metadata": {},
   "outputs": [
    {
     "name": "stderr",
     "output_type": "stream",
     "text": [
      "[Stage 12:===========================================>              (3 + 1) / 4]\r"
     ]
    },
    {
     "name": "stdout",
     "output_type": "stream",
     "text": [
      "+----+---------------------+--------------------------+---------------+----------------+--------------+------------------+----------+------------+------------+---------------+-------------+----------+-------------+---------------+-------------+--------------+---------------+------------+--------------+--------+---------+------+---------+------------+---------------------+-------+-----------------+---------------------+--------------------+-----------------+-----+--------------+-------------------+-----------+----------+-----------+-------------+-----------+------------+------------------------+------------+\n",
      "|Type|Daysforshipping_real_|Daysforshipment_scheduled_|Benefitperorder|Salespercustomer|DeliveryStatus|Late_delivery_risk|CategoryId|CategoryName|CustomerCity|CustomerCountry|CustomerFname|CustomerId|CustomerLname|CustomerSegment|CustomerState|CustomerStreet|CustomerZipcode|DepartmentId|DepartmentName|Latitude|Longitude|Market|OrderCity|OrderCountry|orderdate_DateOrders_|OrderId|OrderItemDiscount|OrderItemDiscountRate|OrderItemProfitRatio|OrderItemQuantity|Sales|OrderItemTotal|OrderProfitPerOrder|OrderRegion|OrderState|OrderStatus|ProductCardId|ProductName|ProductPrice|shippingdate_DateOrders_|ShippingMode|\n",
      "+----+---------------------+--------------------------+---------------+----------------+--------------+------------------+----------+------------+------------+---------------+-------------+----------+-------------+---------------+-------------+--------------+---------------+------------+--------------+--------+---------+------+---------+------------+---------------------+-------+-----------------+---------------------+--------------------+-----------------+-----+--------------+-------------------+-----------+----------+-----------+-------------+-----------+------------+------------------------+------------+\n",
      "|   0|                    0|                         0|              0|               0|             0|                 0|         0|           0|           0|              0|            0|         0|            8|              0|            0|             0|              3|           0|             0|       0|        0|     0|        0|           0|                    0|      0|                0|                    0|                   0|                0|    0|             0|                  0|          0|         0|          0|            0|          0|           0|                       0|           0|\n",
      "+----+---------------------+--------------------------+---------------+----------------+--------------+------------------+----------+------------+------------+---------------+-------------+----------+-------------+---------------+-------------+--------------+---------------+------------+--------------+--------+---------+------+---------+------------+---------------------+-------+-----------------+---------------------+--------------------+-----------------+-----+--------------+-------------------+-----------+----------+-----------+-------------+-----------+------------+------------------------+------------+\n",
      "\n"
     ]
    },
    {
     "name": "stderr",
     "output_type": "stream",
     "text": [
      "\r\n",
      "                                                                                \r"
     ]
    }
   ],
   "source": [
    "# Bỏ cột OrderZipcode và thay thế df\n",
    "df = df.drop('OrderZipcode')\n",
    "df.select([count(when(isnan(c) | col(c).isNull(), c)).alias(c) for c in df.columns]).show()"
   ]
  },
  {
   "cell_type": "markdown",
   "id": "a3833271",
   "metadata": {},
   "source": [
    "#### Vẫn còn xuất hiện dữ liệu null ở Mã bưu chính khách hàng (CustomerZipcode) và họ của khách hàng (CustomerLname) "
   ]
  },
  {
   "cell_type": "markdown",
   "id": "38746d7d",
   "metadata": {},
   "source": [
    "##### Đối với khách hàng thay các họ (CustomerLname) bị null thành chuỗi rỗng (\"\")\n",
    "##### Đối với Mã bưu chính (CustomerZipcode) của khách hàng bị null sẽ được thay thành 0"
   ]
  },
  {
   "cell_type": "code",
   "execution_count": 13,
   "id": "e099c73d-d878-4bae-8b7a-bafbb9594cc3",
   "metadata": {},
   "outputs": [
    {
     "name": "stdout",
     "output_type": "stream",
     "text": [
      "+---------------+-------------+\n",
      "|CustomerZipcode|CustomerLname|\n",
      "+---------------+-------------+\n",
      "|              3|            8|\n",
      "+---------------+-------------+\n",
      "\n"
     ]
    }
   ],
   "source": [
    "# Tương tự với cách tìm null như trên nhưng phạm vi chỉ gồm CustomerZipcode và CustomerLname\n",
    "df.select([count(when(isnan(c) | col(c).isNull(), c)).alias(c) for c in ['CustomerZipcode','CustomerLname']]).show()"
   ]
  },
  {
   "cell_type": "markdown",
   "id": "effee1ff",
   "metadata": {},
   "source": [
    "##### Xử lý và kiểm tra lại giá trị null"
   ]
  },
  {
   "cell_type": "code",
   "execution_count": 14,
   "id": "634ecdb0-33d4-446d-a5bc-2ffd4b367300",
   "metadata": {},
   "outputs": [
    {
     "name": "stderr",
     "output_type": "stream",
     "text": [
      "[Stage 18:=============================>                            (2 + 2) / 4]\r"
     ]
    },
    {
     "name": "stdout",
     "output_type": "stream",
     "text": [
      "+----+---------------------+--------------------------+---------------+----------------+--------------+------------------+----------+------------+------------+---------------+-------------+----------+-------------+---------------+-------------+--------------+---------------+------------+--------------+--------+---------+------+---------+------------+---------------------+-------+-----------------+---------------------+--------------------+-----------------+-----+--------------+-------------------+-----------+----------+-----------+-------------+-----------+------------+------------------------+------------+\n",
      "|Type|Daysforshipping_real_|Daysforshipment_scheduled_|Benefitperorder|Salespercustomer|DeliveryStatus|Late_delivery_risk|CategoryId|CategoryName|CustomerCity|CustomerCountry|CustomerFname|CustomerId|CustomerLname|CustomerSegment|CustomerState|CustomerStreet|CustomerZipcode|DepartmentId|DepartmentName|Latitude|Longitude|Market|OrderCity|OrderCountry|orderdate_DateOrders_|OrderId|OrderItemDiscount|OrderItemDiscountRate|OrderItemProfitRatio|OrderItemQuantity|Sales|OrderItemTotal|OrderProfitPerOrder|OrderRegion|OrderState|OrderStatus|ProductCardId|ProductName|ProductPrice|shippingdate_DateOrders_|ShippingMode|\n",
      "+----+---------------------+--------------------------+---------------+----------------+--------------+------------------+----------+------------+------------+---------------+-------------+----------+-------------+---------------+-------------+--------------+---------------+------------+--------------+--------+---------+------+---------+------------+---------------------+-------+-----------------+---------------------+--------------------+-----------------+-----+--------------+-------------------+-----------+----------+-----------+-------------+-----------+------------+------------------------+------------+\n",
      "|   0|                    0|                         0|              0|               0|             0|                 0|         0|           0|           0|              0|            0|         0|            0|              0|            0|             0|              0|           0|             0|       0|        0|     0|        0|           0|                    0|      0|                0|                    0|                   0|                0|    0|             0|                  0|          0|         0|          0|            0|          0|           0|                       0|           0|\n",
      "+----+---------------------+--------------------------+---------------+----------------+--------------+------------------+----------+------------+------------+---------------+-------------+----------+-------------+---------------+-------------+--------------+---------------+------------+--------------+--------+---------+------+---------+------------+---------------------+-------+-----------------+---------------------+--------------------+-----------------+-----+--------------+-------------------+-----------+----------+-----------+-------------+-----------+------------+------------------------+------------+\n",
      "\n"
     ]
    },
    {
     "name": "stderr",
     "output_type": "stream",
     "text": [
      "\r\n",
      "[Stage 18:===========================================>              (3 + 1) / 4]\r\n",
      "\r\n",
      "                                                                                \r"
     ]
    }
   ],
   "source": [
    "# Thay thế các giá trị null/ nan của CustomerZipcode bằng 0. Thay thế các giá trị null/ nan\n",
    "# của CustomerLname thành chuỗi rỗng\n",
    "# Thay thế df hiện tại bằng kết quả trả về\n",
    "df = df.fillna(0,['CustomerZipcode']).fillna(\"\",['CustomerLname'])\n",
    "# Đếm lại các giá trị null/ nan\n",
    "df.select([count(when(isnan(c) | col(c).isNull(), c)).alias(c) for c in df.columns]).show()"
   ]
  },
  {
   "cell_type": "markdown",
   "id": "8305464b-ae05-4dd0-a68e-170929aaa84d",
   "metadata": {
    "jp-MarkdownHeadingCollapsed": true
   },
   "source": [
    "### Trích xuất tên đường, thứ, ngày, tháng, năm và giờ của thời điểm đặt hàng (orderDate_DateOrders_) và thời điểm giao hàng (shippingdate_DateOrders_)"
   ]
  },
  {
   "cell_type": "code",
   "execution_count": 15,
   "id": "25a2f73e-a322-4778-b555-d417abbefbe8",
   "metadata": {},
   "outputs": [
    {
     "name": "stdout",
     "output_type": "stream",
     "text": [
      "+--------+---------------------+--------------------------+---------------+----------------+-----------------+------------------+----------+--------------+--------------+---------------+-------------+----------+-------------+---------------+-------------+--------------------+---------------+------------+--------------+-----------+------------+------------+----------+-------------+---------------------+-------+-----------------+---------------------+--------------------+-----------------+------+--------------+-------------------+--------------+--------------------+---------------+-------------+------------+------------+------------------------+--------------+--------------------+----------+-----------+---------+----------+------------+---------+---------+----------+--------+---------+-----------+--------+\n",
      "|    Type|Daysforshipping_real_|Daysforshipment_scheduled_|Benefitperorder|Salespercustomer|   DeliveryStatus|Late_delivery_risk|CategoryId|  CategoryName|  CustomerCity|CustomerCountry|CustomerFname|CustomerId|CustomerLname|CustomerSegment|CustomerState|      CustomerStreet|CustomerZipcode|DepartmentId|DepartmentName|   Latitude|   Longitude|      Market| OrderCity| OrderCountry|orderdate_DateOrders_|OrderId|OrderItemDiscount|OrderItemDiscountRate|OrderItemProfitRatio|OrderItemQuantity| Sales|OrderItemTotal|OrderProfitPerOrder|   OrderRegion|          OrderState|    OrderStatus|ProductCardId| ProductName|ProductPrice|shippingdate_DateOrders_|  ShippingMode|  CustomerStreetName|order_year|order_month|order_day|order_hour|order_minute|order_dow|ship_year|ship_month|ship_day|ship_hour|ship_minute|ship_dow|\n",
      "+--------+---------------------+--------------------------+---------------+----------------+-----------------+------------------+----------+--------------+--------------+---------------+-------------+----------+-------------+---------------+-------------+--------------------+---------------+------------+--------------+-----------+------------+------------+----------+-------------+---------------------+-------+-----------------+---------------------+--------------------+-----------------+------+--------------+-------------------+--------------+--------------------+---------------+-------------+------------+------------+------------------------+--------------+--------------------+----------+-----------+---------+----------+------------+---------+---------+----------+--------+---------+-----------+--------+\n",
      "|   DEBIT|                    3|                         4|          91.25|     314.6400146| Advance shipping|                 0|        73|Sporting Goods|        Caguas|    Puerto Rico|        Cally|     20755|     Holloway|       Consumer|           PR|5365 Noble Nectar...|            725|           2|       Fitness| 18.2514534|-66.03705597|Pacific Asia|    Bekasi|    Indonesia|      1/31/2018 22:56|  77202|      13.10999966|          0.039999999|         0.289999992|                1|327.75|   314.6400146|              91.25|Southeast Asia|     Java Occidental|       COMPLETE|         1360|Smart watch |      327.75|          2/3/2018 22:56|Standard Class| Noble Nectar Island|      2018|          1|       31|        22|          56|        4|     2018|         2|       3|       22|         56|       7|\n",
      "|TRANSFER|                    5|                         4|   -249.0899963|     311.3599854|    Late delivery|                 1|        73|Sporting Goods|        Caguas|    Puerto Rico|        Irene|     19492|         Luna|       Consumer|           PR|    2679 Rustic Loop|            725|           2|       Fitness|18.27945137| -66.0370636|Pacific Asia|   Bikaner|        India|      1/13/2018 12:27|  75939|      16.38999939|          0.050000001|        -0.800000012|                1|327.75|   311.3599854|       -249.0899963|    South Asia|            Rajastán|        PENDING|         1360|Smart watch |      327.75|         1/18/2018 12:27|Standard Class|         Rustic Loop|      2018|          1|       13|        12|          27|        7|     2018|         1|      18|       12|         27|       5|\n",
      "|    CASH|                    4|                         4|   -247.7799988|     309.7200012| Shipping on time|                 0|        73|Sporting Goods|      San Jose|        EE. UU.|      Gillian|     19491|    Maldonado|       Consumer|           CA|8510 Round Bear Gate|          95125|           2|       Fitness|37.29223251| -121.881279|Pacific Asia|   Bikaner|        India|      1/13/2018 12:06|  75938|      18.03000069|          0.059999999|        -0.800000012|                1|327.75|   309.7200012|       -247.7799988|    South Asia|            Rajastán|         CLOSED|         1360|Smart watch |      327.75|         1/17/2018 12:06|Standard Class|     Round Bear Gate|      2018|          1|       13|        12|           6|        7|     2018|         1|      17|       12|          6|       4|\n",
      "|   DEBIT|                    3|                         4|    22.86000061|     304.8099976| Advance shipping|                 0|        73|Sporting Goods|   Los Angeles|        EE. UU.|         Tana|     19490|         Tate|    Home Office|           CA|     3200 Amber Bend|          90027|           2|       Fitness|34.12594605|-118.2910156|Pacific Asia|Townsville|    Australia|      1/13/2018 11:45|  75937|      22.94000053|                 0.07|         0.079999998|                1|327.75|   304.8099976|        22.86000061|       Oceania|          Queensland|       COMPLETE|         1360|Smart watch |      327.75|         1/16/2018 11:45|Standard Class|          Amber Bend|      2018|          1|       13|        11|          45|        7|     2018|         1|      16|       11|         45|       3|\n",
      "| PAYMENT|                    2|                         4|    134.2100067|          298.25| Advance shipping|                 0|        73|Sporting Goods|        Caguas|    Puerto Rico|         Orli|     19489|    Hendricks|      Corporate|           PR|8671 Iron Anchor ...|            725|           2|       Fitness|18.25376892|-66.03704834|Pacific Asia|Townsville|    Australia|      1/13/2018 11:24|  75936|             29.5|          0.090000004|         0.449999988|                1|327.75|        298.25|        134.2100067|       Oceania|          Queensland|PENDING_PAYMENT|         1360|Smart watch |      327.75|         1/15/2018 11:24|Standard Class| Iron Anchor Corners|      2018|          1|       13|        11|          24|        7|     2018|         1|      15|       11|         24|       2|\n",
      "|TRANSFER|                    6|                         4|    18.57999992|      294.980011|Shipping canceled|                 0|        73|Sporting Goods|     Tonawanda|        EE. UU.|     Kimberly|     19488|      Flowers|       Consumer|           NY|    2122 Hazy Corner|          14150|           2|       Fitness|43.01396942|-78.87906647|Pacific Asia| Toowoomba|    Australia|      1/13/2018 11:03|  75935|      32.77999878|          0.100000001|         0.059999999|                1|327.75|    294.980011|        18.57999992|       Oceania|          Queensland|       CANCELED|         1360|Smart watch |      327.75|         1/19/2018 11:03|Standard Class|         Hazy Corner|      2018|          1|       13|        11|           3|        7|     2018|         1|      19|       11|          3|       6|\n",
      "|   DEBIT|                    2|                         1|    95.18000031|     288.4200134|    Late delivery|                 1|        73|Sporting Goods|        Caguas|    Puerto Rico|    Constance|     19487|      Terrell|    Home Office|           PR|1879 Green Pine Bank|            725|           2|       Fitness|18.24253845|-66.03705597|Pacific Asia| Guangzhou|        China|      1/13/2018 10:42|  75934|      39.33000183|          0.119999997|         0.330000013|                1|327.75|   288.4200134|        95.18000031|  Eastern Asia|           Guangdong|       COMPLETE|         1360|Smart watch |      327.75|         1/15/2018 10:42|   First Class|     Green Pine Bank|      2018|          1|       13|        10|          42|        7|     2018|         1|      15|       10|         42|       2|\n",
      "|TRANSFER|                    2|                         1|    68.43000031|     285.1400146|    Late delivery|                 1|        73|Sporting Goods|         Miami|        EE. UU.|        Erica|     19486|      Stevens|      Corporate|           FL| 7595 Cotton Log Row|          33162|           2|       Fitness|25.92886925|-80.16287231|Pacific Asia| Guangzhou|        China|      1/13/2018 10:21|  75933|      42.61000061|          0.129999995|         0.239999995|                1|327.75|   285.1400146|        68.43000031|  Eastern Asia|           Guangdong|     PROCESSING|         1360|Smart watch |      327.75|         1/15/2018 10:21|   First Class|      Cotton Log Row|      2018|          1|       13|        10|          21|        7|     2018|         1|      15|       10|         21|       2|\n",
      "|    CASH|                    3|                         2|    133.7200012|     278.5899963|    Late delivery|                 1|        73|Sporting Goods|        Caguas|    Puerto Rico|      Nichole|     19485|        Olsen|      Corporate|           PR|    2051 Dusty Route|            725|           2|       Fitness|18.23322296|-66.03705597|Pacific Asia| Guangzhou|        China|      1/13/2018 10:00|  75932|      49.15999985|          0.150000006|         0.479999989|                1|327.75|   278.5899963|        133.7200012|  Eastern Asia|           Guangdong|         CLOSED|         1360|Smart watch |      327.75|         1/16/2018 10:00|  Second Class|         Dusty Route|      2018|          1|       13|        10|           0|        7|     2018|         1|      16|       10|          0|       3|\n",
      "|    CASH|                    2|                         1|    132.1499939|     275.3099976|    Late delivery|                 1|        73|Sporting Goods|     San Ramon|        EE. UU.|        Oprah|     19484|     Delacruz|      Corporate|           CA|9139 Blue Blossom...|          94583|           2|       Fitness|37.77399063| -121.966629|Pacific Asia| Guangzhou|        China|       1/13/2018 9:39|  75931|      52.43999863|          0.159999996|         0.479999989|                1|327.75|   275.3099976|        132.1499939|  Eastern Asia|           Guangdong|         CLOSED|         1360|Smart watch |      327.75|          1/15/2018 9:39|   First Class|  Blue Blossom Court|      2018|          1|       13|         9|          39|        7|     2018|         1|      15|        9|         39|       2|\n",
      "|TRANSFER|                    6|                         2|    130.5800018|     272.0299988|Shipping canceled|                 0|        73|Sporting Goods|        Caguas|    Puerto Rico|      Germane|     19483|        Short|      Corporate|           PR|  4058 Quiet Heights|            725|           2|       Fitness|18.28284454|-66.03705597|Pacific Asia|     Tokio|        Japón|       1/13/2018 9:18|  75930|      55.72000122|          0.170000002|         0.479999989|                1|327.75|   272.0299988|        130.5800018|  Eastern Asia|               Tokio|SUSPECTED_FRAUD|         1360|Smart watch |      327.75|          1/19/2018 9:18|  Second Class|       Quiet Heights|      2018|          1|       13|         9|          18|        7|     2018|         1|      19|        9|         18|       6|\n",
      "|TRANSFER|                    5|                         2|    45.68999863|     268.7600098|    Late delivery|                 1|        73|Sporting Goods|      Freeport|        EE. UU.|        Freya|     19482|      Robbins|       Consumer|           NY|   3243 Shady Corner|          11520|           2|       Fitness|40.65486527|-73.58707428|Pacific Asia|    Manado|    Indonesia|       1/13/2018 8:57|  75929|             59.0|          0.180000007|         0.170000002|                1|327.75|   268.7600098|        45.68999863|Southeast Asia|Célebes Septentri...|        PENDING|         1360|Smart watch |      327.75|          1/18/2018 8:57|  Second Class|        Shady Corner|      2018|          1|       13|         8|          57|        7|     2018|         1|      18|        8|         57|       5|\n",
      "|TRANSFER|                    4|                         2|    21.76000023|     262.2000122|    Late delivery|                 1|        73|Sporting Goods|       Salinas|        EE. UU.|    Cassandra|     19481|       Jensen|      Corporate|           CA|131 Sunny Treasur...|          93905|           2|       Fitness| 36.6763382| -121.656517|Pacific Asia|    Manado|    Indonesia|       1/13/2018 8:36|  75928|      65.55000305|          0.200000003|         0.079999998|                1|327.75|   262.2000122|        21.76000023|Southeast Asia|Célebes Septentri...|        PENDING|         1360|Smart watch |      327.75|          1/17/2018 8:36|  Second Class| Sunny Treasure G...|      2018|          1|       13|         8|          36|        7|     2018|         1|      17|        8|         36|       4|\n",
      "|   DEBIT|                    2|                         1|    24.57999992|     245.8099976|    Late delivery|                 1|        73|Sporting Goods|        Caguas|    Puerto Rico|      Natalie|     19480|     Mcfadden|      Corporate|           PR| 2531 Wishing Square|            725|           2|       Fitness|18.27843857|-66.03705597|Pacific Asia|    Sangli|        India|       1/13/2018 8:15|  75927|      81.94000244|                 0.25|         0.100000001|                1|327.75|   245.8099976|        24.57999992|    South Asia|         Maharashtra|       COMPLETE|         1360|Smart watch |      327.75|          1/15/2018 8:15|   First Class|      Wishing Square|      2018|          1|       13|         8|          15|        7|     2018|         1|      15|        8|         15|       2|\n",
      "|TRANSFER|                    2|                         1|    16.38999939|          327.75|    Late delivery|                 1|        73|Sporting Goods|       Peabody|        EE. UU.|    Kimberley|     19479|       Sharpe|      Corporate|           MA|  6417 Silver Towers|           1960|           2|       Fitness|42.52627564|-70.92703247|Pacific Asia|    Sangli|        India|       1/13/2018 7:54|  75926|              0.0|                  0.0|         0.050000001|                1|327.75|        327.75|        16.38999939|    South Asia|         Maharashtra|     PROCESSING|         1360|Smart watch |      327.75|          1/15/2018 7:54|   First Class|       Silver Towers|      2018|          1|       13|         7|          54|        7|     2018|         1|      15|        7|         54|       2|\n",
      "|   DEBIT|                    2|                         1|   -259.5799866|     324.4700012|    Late delivery|                 1|        73|Sporting Goods|        Caguas|    Puerto Rico|         Sade|     19478|    Lancaster|      Corporate|           PR|   257 Harvest Close|            725|           2|       Fitness|18.28404999|-66.03705597|Pacific Asia|    Sangli|        India|       1/13/2018 7:33|  75925|      3.279999971|                 0.01|        -0.800000012|                1|327.75|   324.4700012|       -259.5799866|    South Asia|         Maharashtra|       COMPLETE|         1360|Smart watch |      327.75|          1/15/2018 7:33|   First Class|       Harvest Close|      2018|          1|       13|         7|          33|        7|     2018|         1|      15|        7|         33|       2|\n",
      "| PAYMENT|                    5|                         2|   -246.3600006|     321.2000122|    Late delivery|                 1|        73|Sporting Goods|     Canovanas|    Puerto Rico|       Brynne|     19477|        Giles|      Corporate|           PR|7342 Hazy Beacon ...|            729|           2|       Fitness| 18.3957901|-65.87288666|Pacific Asia|      Seúl|Corea del Sur|       1/13/2018 7:12|  75924|      6.559999943|                 0.02|        -0.769999981|                1|327.75|   321.2000122|       -246.3600006|  Eastern Asia|                Seúl|PENDING_PAYMENT|         1360|Smart watch |      327.75|          1/18/2018 7:12|  Second Class|    Hazy Beacon Park|      2018|          1|       13|         7|          12|        7|     2018|         1|      18|        7|         12|       5|\n",
      "|    CASH|                    2|                         1|    23.84000015|     317.9200134|    Late delivery|                 1|        73|Sporting Goods|     Paramount|        EE. UU.|        Ciara|     19476|         Bird|      Corporate|           CA|   7787 Lazy Corners|          90723|           2|       Fitness|33.89869309|-118.1745605|Pacific Asia|  Jabalpur|        India|       1/13/2018 6:51|  75923|      9.829999924|          0.029999999|         0.079999998|                1|327.75|   317.9200134|        23.84000015|    South Asia|      Madhya Pradesh|         CLOSED|         1360|Smart watch |      327.75|          1/15/2018 6:51|   First Class|        Lazy Corners|      2018|          1|       13|         6|          51|        7|     2018|         1|      15|        6|         51|       2|\n",
      "|   DEBIT|                    2|                         1|    102.2600021|     314.6400146|    Late delivery|                 1|        73|Sporting Goods|        Caguas|    Puerto Rico|           Bo|     19475|      Griffin|       Consumer|           PR|5136 Rustic Pione...|            725|           2|       Fitness|  18.233778| -66.0370636|Pacific Asia|  Jabalpur|        India|       1/13/2018 6:30|  75922|      13.10999966|          0.039999999|         0.330000013|                1|327.75|   314.6400146|        102.2600021|    South Asia|      Madhya Pradesh|       COMPLETE|         1360|Smart watch |      327.75|          1/15/2018 6:30|   First Class| Rustic Pioneer E...|      2018|          1|       13|         6|          30|        7|     2018|         1|      15|        6|         30|       2|\n",
      "| PAYMENT|                    0|                         0|    87.18000031|     311.3599854| Shipping on time|                 0|        73|Sporting Goods|Mount Prospect|        EE. UU.|          Kim|     19474|        Simon|       Consumer|           IL|      1723 Tawny Via|          60056|           2|       Fitness|42.04830551|-87.96134186|Pacific Asia|  Jabalpur|        India|       1/13/2018 6:09|  75921|      16.38999939|          0.050000001|         0.280000001|                1|327.75|   311.3599854|        87.18000031|    South Asia|      Madhya Pradesh|PENDING_PAYMENT|         1360|Smart watch |      327.75|         1/13/2018 18:09|      Same Day|           Tawny Via|      2018|          1|       13|         6|           9|        7|     2018|         1|      13|       18|          9|       7|\n",
      "+--------+---------------------+--------------------------+---------------+----------------+-----------------+------------------+----------+--------------+--------------+---------------+-------------+----------+-------------+---------------+-------------+--------------------+---------------+------------+--------------+-----------+------------+------------+----------+-------------+---------------------+-------+-----------------+---------------------+--------------------+-----------------+------+--------------+-------------------+--------------+--------------------+---------------+-------------+------------+------------+------------------------+--------------+--------------------+----------+-----------+---------+----------+------------+---------+---------+----------+--------+---------+-----------+--------+\n",
      "only showing top 20 rows\n",
      "\n"
     ]
    }
   ],
   "source": [
    "df.createOrReplaceTempView(\"orders\")\n",
    "# Cách thức hoạt động của substring_index(chuỗi,chuỗi tìm kiếm,số lượng phần tử được lấy)\n",
    "# Khi phần tử được lấy (n) mang giá trị dương nó sẽ trả về n chuỗi nằm phía bên trái nơi xuất hiện chuỗi tìm kiếm \n",
    "# và ngược lại\n",
    "# 2/3/2018 22:56 -> substring_index(2/3/2018 22:56,' ',-1) -> 22:56 -> substring_index(22:56,':',1) -> 22\n",
    "# Đối với các ngày giờ, dùng to_timestamp(chuỗi, format ngày giờ) để chuyển về timestamp, \n",
    "# sau đó chuyển timestamp về ngày qua date, rồi từ date lấy year, month, day, dayofweek\n",
    "df = spark.sql(\n",
    "    \"\"\"Select\n",
    "        *,\n",
    "        substring_index(CustomerStreet,substring_index(CustomerStreet,' ',1),-1) as CustomerStreetName,\n",
    "        year(date(to_timestamp(orderdate_DateOrders_,\"M/d/y H:m\"))) as order_year,\n",
    "        month(date(to_timestamp(orderdate_DateOrders_,\"M/d/y H:m\"))) as order_month,\n",
    "        day(date(to_timestamp(orderdate_DateOrders_,\"M/d/y H:m\"))) as order_day,\n",
    "        INT(substring_index(substring_index(orderdate_DateOrders_,' ',-1),':',1)) as order_hour,\n",
    "        INT(substring_index(substring_index(orderdate_DateOrders_,' ',-1),':',-1)) as order_minute,\n",
    "        dayofweek(date(to_timestamp(orderdate_DateOrders_,\"M/d/y H:m\"))) as order_dow,\n",
    "        year(date(to_timestamp(shippingdate_DateOrders_,\"M/d/y H:m\"))) as ship_year,\n",
    "        month(date(to_timestamp(shippingdate_DateOrders_,\"M/d/y H:m\"))) as ship_month,\n",
    "        day(date(to_timestamp(shippingdate_DateOrders_,\"M/d/y H:m\"))) as ship_day,\n",
    "        INT(substring_index(substring_index(shippingdate_DateOrders_,' ',-1),':',1)) as ship_hour,\n",
    "        INT(substring_index(substring_index(shippingdate_DateOrders_,' ',-1),':',-1)) as ship_minute,\n",
    "        dayofweek(date(to_timestamp(shippingdate_DateOrders_,\"M/d/y H:m\"))) as ship_dow\n",
    "        from orders\n",
    "        \"\"\")\n",
    "df.show()"
   ]
  },
  {
   "cell_type": "code",
   "execution_count": 16,
   "id": "dd8c1c5a-aea0-4171-948f-52b1f0be43e9",
   "metadata": {},
   "outputs": [
    {
     "name": "stdout",
     "output_type": "stream",
     "text": [
      "root\n",
      " |-- Type: string (nullable = true)\n",
      " |-- Daysforshipping_real_: integer (nullable = true)\n",
      " |-- Daysforshipment_scheduled_: integer (nullable = true)\n",
      " |-- Benefitperorder: double (nullable = true)\n",
      " |-- Salespercustomer: double (nullable = true)\n",
      " |-- DeliveryStatus: string (nullable = true)\n",
      " |-- Late_delivery_risk: integer (nullable = true)\n",
      " |-- CategoryId: integer (nullable = true)\n",
      " |-- CategoryName: string (nullable = true)\n",
      " |-- CustomerCity: string (nullable = true)\n",
      " |-- CustomerCountry: string (nullable = true)\n",
      " |-- CustomerFname: string (nullable = true)\n",
      " |-- CustomerId: integer (nullable = true)\n",
      " |-- CustomerLname: string (nullable = false)\n",
      " |-- CustomerSegment: string (nullable = true)\n",
      " |-- CustomerState: string (nullable = true)\n",
      " |-- CustomerStreet: string (nullable = true)\n",
      " |-- CustomerZipcode: integer (nullable = true)\n",
      " |-- DepartmentId: integer (nullable = true)\n",
      " |-- DepartmentName: string (nullable = true)\n",
      " |-- Latitude: double (nullable = true)\n",
      " |-- Longitude: double (nullable = true)\n",
      " |-- Market: string (nullable = true)\n",
      " |-- OrderCity: string (nullable = true)\n",
      " |-- OrderCountry: string (nullable = true)\n",
      " |-- orderdate_DateOrders_: string (nullable = true)\n",
      " |-- OrderId: integer (nullable = true)\n",
      " |-- OrderItemDiscount: double (nullable = true)\n",
      " |-- OrderItemDiscountRate: double (nullable = true)\n",
      " |-- OrderItemProfitRatio: double (nullable = true)\n",
      " |-- OrderItemQuantity: integer (nullable = true)\n",
      " |-- Sales: double (nullable = true)\n",
      " |-- OrderItemTotal: double (nullable = true)\n",
      " |-- OrderProfitPerOrder: double (nullable = true)\n",
      " |-- OrderRegion: string (nullable = true)\n",
      " |-- OrderState: string (nullable = true)\n",
      " |-- OrderStatus: string (nullable = true)\n",
      " |-- ProductCardId: integer (nullable = true)\n",
      " |-- ProductName: string (nullable = true)\n",
      " |-- ProductPrice: double (nullable = true)\n",
      " |-- shippingdate_DateOrders_: string (nullable = true)\n",
      " |-- ShippingMode: string (nullable = true)\n",
      " |-- CustomerStreetName: string (nullable = true)\n",
      " |-- order_year: integer (nullable = true)\n",
      " |-- order_month: integer (nullable = true)\n",
      " |-- order_day: integer (nullable = true)\n",
      " |-- order_hour: integer (nullable = true)\n",
      " |-- order_minute: integer (nullable = true)\n",
      " |-- order_dow: integer (nullable = true)\n",
      " |-- ship_year: integer (nullable = true)\n",
      " |-- ship_month: integer (nullable = true)\n",
      " |-- ship_day: integer (nullable = true)\n",
      " |-- ship_hour: integer (nullable = true)\n",
      " |-- ship_minute: integer (nullable = true)\n",
      " |-- ship_dow: integer (nullable = true)\n",
      "\n"
     ]
    }
   ],
   "source": [
    "# Schema hiện tại\n",
    "df.printSchema()"
   ]
  },
  {
   "cell_type": "markdown",
   "id": "d8fd6887-fdee-4874-88a0-96a92a48fd1c",
   "metadata": {
    "jp-MarkdownHeadingCollapsed": true
   },
   "source": [
    "# Phân tích dữ liệu (Exploratory Data Analysis)"
   ]
  },
  {
   "cell_type": "markdown",
   "id": "dbcd922b-eb62-4aca-b066-f4e9014862f7",
   "metadata": {
    "jp-MarkdownHeadingCollapsed": true
   },
   "source": [
    "## 1. Phân tích theo số lượng đơn"
   ]
  },
  {
   "cell_type": "code",
   "execution_count": 17,
   "id": "3b8121b3-784d-4531-bd4a-72211f598250",
   "metadata": {},
   "outputs": [],
   "source": [
    "# Tạo bảng tạm orders để chạy các lệnh spark.sql(\"Select ... from orders ... \") \n",
    "df.createOrReplaceTempView('orders')"
   ]
  },
  {
   "cell_type": "code",
   "execution_count": 18,
   "id": "2bd432db",
   "metadata": {},
   "outputs": [
    {
     "name": "stdout",
     "output_type": "stream",
     "text": [
      "Requirement already satisfied: numpy==1.24.4 in /usr/local/lib/python3.10/dist-packages (1.24.4)\n",
      "\u001b[33mWARNING: Running pip as the 'root' user can result in broken permissions and conflicting behaviour with the system package manager. It is recommended to use a virtual environment instead: https://pip.pypa.io/warnings/venv\u001b[0m\u001b[33m\n",
      "\u001b[0mRequirement already satisfied: pandas in /usr/local/lib/python3.10/dist-packages (2.1.4)\n",
      "Requirement already satisfied: pytz>=2020.1 in /usr/lib/python3/dist-packages (from pandas) (2022.1)\n",
      "Requirement already satisfied: numpy<2,>=1.22.4 in /usr/local/lib/python3.10/dist-packages (from pandas) (1.24.4)\n",
      "Requirement already satisfied: python-dateutil>=2.8.2 in /usr/local/lib/python3.10/dist-packages (from pandas) (2.8.2)\n",
      "Requirement already satisfied: tzdata>=2022.1 in /usr/local/lib/python3.10/dist-packages (from pandas) (2023.3)\n",
      "Requirement already satisfied: six>=1.5 in /usr/lib/python3/dist-packages (from python-dateutil>=2.8.2->pandas) (1.16.0)\n",
      "\u001b[33mWARNING: Running pip as the 'root' user can result in broken permissions and conflicting behaviour with the system package manager. It is recommended to use a virtual environment instead: https://pip.pypa.io/warnings/venv\u001b[0m\u001b[33m\n",
      "\u001b[0m"
     ]
    }
   ],
   "source": [
    "# Các thư viện hỗ trợ việc plot trên Pyspark, \n",
    "# tuy không dùng thư viện ngoài để plot nhưng Pyspark cần có các thư viện này để có thể gọi PysparkPandas.plot\n",
    "# Ví dụ cho scatter plot: \n",
    "# https://spark.apache.org/docs/latest/api/python/reference/pyspark.pandas/api/pyspark.pandas.DataFrame.plot.scatter.html\n",
    "!pip install numpy==1.24.4\n",
    "!pip install pandas"
   ]
  },
  {
   "cell_type": "markdown",
   "id": "d00f0c11",
   "metadata": {},
   "source": [
    "### Đếm số lượng đơn theo tình trạng giao hàng"
   ]
  },
  {
   "cell_type": "code",
   "execution_count": 19,
   "id": "f0126d18-fe24-4db2-b84a-89df1999fc3d",
   "metadata": {},
   "outputs": [
    {
     "name": "stderr",
     "output_type": "stream",
     "text": [
      "                                                                                \r"
     ]
    },
    {
     "data": {
      "text/plain": [
       "<AxesSubplot:xlabel='DeliveryStatus'>"
      ]
     },
     "execution_count": 19,
     "metadata": {},
     "output_type": "execute_result"
    },
    {
     "data": {
      "image/png": "[encoded data removed]",
      "text/plain": [
       "<Figure size 432x288 with 1 Axes>"
      ]
     },
     "metadata": {
      "needs_background": "light"
     },
     "output_type": "display_data"
    }
   ],
   "source": [
    "# Điếm số lần xuất hiện của mỗi trạng thái giao hàng (DeliveryStatus)\n",
    "# và chỉ đếm không tính các giá trị trùng của OrderId (OrderId có thể trùng vì dữ liệu đã được join với chi tiết hóa đơn)\n",
    "# Một OrderId có thể sẽ xuất hiện nhiều lần\n",
    "# Sau đó gom kết quả trả vê rồi sắp xếp theo OrderCount là biến đếm\n",
    "# Plot Bar với trục tung là DeliveryStatus và trục y là OrderCount\n",
    "spark.sql(\"\"\"\n",
    "    Select DeliveryStatus, count(distinct OrderId) as OrderCount\n",
    "    from orders\n",
    "    group by DeliveryStatus\n",
    "    order by OrderCount desc\n",
    "\"\"\").toPandas().plot.bar(x='DeliveryStatus',y='OrderCount')"
   ]
  },
  {
   "cell_type": "markdown",
   "id": "5db5bd9f",
   "metadata": {},
   "source": [
    "### 30 Khách hàng (CustomerId) có số lượng đơn cao nhất"
   ]
  },
  {
   "cell_type": "code",
   "execution_count": 20,
   "id": "e5633972-e715-4593-bcd8-b26a4c234b9d",
   "metadata": {},
   "outputs": [
    {
     "data": {
      "text/plain": [
       "<AxesSubplot:xlabel='CustomerId'>"
      ]
     },
     "execution_count": 20,
     "metadata": {},
     "output_type": "execute_result"
    },
    {
     "data": {
      "image/png": "[encoded data removed]",
      "text/plain": [
       "<Figure size 432x288 with 1 Axes>"
      ]
     },
     "metadata": {
      "needs_background": "light"
     },
     "output_type": "display_data"
    }
   ],
   "source": [
    "# Tương tự như trên nhưng chỉ lấy 30 dòng có giá trị nOrder cao nhất\n",
    "spark.sql(\"\"\"\n",
    "        Select CustomerFname, CustomerId, count(distinct OrderId) as nOrder\n",
    "        from orders\n",
    "        group by CustomerFname,CustomerId\n",
    "        order by nOrder desc\n",
    "        limit 30\n",
    "    \"\"\").toPandas().plot.bar(x='CustomerId',y='nOrder' )"
   ]
  },
  {
   "cell_type": "markdown",
   "id": "ecedfbf6",
   "metadata": {},
   "source": [
    "### Phân chia theo vùng của các danh mục khách hàng (CustomerSegment) theo số lượng đơn"
   ]
  },
  {
   "cell_type": "code",
   "execution_count": 21,
   "id": "9f04636a-422d-4f87-99ba-1f537e14e8e2",
   "metadata": {},
   "outputs": [
    {
     "data": {
      "text/plain": [
       "<AxesSubplot:ylabel='nCount'>"
      ]
     },
     "execution_count": 21,
     "metadata": {},
     "output_type": "execute_result"
    },
    {
     "data": {
      "image/png": "[encoded data removed]",
      "text/plain": [
       "<Figure size 432x288 with 1 Axes>"
      ]
     },
     "metadata": {},
     "output_type": "display_data"
    }
   ],
   "source": [
    "# Piechart plot theo index của PysparkPandas DataFrame chứ không theo x \n",
    "# nên ta phải set index và chỉ định y là giá trị số để plot\n",
    "segment_plot_data = spark.sql(\"\"\"\n",
    "        Select CustomerSegment, count(distinct OrderId) as nCount\n",
    "        from orders\n",
    "        group by CustomerSegment\n",
    "        order by nCount desc\"\"\").toPandas()\n",
    "segment_plot_data.index = segment_plot_data.CustomerSegment\n",
    "segment_plot_data.plot.pie(y='nCount')"
   ]
  },
  {
   "cell_type": "markdown",
   "id": "5724af20",
   "metadata": {},
   "source": [
    "### Top 30 danh mục sản phẩm theo số lượng đơn đặt"
   ]
  },
  {
   "cell_type": "code",
   "execution_count": 22,
   "id": "54abc47d-c1b0-49f0-a128-be0ebc8f24da",
   "metadata": {},
   "outputs": [
    {
     "data": {
      "text/plain": [
       "<AxesSubplot:ylabel='CategoryName'>"
      ]
     },
     "execution_count": 22,
     "metadata": {},
     "output_type": "execute_result"
    },
    {
     "data": {
      "image/png": "[encoded data removed]",
      "text/plain": [
       "<Figure size 432x288 with 1 Axes>"
      ]
     },
     "metadata": {
      "needs_background": "light"
     },
     "output_type": "display_data"
    }
   ],
   "source": [
    "spark.sql(\"\"\"\n",
    "    Select CategoryName, count(distinct OrderId) as OrderCount\n",
    "    from orders\n",
    "    group by CategoryName\n",
    "    order by OrderCount asc\n",
    "    limit 30\n",
    "    \"\"\").toPandas().plot.barh(x='CategoryName',y='OrderCount')"
   ]
  },
  {
   "cell_type": "markdown",
   "id": "676cc818",
   "metadata": {},
   "source": [
    "### Top 30 khu vực giao (OrderRegion) theo số lượng đơn"
   ]
  },
  {
   "cell_type": "code",
   "execution_count": 23,
   "id": "e565e56e-361b-446c-9812-b34753b1bc34",
   "metadata": {},
   "outputs": [
    {
     "data": {
      "text/plain": [
       "<AxesSubplot:ylabel='OrderRegion'>"
      ]
     },
     "execution_count": 23,
     "metadata": {},
     "output_type": "execute_result"
    },
    {
     "data": {
      "image/png": "[encoded data removed]",
      "text/plain": [
       "<Figure size 432x288 with 1 Axes>"
      ]
     },
     "metadata": {
      "needs_background": "light"
     },
     "output_type": "display_data"
    }
   ],
   "source": [
    "spark.sql(\"\"\"\n",
    "    Select OrderRegion, count(distinct OrderId) as OrderCount\n",
    "    from orders\n",
    "    group by OrderRegion\n",
    "    order by OrderCount asc\n",
    "    \"\"\").toPandas().plot.barh(x='OrderRegion',y='OrderCount')"
   ]
  },
  {
   "cell_type": "markdown",
   "id": "d92dd0af",
   "metadata": {},
   "source": [
    "### Top 30 nước đặt hàng theo số lượng đơn"
   ]
  },
  {
   "cell_type": "code",
   "execution_count": 24,
   "id": "85491ae3-f239-4216-9d5c-057ba5b72f2a",
   "metadata": {},
   "outputs": [
    {
     "data": {
      "text/plain": [
       "<AxesSubplot:ylabel='OrderCountry'>"
      ]
     },
     "execution_count": 24,
     "metadata": {},
     "output_type": "execute_result"
    },
    {
     "data": {
      "image/png": "[encoded data removed]",
      "text/plain": [
       "<Figure size 432x288 with 1 Axes>"
      ]
     },
     "metadata": {
      "needs_background": "light"
     },
     "output_type": "display_data"
    }
   ],
   "source": [
    "spark.sql(\"\"\"\n",
    "    Select OrderCountry, count(OrderId) as OrderCount\n",
    "    from orders\n",
    "    group by OrderCountry\n",
    "    order by OrderCount asc\n",
    "    limit 30\n",
    "    \"\"\").toPandas().plot.barh(x='OrderCountry',y='OrderCount')"
   ]
  },
  {
   "cell_type": "markdown",
   "id": "db65cc6b-c97e-4446-a657-0864a34fb531",
   "metadata": {
    "jp-MarkdownHeadingCollapsed": true
   },
   "source": [
    "## 2. Phân tích theo doanh số"
   ]
  },
  {
   "cell_type": "markdown",
   "id": "452ac251",
   "metadata": {},
   "source": [
    "### Top 30 nước đặt hàng có doanh thu cao nhất"
   ]
  },
  {
   "cell_type": "code",
   "execution_count": 25,
   "id": "6f4fb9dc-eae2-4d6f-845e-9bff51ffc448",
   "metadata": {},
   "outputs": [
    {
     "data": {
      "text/plain": [
       "<AxesSubplot:ylabel='OrderCountry'>"
      ]
     },
     "execution_count": 25,
     "metadata": {},
     "output_type": "execute_result"
    },
    {
     "data": {
      "image/png": "[encoded data removed]",
      "text/plain": [
       "<Figure size 432x288 with 1 Axes>"
      ]
     },
     "metadata": {
      "needs_background": "light"
     },
     "output_type": "display_data"
    }
   ],
   "source": [
    "#Top 30 doanh thu theo nuoc dat hang (OrderCountry)\n",
    "spark.sql(\"\"\"\n",
    "    Select OrderCountry, sum(Sales) as TotalSale\n",
    "    from orders\n",
    "    group by OrderCountry\n",
    "    order by TotalSale asc\n",
    "    limit 30\n",
    "\"\"\").toPandas().plot.barh(x=\"OrderCountry\",y=\"TotalSale\")"
   ]
  },
  {
   "cell_type": "markdown",
   "id": "24e6db7f",
   "metadata": {},
   "source": [
    "### Top 30 loại sản phẩm có doanh thu cao nhất"
   ]
  },
  {
   "cell_type": "code",
   "execution_count": 26,
   "id": "b70f3a69-4041-404f-ace7-5391a6bae35e",
   "metadata": {},
   "outputs": [
    {
     "data": {
      "text/plain": [
       "<AxesSubplot:ylabel='ProductName'>"
      ]
     },
     "execution_count": 26,
     "metadata": {},
     "output_type": "execute_result"
    },
    {
     "data": {
      "image/png": "[encoded data removed]",
      "text/plain": [
       "<Figure size 432x288 with 1 Axes>"
      ]
     },
     "metadata": {
      "needs_background": "light"
     },
     "output_type": "display_data"
    }
   ],
   "source": [
    "spark.sql(\"\"\"\n",
    "    Select ProductName, sum(Sales) as TotalSale\n",
    "    from orders\n",
    "    group by ProductName\n",
    "    order by TotalSale asc\n",
    "    limit 30\n",
    "    \"\"\").toPandas().plot.barh(x='ProductName',y='TotalSale')"
   ]
  },
  {
   "cell_type": "markdown",
   "id": "f5171623-085a-4aa1-b419-8f8ad00aad6a",
   "metadata": {
    "jp-MarkdownHeadingCollapsed": true
   },
   "source": [
    "## 3. Phân tích theo tình trạng giao hàng"
   ]
  },
  {
   "cell_type": "markdown",
   "id": "5997fc0c",
   "metadata": {},
   "source": [
    "### Sự phân bố đơn theo ngày giao hàng trong thực tế (Daysforshipping_real_)"
   ]
  },
  {
   "cell_type": "code",
   "execution_count": 27,
   "id": "a6b02b04-bbda-4e65-9a37-304c5cfda215",
   "metadata": {},
   "outputs": [
    {
     "data": {
      "text/plain": [
       "<AxesSubplot:xlabel='Daysforshipping_real_'>"
      ]
     },
     "execution_count": 27,
     "metadata": {},
     "output_type": "execute_result"
    },
    {
     "data": {
      "image/png": "[encoded data removed]",
      "text/plain": [
       "<Figure size 432x288 with 1 Axes>"
      ]
     },
     "metadata": {
      "needs_background": "light"
     },
     "output_type": "display_data"
    }
   ],
   "source": [
    "spark.sql(\n",
    "    \"\"\"\n",
    "    Select Daysforshipping_real_, count(distinct OrderId) as OrderCount\n",
    "    from orders\n",
    "    group by Daysforshipping_real_\n",
    "    order by OrderCount desc\n",
    "    \"\"\"\n",
    ").toPandas().plot.bar(x=\"Daysforshipping_real_\",y=\"OrderCount\")"
   ]
  },
  {
   "cell_type": "markdown",
   "id": "b266bbdc",
   "metadata": {},
   "source": [
    "### Sự phân bố đơn theo ngày giao hàng dự tính (Daysforshipment_scheduled_)"
   ]
  },
  {
   "cell_type": "code",
   "execution_count": 28,
   "id": "ce989a03-db87-4aad-b4ed-14e423ba4cdc",
   "metadata": {},
   "outputs": [
    {
     "data": {
      "text/plain": [
       "<AxesSubplot:xlabel='Daysforshipment_scheduled_'>"
      ]
     },
     "execution_count": 28,
     "metadata": {},
     "output_type": "execute_result"
    },
    {
     "data": {
      "image/png": "[encoded data removed]",
      "text/plain": [
       "<Figure size 432x288 with 1 Axes>"
      ]
     },
     "metadata": {
      "needs_background": "light"
     },
     "output_type": "display_data"
    }
   ],
   "source": [
    "spark.sql(\n",
    "    \"\"\"\n",
    "    Select Daysforshipment_scheduled_, count(distinct OrderId) as OrderCount\n",
    "    from orders\n",
    "    group by Daysforshipment_scheduled_\n",
    "    order by OrderCount desc\n",
    "    \"\"\"\n",
    ").toPandas().plot.bar(x=\"Daysforshipment_scheduled_\",y=\"OrderCount\")"
   ]
  },
  {
   "cell_type": "markdown",
   "id": "899165ae",
   "metadata": {},
   "source": [
    "### Sự phân bố đơn theo năm đặt hàng (order_year)"
   ]
  },
  {
   "cell_type": "code",
   "execution_count": 29,
   "id": "fb5d4489-48de-4b7d-a45a-03148b3f3105",
   "metadata": {},
   "outputs": [
    {
     "name": "stderr",
     "output_type": "stream",
     "text": [
      "                                                                                \r"
     ]
    },
    {
     "data": {
      "text/plain": [
       "<AxesSubplot:ylabel='order_year'>"
      ]
     },
     "execution_count": 29,
     "metadata": {},
     "output_type": "execute_result"
    },
    {
     "data": {
      "image/png": "[encoded data removed]",
      "text/plain": [
       "<Figure size 432x288 with 1 Axes>"
      ]
     },
     "metadata": {
      "needs_background": "light"
     },
     "output_type": "display_data"
    }
   ],
   "source": [
    "spark.sql(\"\"\"select order_year,count(distinct OrderId) as OrderCount\n",
    "        from orders\n",
    "        group by order_year\n",
    "        order by OrderCount asc\"\"\").toPandas().plot.barh(x='order_year',y='OrderCount')"
   ]
  },
  {
   "cell_type": "markdown",
   "id": "228e8ed3",
   "metadata": {},
   "source": [
    "### Sự phân bố đơn theo tháng đặt hàng trong năm (order_month)"
   ]
  },
  {
   "cell_type": "code",
   "execution_count": 30,
   "id": "8c523117-3192-4d9d-bb4b-b3b4fd5543e5",
   "metadata": {},
   "outputs": [
    {
     "data": {
      "text/plain": [
       "<AxesSubplot:ylabel='order_month'>"
      ]
     },
     "execution_count": 30,
     "metadata": {},
     "output_type": "execute_result"
    },
    {
     "data": {
      "image/png": "[encoded data removed]",
      "text/plain": [
       "<Figure size 432x288 with 1 Axes>"
      ]
     },
     "metadata": {
      "needs_background": "light"
     },
     "output_type": "display_data"
    }
   ],
   "source": [
    "spark.sql(\"\"\"select order_month,count(distinct OrderId) as OrderCount\n",
    "        from orders\n",
    "        group by order_month\n",
    "        order by OrderCount asc\"\"\").toPandas().plot.barh(x='order_month',y='OrderCount')"
   ]
  },
  {
   "cell_type": "markdown",
   "id": "53fb69b9",
   "metadata": {},
   "source": [
    "### Sự phân bố đơn theo ngày đặt hàng trong tháng (order_day)"
   ]
  },
  {
   "cell_type": "code",
   "execution_count": 31,
   "id": "ba1fa67c-a7a0-4857-89f7-15788e25d3a8",
   "metadata": {},
   "outputs": [
    {
     "data": {
      "text/plain": [
       "<AxesSubplot:ylabel='order_day'>"
      ]
     },
     "execution_count": 31,
     "metadata": {},
     "output_type": "execute_result"
    },
    {
     "data": {
      "image/png": "[encoded data removed]",
      "text/plain": [
       "<Figure size 432x288 with 1 Axes>"
      ]
     },
     "metadata": {
      "needs_background": "light"
     },
     "output_type": "display_data"
    }
   ],
   "source": [
    "spark.sql(\"\"\"select order_day,count(distinct OrderId) as OrderCount\n",
    "        from orders\n",
    "        group by order_day\n",
    "        order by order_day asc\"\"\").toPandas().plot.barh(x='order_day',y='OrderCount')"
   ]
  },
  {
   "cell_type": "markdown",
   "id": "bb91c25c",
   "metadata": {},
   "source": [
    "### Sự phân bố đơn theo ngày đặt hàng trong tuần"
   ]
  },
  {
   "cell_type": "code",
   "execution_count": 32,
   "id": "ce856e7d-4c2c-4eb8-b3bc-f9f483f77231",
   "metadata": {},
   "outputs": [
    {
     "data": {
      "text/plain": [
       "<AxesSubplot:ylabel='order_dow'>"
      ]
     },
     "execution_count": 32,
     "metadata": {},
     "output_type": "execute_result"
    },
    {
     "data": {
      "image/png": "[encoded data removed]",
      "text/plain": [
       "<Figure size 432x288 with 1 Axes>"
      ]
     },
     "metadata": {
      "needs_background": "light"
     },
     "output_type": "display_data"
    }
   ],
   "source": [
    "spark.sql(\"\"\"select order_dow,count(distinct OrderId) as OrderCount\n",
    "        from orders\n",
    "        group by order_dow\n",
    "        order by OrderCount asc\"\"\").toPandas().plot.barh(x='order_dow',y='OrderCount')"
   ]
  },
  {
   "cell_type": "markdown",
   "id": "8a9fabdb",
   "metadata": {},
   "source": [
    "### Sự phân bố đơn theo giờ đặt hàng trong ngày"
   ]
  },
  {
   "cell_type": "code",
   "execution_count": 33,
   "id": "9584a943-35c0-4896-bb58-aeaf0cf31c9c",
   "metadata": {},
   "outputs": [
    {
     "data": {
      "text/plain": [
       "<AxesSubplot:ylabel='order_hour'>"
      ]
     },
     "execution_count": 33,
     "metadata": {},
     "output_type": "execute_result"
    },
    {
     "data": {
      "image/png": "[encoded data removed]",
      "text/plain": [
       "<Figure size 432x288 with 1 Axes>"
      ]
     },
     "metadata": {
      "needs_background": "light"
     },
     "output_type": "display_data"
    }
   ],
   "source": [
    "spark.sql(\"\"\"select order_hour,count(distinct OrderId) as OrderCount\n",
    "        from orders\n",
    "        group by order_hour\n",
    "        order by OrderCount asc\"\"\").toPandas().plot.barh(x='order_hour',y='OrderCount')"
   ]
  },
  {
   "cell_type": "markdown",
   "id": "6198a163",
   "metadata": {},
   "source": [
    "### Sự phân bố đơn theo tình trạng giao hàng (DeliveryStatus)"
   ]
  },
  {
   "cell_type": "code",
   "execution_count": 34,
   "id": "212e9a40-b88b-4804-842f-c591e88beeaf",
   "metadata": {},
   "outputs": [
    {
     "data": {
      "text/plain": [
       "<AxesSubplot:ylabel='OrderCount'>"
      ]
     },
     "execution_count": 34,
     "metadata": {},
     "output_type": "execute_result"
    },
    {
     "data": {
      "image/png": "[encoded data removed]",
      "text/plain": [
       "<Figure size 432x288 with 1 Axes>"
      ]
     },
     "metadata": {},
     "output_type": "display_data"
    }
   ],
   "source": [
    "deliveryStatusPlotData = spark.sql(\"\"\"\n",
    "    select DeliveryStatus, count(distinct OrderId) as OrderCount\n",
    "    from orders\n",
    "    group by DeliveryStatus\n",
    "    order by OrderCount desc\"\"\").toPandas()\n",
    "deliveryStatusPlotData.index=deliveryStatusPlotData.DeliveryStatus\n",
    "deliveryStatusPlotData.plot.pie(y='OrderCount')"
   ]
  },
  {
   "cell_type": "markdown",
   "id": "d3934760",
   "metadata": {},
   "source": [
    "### Sự phân bố đơn theo nguy cơ giao hàng trễ (Late_delivery_risk)"
   ]
  },
  {
   "cell_type": "code",
   "execution_count": 35,
   "id": "ed76c729-e4e4-471b-b575-47343abf3f00",
   "metadata": {},
   "outputs": [
    {
     "data": {
      "text/plain": [
       "<AxesSubplot:ylabel='OrderCount'>"
      ]
     },
     "execution_count": 35,
     "metadata": {},
     "output_type": "execute_result"
    },
    {
     "data": {
      "image/png": "[encoded data removed]",
      "text/plain": [
       "<Figure size 432x288 with 1 Axes>"
      ]
     },
     "metadata": {},
     "output_type": "display_data"
    }
   ],
   "source": [
    "lateDeliveryRiskPlotData = spark.sql(\"\"\"\n",
    "    select Late_delivery_risk, count(distinct OrderId) as OrderCount\n",
    "    from orders\n",
    "    group by Late_delivery_risk\n",
    "    order by OrderCount desc\"\"\").toPandas()\n",
    "lateDeliveryRiskPlotData.index=lateDeliveryRiskPlotData.Late_delivery_risk\n",
    "lateDeliveryRiskPlotData.plot.pie(y='OrderCount')"
   ]
  },
  {
   "cell_type": "markdown",
   "id": "63e6312e",
   "metadata": {},
   "source": [
    "### Sự phân bố đơn theo chế độ giao hàng (ShippingMode)"
   ]
  },
  {
   "cell_type": "code",
   "execution_count": 36,
   "id": "28777c53-a194-4bbd-8e1c-f58e82e9cfa2",
   "metadata": {},
   "outputs": [
    {
     "data": {
      "text/plain": [
       "<AxesSubplot:ylabel='OrderCount'>"
      ]
     },
     "execution_count": 36,
     "metadata": {},
     "output_type": "execute_result"
    },
    {
     "data": {
      "image/png": "[encoded data removed]",
      "text/plain": [
       "<Figure size 432x288 with 1 Axes>"
      ]
     },
     "metadata": {},
     "output_type": "display_data"
    }
   ],
   "source": [
    "shippinhModePlotData = spark.sql(\"\"\"\n",
    "    select ShippingMode, count(distinct OrderId) as OrderCount\n",
    "    from orders\n",
    "    group by ShippingMode\n",
    "    order by OrderCount desc\"\"\").toPandas()\n",
    "shippinhModePlotData.index=shippinhModePlotData.ShippingMode\n",
    "shippinhModePlotData.plot.pie(y='OrderCount')"
   ]
  },
  {
   "cell_type": "markdown",
   "id": "2eec84d5-bf5a-4b76-86f1-7a25d58a6a34",
   "metadata": {},
   "source": [
    "## 4. Mô tả các cột dữ liệu số"
   ]
  },
  {
   "cell_type": "code",
   "execution_count": 37,
   "id": "d9d0b7d3-4680-4fd0-a285-22647882e293",
   "metadata": {},
   "outputs": [
    {
     "name": "stderr",
     "output_type": "stream",
     "text": [
      "\r\n",
      "[Stage 212:>                                                        (0 + 4) / 4]\r"
     ]
    },
    {
     "name": "stdout",
     "output_type": "stream",
     "text": [
      "+-------+---------------------+--------------------------+------------------+------------------+------------------+-----------------+------------------+------------------+---------------------+--------------------+------------------+------------------+------------------+-------------------+------------------+\n",
      "|summary|Daysforshipping_real_|Daysforshipment_scheduled_|   Benefitperorder|  Salespercustomer|Late_delivery_risk|         Latitude|         Longitude| OrderItemDiscount|OrderItemDiscountRate|OrderItemProfitRatio| OrderItemQuantity|             Sales|    OrderItemTotal|OrderProfitPerOrder|      ProductPrice|\n",
      "+-------+---------------------+--------------------------+------------------+------------------+------------------+-----------------+------------------+------------------+---------------------+--------------------+------------------+------------------+------------------+-------------------+------------------+\n",
      "|  count|               180519|                    180519|            180519|            180519|            180519|           180519|            180519|            180519|               180519|              180519|            180519|            180519|            180519|             180519|            180519|\n",
      "|   mean|   3.4976539865609713|         2.931846509231715|21.974988638593125|183.10760850777316|0.5482913155955883| 29.7199546620736|-84.91567468784329|20.664741121945113|  0.10166819055204027|  0.1206466354902746| 2.127637533999191|203.77209608614436|183.10760850777316| 21.974988638593125| 141.2325499287293|\n",
      "| stddev|   1.6237218283741663|        1.3744492800079782|104.43352574698653|120.04367002812559|0.4976638632880924|9.813646326922855| 21.43324120028373|21.800900954295876|  0.07041521532547643|  0.4667956046074936|1.4534514814226422|132.27307749970336|120.04367002812559| 104.43352574698653|139.73249200374258|\n",
      "|    min|                    0|                         0|       -4274.97998|       7.489999771|                 0|     -33.93755341|      -158.0259857|               0.0|                  0.0|               -2.75|                 1|       9.989999771|       7.489999771|        -4274.97998|       9.989999771|\n",
      "|    max|                    6|                         4|       911.7999878|        1939.98999|                 1|      48.78193283|       115.2630768|             500.0|                 0.25|                 0.5|                 5|        1999.98999|        1939.98999|        911.7999878|        1999.98999|\n",
      "+-------+---------------------+--------------------------+------------------+------------------+------------------+-----------------+------------------+------------------+---------------------+--------------------+------------------+------------------+------------------+-------------------+------------------+\n",
      "\n"
     ]
    },
    {
     "name": "stderr",
     "output_type": "stream",
     "text": [
      "\r\n",
      "                                                                                \r"
     ]
    }
   ],
   "source": [
    "spark.sql(\"\"\"\n",
    "    Select \n",
    "    Daysforshipping_real_,\n",
    "    Daysforshipment_scheduled_,\n",
    "    Benefitperorder,\n",
    "    Salespercustomer,\n",
    "    Late_delivery_risk,\n",
    "    Latitude,\n",
    "    Longitude,\n",
    "    OrderItemDiscount,\n",
    "    OrderItemDiscountRate,\n",
    "    OrderItemProfitRatio,\n",
    "    OrderItemQuantity,\n",
    "    Sales,\n",
    "    OrderItemTotal,\n",
    "    OrderProfitPerOrder,\n",
    "    ProductPrice\n",
    "    from orders\n",
    "\"\"\").describe().show()"
   ]
  },
  {
   "cell_type": "markdown",
   "id": "1de92090-727e-41f5-ab51-9b59a8353b45",
   "metadata": {},
   "source": [
    "# Mã hóa các biến phân loại"
   ]
  },
  {
   "cell_type": "markdown",
   "id": "02d803f0-aa76-4e58-aaf4-a4688b96f1d6",
   "metadata": {},
   "source": [
    "## 1. Danh sách các biến phân loại"
   ]
  },
  {
   "cell_type": "code",
   "execution_count": 38,
   "id": "868a1227-0231-43a2-b1e8-913374b5d587",
   "metadata": {},
   "outputs": [
    {
     "name": "stdout",
     "output_type": "stream",
     "text": [
      "['Type', 'DeliveryStatus', 'CategoryName', 'CustomerCity', 'CustomerCountry', 'CustomerFname', 'CustomerLname', 'CustomerSegment', 'CustomerState', 'CustomerStreet', 'DepartmentName', 'Market', 'OrderCity', 'OrderCountry', 'orderdate_DateOrders_', 'OrderRegion', 'OrderState', 'OrderStatus', 'ProductName', 'shippingdate_DateOrders_', 'ShippingMode', 'CustomerStreetName']\n"
     ]
    }
   ],
   "source": [
    "columnList = [item[0] for item in df.dtypes if item[1].startswith('string')]\n",
    "print(columnList)"
   ]
  },
  {
   "cell_type": "markdown",
   "id": "0aadd531",
   "metadata": {},
   "source": [
    "## 2. Mã hóa các biến phân loại"
   ]
  },
  {
   "cell_type": "code",
   "execution_count": 39,
   "id": "50298c7d-a948-4954-ad01-6f0c93b8be21",
   "metadata": {},
   "outputs": [],
   "source": [
    "#Tạo dict dùng để mã hóa\n",
    "encoder = dict()"
   ]
  },
  {
   "cell_type": "code",
   "execution_count": 40,
   "id": "f4065ad6-9b46-420b-bc0c-257bc5dbf7ba",
   "metadata": {},
   "outputs": [
    {
     "name": "stdout",
     "output_type": "stream",
     "text": [
      "+--------+---------+\n",
      "|    Type|occurence|\n",
      "+--------+---------+\n",
      "|    CASH|    19616|\n",
      "|   DEBIT|    69295|\n",
      "| PAYMENT|    41725|\n",
      "|TRANSFER|    49883|\n",
      "+--------+---------+\n",
      "\n",
      "+-----------------+---------+\n",
      "|   DeliveryStatus|occurence|\n",
      "+-----------------+---------+\n",
      "| Advance shipping|    41592|\n",
      "|    Late delivery|    98977|\n",
      "|Shipping canceled|     7754|\n",
      "| Shipping on time|    32196|\n",
      "+-----------------+---------+\n",
      "\n",
      "+-----------------+---------+\n",
      "|     CustomerCity|occurence|\n",
      "+-----------------+---------+\n",
      "|        Aguadilla|       50|\n",
      "|          Alameda|      118|\n",
      "|           Albany|       71|\n",
      "|      Albuquerque|      552|\n",
      "|        Algonquin|      128|\n",
      "|         Alhambra|      117|\n",
      "|        Allentown|       50|\n",
      "|       Alpharetta|      106|\n",
      "|         Amarillo|      292|\n",
      "|          Anaheim|      331|\n",
      "|        Ann Arbor|      185|\n",
      "|        Annandale|      104|\n",
      "|        Annapolis|       93|\n",
      "|          Antioch|      347|\n",
      "|             Apex|      240|\n",
      "|           Apopka|      125|\n",
      "|          Arecibo|      122|\n",
      "|        Arlington|      109|\n",
      "|Arlington Heights|       66|\n",
      "|         Asheboro|       67|\n",
      "+-----------------+---------+\n",
      "only showing top 20 rows\n",
      "\n",
      "+---------------+---------+\n",
      "|CustomerCountry|occurence|\n",
      "+---------------+---------+\n",
      "|        EE. UU.|   111146|\n",
      "|    Puerto Rico|    69373|\n",
      "+---------------+---------+\n",
      "\n",
      "+---------------+---------+\n",
      "|CustomerSegment|occurence|\n",
      "+---------------+---------+\n",
      "|       Consumer|    93504|\n",
      "|      Corporate|    54789|\n",
      "|    Home Office|    32226|\n",
      "+---------------+---------+\n",
      "\n",
      "+-------------+---------+\n",
      "|CustomerState|occurence|\n",
      "+-------------+---------+\n",
      "|        91732|        1|\n",
      "|        95758|        2|\n",
      "|           AL|       35|\n",
      "|           AR|      164|\n",
      "|           AZ|     3026|\n",
      "|           CA|    29223|\n",
      "|           CO|     1914|\n",
      "|           CT|     1094|\n",
      "|           DC|      579|\n",
      "|           DE|      269|\n",
      "|           FL|     5456|\n",
      "|           GA|     2503|\n",
      "|           HI|     1248|\n",
      "|           IA|       67|\n",
      "|           ID|      167|\n",
      "|           IL|     7631|\n",
      "|           IN|      581|\n",
      "|           KS|      458|\n",
      "|           KY|      487|\n",
      "|           LA|      948|\n",
      "+-------------+---------+\n",
      "only showing top 20 rows\n",
      "\n",
      "+------------+---------+\n",
      "|      Market|occurence|\n",
      "+------------+---------+\n",
      "|      Africa|    11614|\n",
      "|      Europe|    50252|\n",
      "|       LATAM|    51594|\n",
      "|Pacific Asia|    41260|\n",
      "|        USCA|    25799|\n",
      "+------------+---------+\n",
      "\n",
      "+------------+---------+\n",
      "|   OrderCity|occurence|\n",
      "+------------+---------+\n",
      "|      Aachen|       63|\n",
      "|       Aalen|        3|\n",
      "|       Aalst|       23|\n",
      "|         Aba|       36|\n",
      "|      Abadan|       33|\n",
      "|   Abakaliki|        6|\n",
      "|   Abbeville|       12|\n",
      "|  Abbotsford|        9|\n",
      "|    Abeokuta|       15|\n",
      "|    Aberdeen|       21|\n",
      "|        Abha|       22|\n",
      "|     Abidjan|      188|\n",
      "|     Abilene|        3|\n",
      "|Abreu e Lima|        7|\n",
      "|   Abu Kabir|       16|\n",
      "|    Acarigua|       26|\n",
      "|    Acayucan|       29|\n",
      "|       Accra|      169|\n",
      "|      Acerra|        4|\n",
      "|    Acireale|       60|\n",
      "+------------+---------+\n",
      "only showing top 20 rows\n",
      "\n",
      "+--------------------+---------+\n",
      "|        OrderCountry|occurence|\n",
      "+--------------------+---------+\n",
      "|          Afganistán|      163|\n",
      "|             Albania|       37|\n",
      "|            Alemania|     9564|\n",
      "|              Angola|      306|\n",
      "|        Arabia Saudí|      860|\n",
      "|             Argelia|      516|\n",
      "|           Argentina|     1931|\n",
      "|             Armenia|        5|\n",
      "|           Australia|     8497|\n",
      "|             Austria|     1387|\n",
      "|          Azerbaiyán|       68|\n",
      "|           Bangladés|      466|\n",
      "|            Barbados|      117|\n",
      "|              Baréin|        4|\n",
      "|              Belice|       13|\n",
      "|               Benín|       85|\n",
      "|         Bielorrusia|      210|\n",
      "|             Bolivia|      213|\n",
      "|Bosnia y Herzegovina|       45|\n",
      "|            Botsuana|       13|\n",
      "+--------------------+---------+\n",
      "only showing top 20 rows\n",
      "\n",
      "+---------------+---------+\n",
      "|    OrderRegion|occurence|\n",
      "+---------------+---------+\n",
      "|         Canada|      959|\n",
      "|      Caribbean|     8318|\n",
      "| Central Africa|     1677|\n",
      "|Central America|    28341|\n",
      "|   Central Asia|      553|\n",
      "|    East Africa|     1852|\n",
      "|    East of USA|     6915|\n",
      "|   Eastern Asia|     7280|\n",
      "| Eastern Europe|     3920|\n",
      "|   North Africa|     3232|\n",
      "|Northern Europe|     9792|\n",
      "|        Oceania|    10148|\n",
      "|  South America|    14935|\n",
      "|     South Asia|     7731|\n",
      "| South of  USA |     4045|\n",
      "| Southeast Asia|     9539|\n",
      "|Southern Africa|     1157|\n",
      "|Southern Europe|     9431|\n",
      "|     US Center |     5887|\n",
      "|    West Africa|     3696|\n",
      "+---------------+---------+\n",
      "only showing top 20 rows\n",
      "\n",
      "+----------------+---------+\n",
      "|      OrderState|occurence|\n",
      "+----------------+---------+\n",
      "|            Abia|       36|\n",
      "|         Abruzos|       61|\n",
      "|            Aceh|       19|\n",
      "|            Acre|       36|\n",
      "|        Adamaoua|       14|\n",
      "|         Adamawa|       12|\n",
      "|           Adana|      159|\n",
      "|        Adiyaman|       13|\n",
      "|  Afyonkarahisar|        9|\n",
      "|           Aichi|       42|\n",
      "|           Ajmán|        7|\n",
      "|          Akmola|       22|\n",
      "|         Aksaray|        6|\n",
      "|       Akwa Ibom|       19|\n",
      "|       Al Asimah|        2|\n",
      "|Al Bahr al Ahmar|       50|\n",
      "|     Al Buhayrah|        7|\n",
      "|      Al Hudayda|        7|\n",
      "|         Al Jawf|       24|\n",
      "|       Al Marqab|        6|\n",
      "+----------------+---------+\n",
      "only showing top 20 rows\n",
      "\n",
      "+---------------+---------+\n",
      "|    OrderStatus|occurence|\n",
      "+---------------+---------+\n",
      "|       CANCELED|     3692|\n",
      "|         CLOSED|    19616|\n",
      "|       COMPLETE|    59491|\n",
      "|        ON_HOLD|     9804|\n",
      "| PAYMENT_REVIEW|     1893|\n",
      "|        PENDING|    20227|\n",
      "|PENDING_PAYMENT|    39832|\n",
      "|     PROCESSING|    21902|\n",
      "|SUSPECTED_FRAUD|     4062|\n",
      "+---------------+---------+\n",
      "\n",
      "+--------------+---------+\n",
      "|  ShippingMode|occurence|\n",
      "+--------------+---------+\n",
      "|   First Class|    27814|\n",
      "|      Same Day|     9737|\n",
      "|  Second Class|    35216|\n",
      "|Standard Class|   107752|\n",
      "+--------------+---------+\n",
      "\n",
      "+--------------------+---------+\n",
      "|  CustomerStreetName|occurence|\n",
      "+--------------------+---------+\n",
      "|         Amber Abbey|       29|\n",
      "|         Amber Alley|       13|\n",
      "|   Amber Anchor Glen|       60|\n",
      "|    Amber Apple Cape|       21|\n",
      "|     Amber Autoroute|        5|\n",
      "|   Amber Autumn Hill|       31|\n",
      "|  Amber Autumn Swale|       11|\n",
      "|        Amber Avenue|       42|\n",
      "| Amber Barn Turna...|       22|\n",
      "|     Amber Bear Moor|       54|\n",
      "|          Amber Bend|      101|\n",
      "| Amber Berry Passage|        7|\n",
      "| Amber Blossom Ho...|       60|\n",
      "|   Amber Blossom Way|       44|\n",
      "| Amber Bluff Expr...|       24|\n",
      "|   Amber Bluff Manor|       16|\n",
      "|  Amber Branch Glade|       10|\n",
      "| Amber Branch Hig...|       24|\n",
      "| Amber Brook Gardens|       23|\n",
      "| Amber Butterfly ...|       19|\n",
      "+--------------------+---------+\n",
      "only showing top 20 rows\n",
      "\n"
     ]
    }
   ],
   "source": [
    "for c in columnList:\n",
    "    # Các cột CustomerFname, CustomerLName không có giá trị phân tích\n",
    "    # Cột DepartmentName, ProductName đã có giá trị ID thay thế tương ứng\n",
    "    # Cột CustomerStreet (thành CustomerStreetName, bỏ số nhà), \n",
    "    # orderdate_DateOrders_ và shippingdate_DateOrders_ đã được xử lý\n",
    "    if ( c in ['CustomerFname','CustomerStreet','DepartmentName', 'CustomerLname','CategoryName','ProductName','orderdate_DateOrders_','shippingdate_DateOrders_'] ):\n",
    "        continue\n",
    "    # Đối với mỗi cột nằm trong danh sách các thuộc tính phân loại (columnList), \n",
    "    # thay thế tên cột vào query, query đếm số lần xuất hiện, sắp xếp theo tên biến phân loại tăng dần,\n",
    "    # Nhóm theo biến phân loại\n",
    "    temp_df = spark.sql(f\"\"\"\n",
    "    Select {c}, count(*) as occurence \n",
    "    from orders \n",
    "    group by {c} \n",
    "    order by {c} asc\"\"\")\n",
    "    temp_df.show()\n",
    "    # Lấy kết quả trả về (là một chuỗi gồm danh sách các biến phân loại \n",
    "    # đã được sắp xếp như các Dataframe được hiện ra bên dưới)\n",
    "    temp_rows = temp_df.collect()\n",
    "    temp_output = list()\n",
    "    # Đọc qua từng dòng trong kết quả trả về của DataFrame.collect(). \n",
    "    # Mỗi dòng sẽ gồm 2 phần tử là [Thuộc tính phân loại, số lần xuất hiện], \n",
    "    # ta lấy phần tử thứ nhất thêm vào mảng output tạm\n",
    "    for r in temp_rows:\n",
    "        temp_output.append(r[0])\n",
    "    # Thêm { tên cột: Mảng output tạm } vào dict\n",
    "    encoder[c] = temp_output"
   ]
  },
  {
   "cell_type": "code",
   "execution_count": 41,
   "id": "1cc2e486-5f78-48b8-8269-542ef2e7cd79",
   "metadata": {},
   "outputs": [
    {
     "name": "stdout",
     "output_type": "stream",
     "text": [
      "dict_keys(['Type', 'DeliveryStatus', 'CustomerCity', 'CustomerCountry', 'CustomerSegment', 'CustomerState', 'Market', 'OrderCity', 'OrderCountry', 'OrderRegion', 'OrderState', 'OrderStatus', 'ShippingMode', 'CustomerStreetName'])\n"
     ]
    }
   ],
   "source": [
    "# Kiểm tra các khóa trong dict\n",
    "print(encoder.keys())"
   ]
  },
  {
   "cell_type": "code",
   "execution_count": 42,
   "id": "8de565ca",
   "metadata": {},
   "outputs": [
    {
     "name": "stdout",
     "output_type": "stream",
     "text": [
      "['CASH', 'DEBIT', 'PAYMENT', 'TRANSFER']\n",
      "1\n",
      "DEBIT\n"
     ]
    }
   ],
   "source": [
    "print(encoder['Type'])\n",
    "# Ví dụ sử dụng dict để mã hóa thuộc giá trị \"DEBIT\" của thuộc tính \"Type\"\n",
    "temp = encoder['Type'].index('DEBIT')\n",
    "print(temp)\n",
    "# Để giải mã giá trị DEBIT của thuộc tính Type\n",
    "print(encoder['Type'][temp])"
   ]
  },
  {
   "cell_type": "code",
   "execution_count": 43,
   "id": "3e2dac43-f5b6-48f0-ae04-d963f29482dc",
   "metadata": {},
   "outputs": [],
   "source": [
    "from pyspark.sql.types import *\n",
    "# Bên cạnh các hàm hỗ trợ trong pysparks.sql.functions ta có thể định nghĩa \n",
    "# các hàm thủ công udf (UserDefinedFunction)\n",
    "# Hàm này nhận 3 tham số cho hàm khởi tạo là udf(hàm xử lý, kiểu trả về)\n",
    "# Các kiểu trả về có thể tham khảo thêm ở pyspark.sql.types\n",
    "# Bên cạnh cách sử dụng lambda như bên dưới có thể sử dụng hàm xử lý như\n",
    "\n",
    "# def typeEncoder (x):\n",
    "#     return encoder['Type'].index(x)\n",
    "# udf_type = udf(typeEncoder,IntegerType())\n",
    "\n",
    "# Các hàm lambda này nhận vào x và trả về nơi x được tìm thấy bên trong encoder[Cột tương ứng]\n",
    "\n",
    "udf_type = udf(lambda x: encoder['Type'].index(x),IntegerType())\n",
    "udf_delivery = udf(lambda x: encoder['DeliveryStatus'].index(x),IntegerType())\n",
    "udf_cCity = udf(lambda x:encoder['CustomerCity'].index(x),IntegerType())\n",
    "udf_cCountry = udf(lambda x:encoder['CustomerCountry'].index(x),IntegerType())\n",
    "udf_cSegment = udf(lambda x:encoder['CustomerSegment'].index(x),IntegerType())\n",
    "udf_cState = udf(lambda x:encoder['CustomerState'].index(x),IntegerType())\n",
    "udf_market = udf(lambda x:encoder['Market'].index(x),IntegerType())\n",
    "udf_oCity = udf(lambda x:encoder['OrderCity'].index(x),IntegerType())\n",
    "udf_oCountry = udf(lambda x:encoder['OrderCountry'].index(x),IntegerType())\n",
    "udf_oRegion = udf(lambda x:encoder['OrderRegion'].index(x),IntegerType())\n",
    "udf_oState = udf(lambda x:encoder['OrderState'].index(x),IntegerType())\n",
    "udf_oStatus = udf(lambda x:encoder['OrderStatus'].index(x),IntegerType())\n",
    "udf_oMode = udf(lambda x:encoder['ShippingMode'].index(x),IntegerType())\n",
    "udf_OSName = udf(lambda x:encoder['CustomerStreetName'].index(x),IntegerType())\n",
    "\n",
    "df_selectedFeatures = df.drop('CustomerFname','CustomerStreet','DepartmentName', 'CustomerLname','CategoryName',\n",
    "                               'ProductName','orderdate_DateOrders_','shippingdate_DateOrders_')\n",
    "# Lấy tất cả các dòng, áp dụng encoder tương ứng với thuộc tính cho các thuộc tính sẽ được mã hóa và thêm mới một cột mới là encoded + Tên cột sau cột cuối cùng của mỗi dòng\n",
    "df_selectedFeatures = df_selectedFeatures.select(\n",
    "    \"*\",\n",
    "    udf_type(df_selectedFeatures.Type).alias('encodedType'),\n",
    "    udf_delivery(df_selectedFeatures.DeliveryStatus).alias('encodedDeliveryStatus'),\n",
    "    udf_cCity(df_selectedFeatures.CustomerCity).alias('encodedCustomerCity'),\n",
    "    udf_cCountry(df_selectedFeatures.CustomerCountry).alias('encodedCustomerCountry'),\n",
    "    udf_cSegment(df_selectedFeatures.CustomerSegment).alias('encodedCustomerSegment'),\n",
    "    udf_cState(df_selectedFeatures.CustomerState).alias('encodedCustomerState'),\n",
    "    udf_market(df_selectedFeatures.Market).alias('encodedMarket'),\n",
    "    udf_oCity(df_selectedFeatures.OrderCity).alias('encodedOrderCity'),\n",
    "    udf_oCountry(df_selectedFeatures.OrderCountry).alias('encodedOrderCountry'),\n",
    "    udf_oRegion(df_selectedFeatures.OrderRegion).alias('encodedOrderRegion'),\n",
    "    udf_oState(df_selectedFeatures.OrderState).alias('encodedOrderState'),\n",
    "    udf_oStatus(df_selectedFeatures.OrderStatus).alias('encodedOrderStatus'),\n",
    "    udf_oMode(df_selectedFeatures.ShippingMode).alias('encodedShippingMode'),\n",
    "    udf_OSName(df_selectedFeatures.CustomerStreetName).alias('encodedCustomerStreetName')\n",
    ").drop('Type','DeliveryStatus','CustomerCity','CustomerCountry','CustomerSegment','CustomerState','Market'\n",
    "       ,'OrderCity','OrderRegion','OrderState','ShippingMode','CustomerStreetName','OrderCountry','OrderStatus')"
   ]
  },
  {
   "cell_type": "code",
   "execution_count": 44,
   "id": "a7d45028-45ef-42ff-b7ce-863962db0095",
   "metadata": {},
   "outputs": [
    {
     "name": "stderr",
     "output_type": "stream",
     "text": [
      "23/12/21 04:07:39 WARN DAGScheduler: Broadcasting large task binary with size 2.8 MiB\n",
      "23/12/21 04:07:54 WARN DAGScheduler: Broadcasting large task binary with size 3.2 MiB\n",
      "[Stage 371:>                                                        (0 + 1) / 1]\r"
     ]
    },
    {
     "name": "stdout",
     "output_type": "stream",
     "text": [
      "+-------+---------------------+--------------------------+------------------+------------------+------------------+------------------+-----------------+-----------------+------------------+-----------------+------------------+-----------------+------------------+---------------------+--------------------+------------------+------------------+------------------+-------------------+-----------------+------------------+------------------+------------------+-----------------+------------------+------------------+------------------+------------------+------------------+------------------+------------------+------------------+------------------+------------------+---------------------+-------------------+----------------------+----------------------+--------------------+------------------+------------------+-------------------+------------------+------------------+------------------+-------------------+-------------------------+\n",
      "|summary|Daysforshipping_real_|Daysforshipment_scheduled_|   Benefitperorder|  Salespercustomer|Late_delivery_risk|        CategoryId|       CustomerId|  CustomerZipcode|      DepartmentId|         Latitude|         Longitude|          OrderId| OrderItemDiscount|OrderItemDiscountRate|OrderItemProfitRatio| OrderItemQuantity|             Sales|    OrderItemTotal|OrderProfitPerOrder|    ProductCardId|      ProductPrice|        order_year|       order_month|        order_day|        order_hour|      order_minute|         order_dow|         ship_year|        ship_month|          ship_day|         ship_hour|       ship_minute|          ship_dow|       encodedType|encodedDeliveryStatus|encodedCustomerCity|encodedCustomerCountry|encodedCustomerSegment|encodedCustomerState|     encodedMarket|  encodedOrderCity|encodedOrderCountry|encodedOrderRegion| encodedOrderState|encodedOrderStatus|encodedShippingMode|encodedCustomerStreetName|\n",
      "+-------+---------------------+--------------------------+------------------+------------------+------------------+------------------+-----------------+-----------------+------------------+-----------------+------------------+-----------------+------------------+---------------------+--------------------+------------------+------------------+------------------+-------------------+-----------------+------------------+------------------+------------------+-----------------+------------------+------------------+------------------+------------------+------------------+------------------+------------------+------------------+------------------+------------------+---------------------+-------------------+----------------------+----------------------+--------------------+------------------+------------------+-------------------+------------------+------------------+------------------+-------------------+-------------------------+\n",
      "|  count|               180519|                    180519|            180519|            180519|            180519|            180519|           180519|           180519|            180519|           180519|            180519|           180519|            180519|               180519|              180519|            180519|            180519|            180519|             180519|           180519|            180519|            180519|            180519|           180519|            180519|            180519|            180519|            180519|            180519|            180519|            180519|            180519|            180519|            180519|               180519|             180519|                180519|                180519|              180519|            180519|            180519|             180519|            180519|            180519|            180519|             180519|                   180519|\n",
      "|   mean|   3.4976539865609713|         2.931846509231715|21.974988638593125|183.10760850777316|0.5482913155955883| 31.85145053983237| 6691.37949467923|35920.52994975598| 5.443460245181948| 29.7199546620736|-84.91567468784329| 36221.8949030296|20.664741121945113|  0.10166819055204027|  0.1206466354902746| 2.127637533999191|203.77209608614436|183.10760850777316| 21.974988638593125|692.5097635151978| 141.2325499287293|2015.9711498512622| 6.235448900115777|15.73934599682028|11.483688697588619|29.493532536741284|4.0015123061838365|2015.9794038300677| 6.252494197286712|15.702169854696736|11.511807621358416|29.493532536741284|3.9951528647953953|  1.67513668921277|   1.1692564217616983| 193.98663298600147|    0.3842974977703178|    0.6605454273511375|  26.152150189176762|2.1073460411369442|1847.1140987929248|  65.14562456029559|12.128978113107207|  550.955057362383|3.8861227903987947|  2.234806308477224|       3407.6152094793347|\n",
      "| stddev|   1.6237218283741663|        1.3744492800079782|104.43352574698653|120.04367002812559|0.4976638632880924|15.640063883389177|4162.918105728266|37542.43475466705|1.6292460350717755|9.813646326922855| 21.43324120028373|21045.37956885945|21.800900954295876|  0.07041521532547643|  0.4667956046074936|1.4534514814226422|132.27307749970336|120.04367002812559| 104.43352574698653|336.4468073302184|139.73249200374258|0.8294288168686127|3.4035708786917795|8.821895319038124| 6.923005534869744| 17.31784979850197|2.0038305575744095|0.8319618190943773|3.3983908783068646| 8.808807839810894| 6.919110333213621| 17.31784979850197| 2.000765371057929|0.9946474707208545|   0.9788378350333965| 160.93046714588863|    0.4864300995230907|    0.7624077617032281|  13.050625759275722|1.1508397719954844|1004.5025855801264|  41.85284178273658| 6.983245568391343|307.28292738573714|2.2608507458783293|  1.100919908874379|       1948.4488489404227|\n",
      "|    min|                    0|                         0|       -4274.97998|       7.489999771|                 0|                 2|                1|                0|                 2|     -33.93755341|      -158.0259857|                1|               0.0|                  0.0|               -2.75|                 1|       9.989999771|       7.489999771|        -4274.97998|               19|       9.989999771|              2015|                 1|                1|                 0|                 0|                 1|              2015|                 1|                 1|                 0|                 0|                 1|                 0|                    0|                  0|                     0|                     0|                   0|                 0|                 0|                  0|                 0|                 0|                 0|                  0|                        0|\n",
      "|    max|                    6|                         4|       911.7999878|        1939.98999|                 1|                76|            20757|            99205|                12|      48.78193283|       115.2630768|            77204|             500.0|                 0.25|                 0.5|                 5|        1999.98999|        1939.98999|        911.7999878|             1363|        1999.98999|              2018|                12|               31|                23|                59|                 7|              2018|                12|                31|                23|                59|                 7|                 3|                    3|                562|                     1|                     2|                  45|                 4|              3596|                163|                22|              1088|                 8|                  3|                     6770|\n",
      "+-------+---------------------+--------------------------+------------------+------------------+------------------+------------------+-----------------+-----------------+------------------+-----------------+------------------+-----------------+------------------+---------------------+--------------------+------------------+------------------+------------------+-------------------+-----------------+------------------+------------------+------------------+-----------------+------------------+------------------+------------------+------------------+------------------+------------------+------------------+------------------+------------------+------------------+---------------------+-------------------+----------------------+----------------------+--------------------+------------------+------------------+-------------------+------------------+------------------+------------------+-------------------+-------------------------+\n",
      "\n"
     ]
    },
    {
     "name": "stderr",
     "output_type": "stream",
     "text": [
      "\r\n",
      "                                                                                \r"
     ]
    }
   ],
   "source": [
    "# Mô tả của các cột sau khi được mã hóa\n",
    "df_selectedFeatures.describe().show()"
   ]
  },
  {
   "cell_type": "markdown",
   "id": "8ec26690",
   "metadata": {},
   "source": [
    "# Cài đặt mô hình"
   ]
  },
  {
   "cell_type": "markdown",
   "id": "a56ee756",
   "metadata": {},
   "source": [
    "## Xác định hệ số tương quan giữa các cột so với y là Daysforshipping_real_"
   ]
  },
  {
   "cell_type": "markdown",
   "id": "26cad050",
   "metadata": {},
   "source": [
    "### Tính tổng, tổng tích y, và tổng các bình phương của mỗi cột"
   ]
  },
  {
   "cell_type": "code",
   "execution_count": 45,
   "id": "7af07926",
   "metadata": {
    "scrolled": true
   },
   "outputs": [
    {
     "name": "stdout",
     "output_type": "stream",
     "text": [
      "Các cột được xét\n"
     ]
    },
    {
     "data": {
      "text/plain": [
       "['Daysforshipping_real_',\n",
       " 'Daysforshipment_scheduled_',\n",
       " 'Benefitperorder',\n",
       " 'Salespercustomer',\n",
       " 'Late_delivery_risk',\n",
       " 'CategoryId',\n",
       " 'CustomerId',\n",
       " 'CustomerZipcode',\n",
       " 'DepartmentId',\n",
       " 'Latitude',\n",
       " 'Longitude',\n",
       " 'OrderId',\n",
       " 'OrderItemDiscount',\n",
       " 'OrderItemDiscountRate',\n",
       " 'OrderItemProfitRatio',\n",
       " 'OrderItemQuantity',\n",
       " 'Sales',\n",
       " 'OrderItemTotal',\n",
       " 'OrderProfitPerOrder',\n",
       " 'ProductCardId',\n",
       " 'ProductPrice',\n",
       " 'order_year',\n",
       " 'order_month',\n",
       " 'order_day',\n",
       " 'order_hour',\n",
       " 'order_minute',\n",
       " 'order_dow',\n",
       " 'ship_year',\n",
       " 'ship_month',\n",
       " 'ship_day',\n",
       " 'ship_hour',\n",
       " 'ship_minute',\n",
       " 'ship_dow',\n",
       " 'encodedType',\n",
       " 'encodedDeliveryStatus',\n",
       " 'encodedCustomerCity',\n",
       " 'encodedCustomerCountry',\n",
       " 'encodedCustomerSegment',\n",
       " 'encodedCustomerState',\n",
       " 'encodedMarket',\n",
       " 'encodedOrderCity',\n",
       " 'encodedOrderCountry',\n",
       " 'encodedOrderRegion',\n",
       " 'encodedOrderState',\n",
       " 'encodedOrderStatus',\n",
       " 'encodedShippingMode',\n",
       " 'encodedCustomerStreetName']"
      ]
     },
     "execution_count": 45,
     "metadata": {},
     "output_type": "execute_result"
    }
   ],
   "source": [
    "columnsList = df_selectedFeatures.columns\n",
    "print(\"Các cột được xét\")\n",
    "columnsList"
   ]
  },
  {
   "cell_type": "code",
   "execution_count": 46,
   "id": "e84dc686",
   "metadata": {},
   "outputs": [
    {
     "name": "stdout",
     "output_type": "stream",
     "text": [
      "[631393, 2684325, 2684325.0]\n",
      "[529254, 2058978, 1892710.0]\n",
      "[3966902.974050192, 13718700.352976091, 2055967176.9289484]\n",
      "[33054402.380214702, 115674674.16924083, 8653864089.029078]\n",
      "[98977, 404742, 98977.0]\n",
      "[5749792, 20109189, 227296012.0]\n",
      "[1207921135, 4229077516, 11211015283375.0]\n",
      "[6484338146, 22681226517, 487349142916242.0]\n",
      "[982648, 3436184, 5828180.0]\n",
      "[5365016.495642864, 18753254.51055541, 176833312.13806245]\n",
      "[-15328892.678974783, -53590594.409079134, 1384590313.978568]\n",
      "[6538740246, 22859698026, 316798428548968.0]\n",
      "[3730378.40259241, 13061831.129248863, 162883769.48019052]\n",
      "[18353.040090263756, 64222.86031715826, 2760.9832367061317]\n",
      "[21779.00999206888, 75540.85997914417, 41962.1000811003]\n",
      "[384079, 1343030, 1198529.0]\n",
      "[36784735.01337469, 128736343.63214147, 10654075637.793993]\n",
      "[33054402.380214702, 115674674.16924083, 8653864089.029078]\n",
      "[3966902.974050192, 13718700.352976091, 2055967176.9289484]\n",
      "[125011170, 437161132, 107005453286.0]\n",
      "[25495158.68058428, 89262751.12538402, 7125390786.886689]\n",
      "[363921096, 1272870277, 733654554546.0]\n",
      "[1125617, 3929444, 9109901.0]\n",
      "[2841251, 9936481, 58768397.0]\n",
      "[2073024, 7284577, 32457830.0]\n",
      "[5324143, 18592218, 211166563.0]\n",
      "[722349, 2526342, 3615329.0]\n",
      "[363922586, 1272876604, 733660562912.0]\n",
      "[1128694, 3942761, 9141966.0]\n",
      "[2834540, 9903516, 58515740.0]\n",
      "[2078100, 7228693, 32564822.0]\n",
      "[5324143, 18592218, 211166563.0]\n",
      "[721201, 2522324, 3603933.0]\n"
     ]
    },
    {
     "name": "stderr",
     "output_type": "stream",
     "text": [
      "\r\n",
      "[Stage 474:============================>                            (2 + 2) / 4]\r\n",
      "\r\n",
      "                                                                                \r"
     ]
    },
    {
     "name": "stdout",
     "output_type": "stream",
     "text": [
      "[302394, 1059085, 685142.0]\n",
      "[211073, 746028, 419757.0]\n",
      "[35018273, 122350936, 11468243101.0]\n",
      "[69373, 243047, 69373.0]\n",
      "[119241, 417522, 183693.0]\n",
      "[4720960, 16532577, 154208870.0]\n",
      "[380416, 1330203, 1040752.0]\n"
     ]
    },
    {
     "name": "stderr",
     "output_type": "stream",
     "text": [
      "                                                                                \r"
     ]
    },
    {
     "name": "stdout",
     "output_type": "stream",
     "text": [
      "[333439190, 1167200434, 798047484118.0]\n",
      "[11760023, 41156642, 1082320269.0]\n",
      "[2189511, 7650378, 35359621.0]\n"
     ]
    },
    {
     "name": "stderr",
     "output_type": "stream",
     "text": [
      "\r\n",
      "[Stage 504:==============>                                          (1 + 3) / 4]\r\n",
      "\r\n",
      "                                                                                \r"
     ]
    },
    {
     "name": "stdout",
     "output_type": "stream",
     "text": [
      "[99457856, 348267261, 71841823310.0]\n",
      "[701519, 2459294, 3648897.0]\n",
      "[403425, 1577440, 1120369.0]\n"
     ]
    },
    {
     "name": "stderr",
     "output_type": "stream",
     "text": [
      "[Stage 513:==============>                                          (1 + 3) / 4]\r"
     ]
    },
    {
     "name": "stdout",
     "output_type": "stream",
     "text": [
      "[615139290, 2149531403, 2781486088212.0]\n"
     ]
    },
    {
     "name": "stderr",
     "output_type": "stream",
     "text": [
      "\r\n",
      "[Stage 513:==========================================>              (3 + 1) / 4]\r\n",
      "\r\n",
      "                                                                                \r"
     ]
    }
   ],
   "source": [
    "from decimal import Decimal\n",
    "n = df_selectedFeatures.count()\n",
    "sums = list()\n",
    "for i in range(len(columnsList)):\n",
    "    standardized = df_selectedFeatures.select(\n",
    "        (sum(col(columnsList[i]))).alias('vSum'), # Tính tổng cột\n",
    "        # Nhân mỗi phần tử với y rồi tính tổng của các tích này\n",
    "        (sum(col(columnsList[i])*col(columnsList[0]))).alias('vSumY'), \n",
    "        (sum(pow(col(columnsList[i]),2))).alias('vSum2'), # Bình phương mỗi phần tử rồi tính tổng của nó\n",
    "    ).collect()[0]\n",
    "    # Chuyển giá trị trả về sang mã gồm 3 phần tử [Tổng, Tổng tích y, Tổng của các bình phương]\n",
    "    standardized = [standardized[i] for i in range(len(standardized))] \n",
    "    sums.append(standardized) # Thêm mảng 3 chiều trên vào mảng chứa sums\n",
    "    print(standardized)\n"
   ]
  },
  {
   "cell_type": "markdown",
   "id": "b087ded8",
   "metadata": {},
   "source": [
    "### Tính hệ số tương quan từ các tổng"
   ]
  },
  {
   "cell_type": "code",
   "execution_count": 47,
   "id": "f35653c5",
   "metadata": {},
   "outputs": [
    {
     "name": "stdout",
     "output_type": "stream",
     "text": [
      "Correlation coefficient for Daysforshipping_real_: 1.0\n",
      "Correlation coefficient for Daysforshipment_scheduled_: 0.5158800202898423\n",
      "Correlation coefficient for Benefitperorder: -0.005101290470769714\n",
      "Correlation coefficient for Salespercustomer: 0.0017567127837178943\n",
      "Correlation coefficient for Late_delivery_risk: 0.4014149301115186\n",
      "Correlation coefficient for CategoryId: -0.00034769089672669117\n",
      "Correlation coefficient for CustomerId: 0.0034316935444800075\n",
      "Correlation coefficient for CustomerZipcode: 0.00011408023310938239\n",
      "Correlation coefficient for DepartmentId: -0.0016306033873486703\n",
      "Correlation coefficient for Latitude: -0.0040733088348721535\n",
      "Correlation coefficient for Longitude: 0.003910686262360169\n",
      "Correlation coefficient for OrderId: -0.0017107296183225074\n",
      "Correlation coefficient for OrderItemDiscount: 0.0022313067373652506\n",
      "Correlation coefficient for OrderItemDiscountRate: 0.0014669210035811648\n",
      "Correlation coefficient for OrderItemProfitRatio: -0.004637973492743132\n",
      "Correlation coefficient for OrderItemQuantity: -0.0008108618424831569\n",
      "Correlation coefficient for Sales: 0.001962011914711086\n",
      "Correlation coefficient for OrderItemTotal: 0.0017567127837178943\n",
      "Correlation coefficient for OrderProfitPerOrder: -0.005101290470769714\n",
      "Correlation coefficient for ProductCardId: -0.000858733743425426\n",
      "Correlation coefficient for ProductPrice: 0.0021854002471550934\n",
      "Correlation coefficient for order_year: 0.0008423264481316255\n",
      "Correlation coefficient for order_month: -0.007592827023502833\n",
      "Correlation coefficient for order_day: -0.00047640555767201865\n",
      "Correlation coefficient for order_hour: 0.016684500680452005\n",
      "Correlation coefficient for order_minute: -0.005869125383907485\n",
      "Correlation coefficient for order_dow: -0.00031473767086736355\n",
      "Correlation coefficient for ship_year: 0.005414142611934213\n",
      "Correlation coefficient for ship_month: -0.0050396942517784964\n",
      "Correlation coefficient for ship_day: -0.004153486800412337\n",
      "Correlation coefficient for ship_hour: -0.019615594711442592\n",
      "Correlation coefficient for ship_minute: -0.005869125383907485\n",
      "Correlation coefficient for ship_dow: -0.00031981229739707555\n",
      "Correlation coefficient for encodedType: 0.004854942850150097\n",
      "Correlation coefficient for encodedDeliveryStatus: 0.027073751668476975\n",
      "Correlation coefficient for encodedCustomerCity: -0.002774322524575352\n",
      "Correlation coefficient for encodedCustomerCountry: 0.002835289667837625\n",
      "Correlation coefficient for encodedCustomerSegment: 0.002050569444991926\n",
      "Correlation coefficient for encodedCustomerState: 0.005304820560322403\n",
      "Correlation coefficient for encodedMarket: -0.0010688215135954216\n",
      "Correlation coefficient for encodedOrderCity: 0.0032113552756002153\n",
      "Correlation coefficient for encodedOrderCountry: 0.001968666384415552\n",
      "Correlation coefficient for encodedOrderRegion: -0.003797941325521064\n",
      "Correlation coefficient for encodedOrderState: 0.0044199317914783934\n",
      "Correlation coefficient for encodedOrderStatus: 0.008485650364016136\n",
      "Correlation coefficient for encodedShippingMode: 0.5156591029549883\n",
      "Correlation coefficient for encodedCustomerStreetName: -0.0035246809384831155\n"
     ]
    }
   ],
   "source": [
    "import math\n",
    "corrs = list()\n",
    "for i in range(len(columnsList)):\n",
    "    # Đối với mỗi cột \n",
    "    # (n*tổng tich y - tổng*tổng của y) \n",
    "    # / căn bậc hai của ( [n*tổng các bình phương - tổng ^ 2] * [n* tổng các bình phương của y - tổng của y ^ 2] ) \n",
    "    correlation = (n*sums[i][1] - sums[i][0]*sums[0][0]) / math.sqrt(\n",
    "        (n*sums[i][2]-sums[i][0]**2)*(n*sums[0][2]-sums[0][0]**2)\n",
    "    )\n",
    "    print(\"Correlation coefficient for \" + columnsList[i] + \": \" + str(correlation))\n",
    "    corrs.append([columnsList[i],abs(correlation)])"
   ]
  },
  {
   "cell_type": "markdown",
   "id": "6eb21d38",
   "metadata": {},
   "source": [
    "### Vẽ các hệ số tương quan ra trên biểu đồ để so sánh"
   ]
  },
  {
   "cell_type": "code",
   "execution_count": 48,
   "id": "0e51b45a",
   "metadata": {},
   "outputs": [
    {
     "name": "stderr",
     "output_type": "stream",
     "text": [
      "                                                                                \r"
     ]
    },
    {
     "data": {
      "text/plain": [
       "<AxesSubplot:ylabel='Attribute'>"
      ]
     },
     "execution_count": 48,
     "metadata": {},
     "output_type": "execute_result"
    },
    {
     "data": {
      "image/png": "[encoded data removed]",
      "text/plain": [
       "<Figure size 432x288 with 1 Axes>"
      ]
     },
     "metadata": {
      "needs_background": "light"
     },
     "output_type": "display_data"
    }
   ],
   "source": [
    "# Tạo Spark DataFrame mới với data là mảng gồm [cột 1, hệ số tương quan của cột 1 so với y], [cột 2, hệ số tương quan của cột 2 so với y], ... \n",
    "# Đặt tên cột là thuộc tính (Attribute) và hệ số tương quan (CorelationWithY) (schema=['Attribute','CorrelationWithY']) sau đó sắp xếp theo CorrelationWithY giảm dần (ascending = False)\n",
    "# Và chỉ lấy 20 dòng có giá trị cao nhất (limit(20))\n",
    "plot_data = spark.createDataFrame(data=corrs,schema=['Attribute','CorrelationWithY']).sort('CorrelationWithY',ascending=False).limit(20)\n",
    "# Hàm plot như trên\n",
    "plot_data.toPandas().plot.barh(y='CorrelationWithY',x='Attribute')"
   ]
  },
  {
   "cell_type": "markdown",
   "id": "b8e7316e",
   "metadata": {},
   "source": [
    "### Kết luận và xử lý"
   ]
  },
  {
   "cell_type": "code",
   "execution_count": 49,
   "id": "b39f8292",
   "metadata": {
    "scrolled": false
   },
   "outputs": [
    {
     "name": "stdout",
     "output_type": "stream",
     "text": [
      "Training/ evaluating on 180519 datapoints\n",
      "+---------------------+--------------------------+-------------------+------------------+---------------------+----------+------------------+\n",
      "|Daysforshipping_real_|Daysforshipment_scheduled_|encodedShippingMode|Late_delivery_risk|encodedDeliveryStatus|order_hour|encodedOrderStatus|\n",
      "+---------------------+--------------------------+-------------------+------------------+---------------------+----------+------------------+\n",
      "|                    3|                         4|                  3|                 0|                    0|        22|                 2|\n",
      "|                    5|                         4|                  3|                 1|                    1|        12|                 5|\n",
      "|                    4|                         4|                  3|                 0|                    3|        12|                 1|\n",
      "|                    3|                         4|                  3|                 0|                    0|        11|                 2|\n",
      "|                    2|                         4|                  3|                 0|                    0|        11|                 6|\n",
      "|                    6|                         4|                  3|                 0|                    2|        11|                 0|\n",
      "|                    2|                         1|                  0|                 1|                    1|        10|                 2|\n",
      "|                    2|                         1|                  0|                 1|                    1|        10|                 7|\n",
      "|                    3|                         2|                  2|                 1|                    1|        10|                 1|\n",
      "|                    2|                         1|                  0|                 1|                    1|         9|                 1|\n",
      "|                    6|                         2|                  2|                 0|                    2|         9|                 8|\n",
      "|                    5|                         2|                  2|                 1|                    1|         8|                 5|\n",
      "|                    4|                         2|                  2|                 1|                    1|         8|                 5|\n",
      "|                    2|                         1|                  0|                 1|                    1|         8|                 2|\n",
      "|                    2|                         1|                  0|                 1|                    1|         7|                 7|\n",
      "|                    2|                         1|                  0|                 1|                    1|         7|                 2|\n",
      "|                    5|                         2|                  2|                 1|                    1|         7|                 6|\n",
      "|                    2|                         1|                  0|                 1|                    1|         6|                 1|\n",
      "|                    2|                         1|                  0|                 1|                    1|         6|                 2|\n",
      "|                    0|                         0|                  1|                 0|                    3|         6|                 6|\n",
      "+---------------------+--------------------------+-------------------+------------------+---------------------+----------+------------------+\n",
      "only showing top 20 rows\n",
      "\n"
     ]
    }
   ],
   "source": [
    "# Từ biểu đồ 7 cột mang giá trị cao nhất là  \n",
    "# Daysforshipment_scheduled_, encodedShippingMode, Late_delivery_risk, \n",
    "# encodedDeliveryStatus, order_hour, encodedOrderStatus, ship_hour\n",
    "# Tuy nhiên ta không lấy cột ship_hour vì ship_hour chỉ được xác định sau khi giao hàng\n",
    "# Từ đó ta có dataframe để phục vụ huấn luyện và đánh giá mô hình\n",
    "df_modelData = df_selectedFeatures.select('Daysforshipping_real_','Daysforshipment_scheduled_',\n",
    "                                            'encodedShippingMode','Late_delivery_risk',\n",
    "                                            'encodedDeliveryStatus','order_hour',\n",
    "                                            'encodedOrderStatus')\n",
    "nDatapoint = df_modelData.count() # Đếm số dòng dữ liệu\n",
    "print('Training/ evaluating on ' + str(nDatapoint) + \" datapoints\")\n",
    "df_modelData.show()"
   ]
  },
  {
   "cell_type": "markdown",
   "id": "daff60b7",
   "metadata": {},
   "source": [
    "## Phân tích dữ liệu tổng, train và test"
   ]
  },
  {
   "cell_type": "markdown",
   "id": "fc72458a",
   "metadata": {},
   "source": [
    "### Chia dữ liệu tổng ra hai tập train và test với mức chia 7-3, hạt ngẫu nhiên là 2"
   ]
  },
  {
   "cell_type": "code",
   "execution_count": 50,
   "id": "ed7d6130",
   "metadata": {
    "scrolled": true
   },
   "outputs": [
    {
     "name": "stdout",
     "output_type": "stream",
     "text": [
      "+---------------------+--------------------------+-------------------+------------------+---------------------+----------+------------------+\n",
      "|Daysforshipping_real_|Daysforshipment_scheduled_|encodedShippingMode|Late_delivery_risk|encodedDeliveryStatus|order_hour|encodedOrderStatus|\n",
      "+---------------------+--------------------------+-------------------+------------------+---------------------+----------+------------------+\n",
      "|                    0|                         0|                  1|                 0|                    2|         1|                 8|\n",
      "|                    0|                         0|                  1|                 0|                    2|         1|                 8|\n",
      "|                    0|                         0|                  1|                 0|                    2|         1|                 8|\n",
      "|                    0|                         0|                  1|                 0|                    2|         2|                 8|\n",
      "|                    0|                         0|                  1|                 0|                    2|         8|                 0|\n",
      "|                    0|                         0|                  1|                 0|                    2|         9|                 0|\n",
      "|                    0|                         0|                  1|                 0|                    2|        10|                 0|\n",
      "|                    0|                         0|                  1|                 0|                    3|         0|                 1|\n",
      "|                    0|                         0|                  1|                 0|                    3|         0|                 1|\n",
      "|                    0|                         0|                  1|                 0|                    3|         0|                 1|\n",
      "|                    0|                         0|                  1|                 0|                    3|         0|                 1|\n",
      "|                    0|                         0|                  1|                 0|                    3|         0|                 1|\n",
      "|                    0|                         0|                  1|                 0|                    3|         0|                 1|\n",
      "|                    0|                         0|                  1|                 0|                    3|         0|                 1|\n",
      "|                    0|                         0|                  1|                 0|                    3|         0|                 1|\n",
      "|                    0|                         0|                  1|                 0|                    3|         0|                 1|\n",
      "|                    0|                         0|                  1|                 0|                    3|         0|                 1|\n",
      "|                    0|                         0|                  1|                 0|                    3|         0|                 1|\n",
      "|                    0|                         0|                  1|                 0|                    3|         0|                 1|\n",
      "|                    0|                         0|                  1|                 0|                    3|         0|                 2|\n",
      "+---------------------+--------------------------+-------------------+------------------+---------------------+----------+------------------+\n",
      "only showing top 20 rows\n",
      "\n",
      "+---------------------+--------------------------+-------------------+------------------+---------------------+----------+------------------+\n",
      "|Daysforshipping_real_|Daysforshipment_scheduled_|encodedShippingMode|Late_delivery_risk|encodedDeliveryStatus|order_hour|encodedOrderStatus|\n",
      "+---------------------+--------------------------+-------------------+------------------+---------------------+----------+------------------+\n",
      "|                    0|                         0|                  1|                 0|                    2|         2|                 8|\n",
      "|                    0|                         0|                  1|                 0|                    2|        10|                 0|\n",
      "|                    0|                         0|                  1|                 0|                    3|         0|                 1|\n",
      "|                    0|                         0|                  1|                 0|                    3|         0|                 1|\n",
      "|                    0|                         0|                  1|                 0|                    3|         0|                 1|\n",
      "|                    0|                         0|                  1|                 0|                    3|         0|                 2|\n",
      "|                    0|                         0|                  1|                 0|                    3|         0|                 2|\n",
      "|                    0|                         0|                  1|                 0|                    3|         0|                 2|\n",
      "|                    0|                         0|                  1|                 0|                    3|         0|                 2|\n",
      "|                    0|                         0|                  1|                 0|                    3|         0|                 2|\n",
      "|                    0|                         0|                  1|                 0|                    3|         0|                 2|\n",
      "|                    0|                         0|                  1|                 0|                    3|         0|                 2|\n",
      "|                    0|                         0|                  1|                 0|                    3|         0|                 2|\n",
      "|                    0|                         0|                  1|                 0|                    3|         0|                 2|\n",
      "|                    0|                         0|                  1|                 0|                    3|         0|                 2|\n",
      "|                    0|                         0|                  1|                 0|                    3|         0|                 2|\n",
      "|                    0|                         0|                  1|                 0|                    3|         0|                 2|\n",
      "|                    0|                         0|                  1|                 0|                    3|         0|                 2|\n",
      "|                    0|                         0|                  1|                 0|                    3|         0|                 2|\n",
      "|                    0|                         0|                  1|                 0|                    3|         0|                 2|\n",
      "+---------------------+--------------------------+-------------------+------------------+---------------------+----------+------------------+\n",
      "only showing top 20 rows\n",
      "\n"
     ]
    }
   ],
   "source": [
    "df_train, df_test = df_modelData.randomSplit([0.7,0.3],seed= 2)\n",
    "df_train.show()\n",
    "df_test.show()"
   ]
  },
  {
   "cell_type": "markdown",
   "id": "f7ac50a2",
   "metadata": {},
   "source": [
    "###  Phân tích dữ liệu tổng"
   ]
  },
  {
   "cell_type": "code",
   "execution_count": 51,
   "id": "8e64e41d",
   "metadata": {},
   "outputs": [
    {
     "name": "stderr",
     "output_type": "stream",
     "text": [
      "\r\n",
      "[Stage 523:==============>                                          (1 + 3) / 4]\r\n",
      "\r\n",
      "[Stage 523:==========================================>              (3 + 1) / 4]\r"
     ]
    },
    {
     "name": "stdout",
     "output_type": "stream",
     "text": [
      "+-------+---------------------+--------------------------+-------------------+------------------+---------------------+------------------+------------------+\n",
      "|summary|Daysforshipping_real_|Daysforshipment_scheduled_|encodedShippingMode|Late_delivery_risk|encodedDeliveryStatus|        order_hour|encodedOrderStatus|\n",
      "+-------+---------------------+--------------------------+-------------------+------------------+---------------------+------------------+------------------+\n",
      "|  count|               180519|                    180519|             180519|            180519|               180519|            180519|            180519|\n",
      "|   mean|   3.4976539865609713|         2.931846509231715|  2.234806308477224|0.5482913155955883|   1.1692564217616983|11.483688697588619|3.8861227903987947|\n",
      "| stddev|   1.6237218283741663|        1.3744492800079782|  1.100919908874379|0.4976638632880924|   0.9788378350333965| 6.923005534869744|2.2608507458783293|\n",
      "|    min|                    0|                         0|                  0|                 0|                    0|                 0|                 0|\n",
      "|    max|                    6|                         4|                  3|                 1|                    3|                23|                 8|\n",
      "+-------+---------------------+--------------------------+-------------------+------------------+---------------------+------------------+------------------+\n",
      "\n"
     ]
    },
    {
     "name": "stderr",
     "output_type": "stream",
     "text": [
      "\r\n",
      "                                                                                \r"
     ]
    }
   ],
   "source": [
    "df_modelData.createOrReplaceTempView('plotting')\n",
    "df_modelData.describe().show()"
   ]
  },
  {
   "cell_type": "code",
   "execution_count": 52,
   "id": "bb6faf14",
   "metadata": {},
   "outputs": [
    {
     "data": {
      "text/plain": [
       "<AxesSubplot:xlabel='Daysforshipment_scheduled_'>"
      ]
     },
     "execution_count": 52,
     "metadata": {},
     "output_type": "execute_result"
    },
    {
     "data": {
      "image/png": "[encoded data removed]",
      "text/plain": [
       "<Figure size 432x288 with 1 Axes>"
      ]
     },
     "metadata": {
      "needs_background": "light"
     },
     "output_type": "display_data"
    }
   ],
   "source": [
    "spark.sql(\"\"\"\n",
    "        Select Daysforshipment_scheduled_, count(*) as n\n",
    "        from plotting\n",
    "        group by Daysforshipment_scheduled_\n",
    "        order by n desc\n",
    "        limit 30\n",
    "        \"\"\").toPandas().plot.bar(x='Daysforshipment_scheduled_',y='n')"
   ]
  },
  {
   "cell_type": "code",
   "execution_count": 53,
   "id": "c1220e9a",
   "metadata": {},
   "outputs": [
    {
     "name": "stdout",
     "output_type": "stream",
     "text": [
      "0: First Class\n",
      "1: Same Day\n",
      "2: Second Class\n",
      "3: Standard Class\n"
     ]
    },
    {
     "data": {
      "image/png": "[encoded data removed]",
      "text/plain": [
       "<Figure size 432x288 with 1 Axes>"
      ]
     },
     "metadata": {
      "needs_background": "light"
     },
     "output_type": "display_data"
    }
   ],
   "source": [
    "spark.sql(\"\"\"\n",
    "        Select encodedShippingMode, count(*) as n\n",
    "        from plotting\n",
    "        group by encodedShippingMode\n",
    "        order by n desc\n",
    "        limit 30\n",
    "        \"\"\").toPandas().plot.bar(x='encodedShippingMode',y='n')\n",
    "for i in range(len(encoder['ShippingMode'])):\n",
    "    print (str(i) + \": \" + encoder['ShippingMode'][i])"
   ]
  },
  {
   "cell_type": "code",
   "execution_count": 54,
   "id": "95bd6f03",
   "metadata": {},
   "outputs": [
    {
     "data": {
      "text/plain": [
       "<AxesSubplot:xlabel='Late_delivery_risk'>"
      ]
     },
     "execution_count": 54,
     "metadata": {},
     "output_type": "execute_result"
    },
    {
     "data": {
      "image/png": "[encoded data removed]",
      "text/plain": [
       "<Figure size 432x288 with 1 Axes>"
      ]
     },
     "metadata": {
      "needs_background": "light"
     },
     "output_type": "display_data"
    }
   ],
   "source": [
    "spark.sql(\"\"\"\n",
    "        Select Late_delivery_risk, count(*) as n\n",
    "        from plotting\n",
    "        group by Late_delivery_risk\n",
    "        order by n desc\n",
    "        limit 30\n",
    "        \"\"\").toPandas().plot.bar(x='Late_delivery_risk',y='n')"
   ]
  },
  {
   "cell_type": "code",
   "execution_count": 55,
   "id": "9b325044",
   "metadata": {},
   "outputs": [
    {
     "name": "stdout",
     "output_type": "stream",
     "text": [
      "0: Advance shipping\n",
      "1: Late delivery\n",
      "2: Shipping canceled\n",
      "3: Shipping on time\n"
     ]
    },
    {
     "data": {
      "image/png": "[encoded data removed]",
      "text/plain": [
       "<Figure size 432x288 with 1 Axes>"
      ]
     },
     "metadata": {
      "needs_background": "light"
     },
     "output_type": "display_data"
    }
   ],
   "source": [
    "spark.sql(\"\"\"\n",
    "        Select encodedDeliveryStatus, count(*) as n\n",
    "        from plotting\n",
    "        group by encodedDeliveryStatus\n",
    "        order by n desc\n",
    "        limit 30\n",
    "        \"\"\").toPandas().plot.bar(x='encodedDeliveryStatus',y='n')\n",
    "for i in range(len(encoder['DeliveryStatus'])):\n",
    "    print (str(i) + \": \" + encoder['DeliveryStatus'][i])"
   ]
  },
  {
   "cell_type": "code",
   "execution_count": 56,
   "id": "181e226a",
   "metadata": {},
   "outputs": [
    {
     "data": {
      "text/plain": [
       "<AxesSubplot:xlabel='order_hour'>"
      ]
     },
     "execution_count": 56,
     "metadata": {},
     "output_type": "execute_result"
    },
    {
     "data": {
      "image/png": "[encoded data removed]",
      "text/plain": [
       "<Figure size 432x288 with 1 Axes>"
      ]
     },
     "metadata": {
      "needs_background": "light"
     },
     "output_type": "display_data"
    }
   ],
   "source": [
    "spark.sql(\"\"\"\n",
    "        Select order_hour, count(*) as n\n",
    "        from plotting\n",
    "        group by order_hour\n",
    "        order by n desc\n",
    "        limit 30\n",
    "        \"\"\").toPandas().plot.bar(x='order_hour',y='n')"
   ]
  },
  {
   "cell_type": "code",
   "execution_count": 57,
   "id": "424d752c",
   "metadata": {},
   "outputs": [
    {
     "name": "stdout",
     "output_type": "stream",
     "text": [
      "0: CANCELED\n",
      "1: CLOSED\n",
      "2: COMPLETE\n",
      "3: ON_HOLD\n",
      "4: PAYMENT_REVIEW\n",
      "5: PENDING\n",
      "6: PENDING_PAYMENT\n",
      "7: PROCESSING\n",
      "8: SUSPECTED_FRAUD\n"
     ]
    },
    {
     "data": {
      "image/png": "[encoded data removed]",
      "text/plain": [
       "<Figure size 432x288 with 1 Axes>"
      ]
     },
     "metadata": {
      "needs_background": "light"
     },
     "output_type": "display_data"
    }
   ],
   "source": [
    "spark.sql(\"\"\"\n",
    "        Select encodedOrderStatus, count(*) as n\n",
    "        from plotting\n",
    "        group by encodedOrderStatus\n",
    "        order by n desc\n",
    "        limit 30\n",
    "        \"\"\").toPandas().plot.bar(x='encodedOrderStatus',y='n')\n",
    "for i in range(len(encoder['OrderStatus'])):\n",
    "    print (str(i) + \": \" + encoder['OrderStatus'][i])"
   ]
  },
  {
   "cell_type": "markdown",
   "id": "6c8427af",
   "metadata": {},
   "source": [
    "### Phân tích dữ liệu train"
   ]
  },
  {
   "cell_type": "code",
   "execution_count": 58,
   "id": "c8687325",
   "metadata": {},
   "outputs": [
    {
     "name": "stderr",
     "output_type": "stream",
     "text": [
      "\r\n",
      "[Stage 544:>                                                        (0 + 4) / 4]\r"
     ]
    },
    {
     "name": "stdout",
     "output_type": "stream",
     "text": [
      "+-------+---------------------+--------------------------+-------------------+------------------+---------------------+------------------+------------------+\n",
      "|summary|Daysforshipping_real_|Daysforshipment_scheduled_|encodedShippingMode|Late_delivery_risk|encodedDeliveryStatus|        order_hour|encodedOrderStatus|\n",
      "+-------+---------------------+--------------------------+-------------------+------------------+---------------------+------------------+------------------+\n",
      "|  count|               126509|                    126509|             126509|            126509|               126509|            126509|            126509|\n",
      "|   mean|    3.497427060525338|        2.9315937996506176| 2.2336276470448744|0.5490360369617971|   1.1670869266218213|11.478795974989922|3.8843797674473755|\n",
      "| stddev|   1.6226493453219213|        1.3740362312270282|  1.102183183134319|0.4975916239565622|   0.9777867562955087|  6.92480832424922| 2.260303507345705|\n",
      "|    min|                    0|                         0|                  0|                 0|                    0|                 0|                 0|\n",
      "|    max|                    6|                         4|                  3|                 1|                    3|                23|                 8|\n",
      "+-------+---------------------+--------------------------+-------------------+------------------+---------------------+------------------+------------------+\n",
      "\n"
     ]
    },
    {
     "name": "stderr",
     "output_type": "stream",
     "text": [
      "\r\n",
      "[Stage 544:============================>                            (2 + 2) / 4]\r\n",
      "\r\n",
      "                                                                                \r"
     ]
    }
   ],
   "source": [
    "df_train.createOrReplaceTempView('plotting')\n",
    "df_train.describe().show()"
   ]
  },
  {
   "cell_type": "code",
   "execution_count": 59,
   "id": "06f3460e",
   "metadata": {},
   "outputs": [
    {
     "name": "stderr",
     "output_type": "stream",
     "text": [
      "                                                                                \r"
     ]
    },
    {
     "data": {
      "text/plain": [
       "<AxesSubplot:xlabel='Daysforshipment_scheduled_'>"
      ]
     },
     "execution_count": 59,
     "metadata": {},
     "output_type": "execute_result"
    },
    {
     "data": {
      "image/png": "[encoded data removed]",
      "text/plain": [
       "<Figure size 432x288 with 1 Axes>"
      ]
     },
     "metadata": {
      "needs_background": "light"
     },
     "output_type": "display_data"
    }
   ],
   "source": [
    "spark.sql(\"\"\"\n",
    "        Select Daysforshipment_scheduled_, count(*) as n\n",
    "        from plotting\n",
    "        group by Daysforshipment_scheduled_\n",
    "        order by n desc\n",
    "        limit 30\n",
    "        \"\"\").toPandas().plot.bar(x='Daysforshipment_scheduled_',y='n')"
   ]
  },
  {
   "cell_type": "code",
   "execution_count": 60,
   "id": "8973e8b4",
   "metadata": {
    "scrolled": true
   },
   "outputs": [
    {
     "name": "stderr",
     "output_type": "stream",
     "text": [
      "\r\n",
      "[Stage 550:============================>                            (2 + 2) / 4]\r\n",
      "\r\n",
      "                                                                                \r"
     ]
    },
    {
     "data": {
      "text/plain": [
       "<AxesSubplot:xlabel='Late_delivery_risk'>"
      ]
     },
     "execution_count": 60,
     "metadata": {},
     "output_type": "execute_result"
    },
    {
     "data": {
      "image/png": "[encoded data removed]",
      "text/plain": [
       "<Figure size 432x288 with 1 Axes>"
      ]
     },
     "metadata": {
      "needs_background": "light"
     },
     "output_type": "display_data"
    }
   ],
   "source": [
    "spark.sql(\"\"\"\n",
    "        Select Late_delivery_risk, count(*) as n\n",
    "        from plotting\n",
    "        group by Late_delivery_risk\n",
    "        order by n desc\n",
    "        limit 30\n",
    "        \"\"\").toPandas().plot.bar(x='Late_delivery_risk',y='n')"
   ]
  },
  {
   "cell_type": "code",
   "execution_count": 61,
   "id": "de3abb07",
   "metadata": {},
   "outputs": [
    {
     "name": "stderr",
     "output_type": "stream",
     "text": [
      "\r\n",
      "[Stage 553:>                                                        (0 + 4) / 4]\r"
     ]
    },
    {
     "name": "stdout",
     "output_type": "stream",
     "text": [
      "0: First Class\n",
      "1: Same Day\n",
      "2: Second Class\n",
      "3: Standard Class\n"
     ]
    },
    {
     "name": "stderr",
     "output_type": "stream",
     "text": [
      "\r\n",
      "                                                                                \r"
     ]
    },
    {
     "data": {
      "image/png": "[encoded data removed]",
      "text/plain": [
       "<Figure size 432x288 with 1 Axes>"
      ]
     },
     "metadata": {
      "needs_background": "light"
     },
     "output_type": "display_data"
    }
   ],
   "source": [
    "spark.sql(\"\"\"\n",
    "        Select encodedShippingMode, count(*) as n\n",
    "        from plotting\n",
    "        group by encodedShippingMode\n",
    "        order by n desc\n",
    "        limit 30\n",
    "        \"\"\").toPandas().plot.bar(x='encodedShippingMode',y='n')\n",
    "for i in range(len(encoder['ShippingMode'])):\n",
    "    print (str(i) + \": \" + encoder['ShippingMode'][i])"
   ]
  },
  {
   "cell_type": "code",
   "execution_count": 62,
   "id": "139feb1b",
   "metadata": {},
   "outputs": [
    {
     "name": "stderr",
     "output_type": "stream",
     "text": [
      "\r\n",
      "[Stage 556:>                                                        (0 + 4) / 4]\r\n",
      "\r\n",
      "[Stage 556:==========================================>              (3 + 1) / 4]\r"
     ]
    },
    {
     "name": "stdout",
     "output_type": "stream",
     "text": [
      "0: Advance shipping\n",
      "1: Late delivery\n",
      "2: Shipping canceled\n",
      "3: Shipping on time\n"
     ]
    },
    {
     "name": "stderr",
     "output_type": "stream",
     "text": [
      "\r\n",
      "                                                                                \r"
     ]
    },
    {
     "data": {
      "image/png": "[encoded data removed]",
      "text/plain": [
       "<Figure size 432x288 with 1 Axes>"
      ]
     },
     "metadata": {
      "needs_background": "light"
     },
     "output_type": "display_data"
    }
   ],
   "source": [
    "spark.sql(\"\"\"\n",
    "        Select encodedDeliveryStatus, count(*) as n\n",
    "        from plotting\n",
    "        group by encodedDeliveryStatus\n",
    "        order by n desc\n",
    "        limit 30\n",
    "        \"\"\").toPandas().plot.bar(x='encodedDeliveryStatus',y='n')\n",
    "for i in range(len(encoder['DeliveryStatus'])):\n",
    "    print (str(i) + \": \" + encoder['DeliveryStatus'][i])"
   ]
  },
  {
   "cell_type": "code",
   "execution_count": 63,
   "id": "36d5a033",
   "metadata": {
    "scrolled": true
   },
   "outputs": [
    {
     "data": {
      "text/plain": [
       "<AxesSubplot:xlabel='order_hour'>"
      ]
     },
     "execution_count": 63,
     "metadata": {},
     "output_type": "execute_result"
    },
    {
     "data": {
      "image/png": "[encoded data removed]",
      "text/plain": [
       "<Figure size 432x288 with 1 Axes>"
      ]
     },
     "metadata": {
      "needs_background": "light"
     },
     "output_type": "display_data"
    }
   ],
   "source": [
    "spark.sql(\"\"\"\n",
    "        Select order_hour, count(*) as n\n",
    "        from plotting\n",
    "        group by order_hour\n",
    "        order by n desc\n",
    "        limit 30\n",
    "        \"\"\").toPandas().plot.bar(x='order_hour',y='n')"
   ]
  },
  {
   "cell_type": "code",
   "execution_count": 64,
   "id": "440ee9ac",
   "metadata": {},
   "outputs": [
    {
     "name": "stderr",
     "output_type": "stream",
     "text": [
      "\r\n",
      "[Stage 562:==============>                                          (1 + 3) / 4]\r\n",
      "\r\n",
      "                                                                                \r"
     ]
    },
    {
     "name": "stdout",
     "output_type": "stream",
     "text": [
      "0: CANCELED\n",
      "1: CLOSED\n",
      "2: COMPLETE\n",
      "3: ON_HOLD\n",
      "4: PAYMENT_REVIEW\n",
      "5: PENDING\n",
      "6: PENDING_PAYMENT\n",
      "7: PROCESSING\n",
      "8: SUSPECTED_FRAUD\n"
     ]
    },
    {
     "data": {
      "image/png": "[encoded data removed]",
      "text/plain": [
       "<Figure size 432x288 with 1 Axes>"
      ]
     },
     "metadata": {
      "needs_background": "light"
     },
     "output_type": "display_data"
    }
   ],
   "source": [
    "spark.sql(\"\"\"\n",
    "        Select encodedOrderStatus, count(*) as n\n",
    "        from plotting\n",
    "        group by encodedOrderStatus\n",
    "        order by n desc\n",
    "        limit 30\n",
    "        \"\"\").toPandas().plot.bar(x='encodedOrderStatus',y='n')\n",
    "for i in range(len(encoder['OrderStatus'])):\n",
    "    print (str(i) + \": \" + encoder['OrderStatus'][i])"
   ]
  },
  {
   "cell_type": "markdown",
   "id": "822ee99a",
   "metadata": {},
   "source": [
    "### Phân tích dữ liệu test"
   ]
  },
  {
   "cell_type": "code",
   "execution_count": 65,
   "id": "8ed0b5f7",
   "metadata": {},
   "outputs": [
    {
     "name": "stdout",
     "output_type": "stream",
     "text": [
      "+-------+---------------------+--------------------------+-------------------+-------------------+---------------------+------------------+------------------+\n",
      "|summary|Daysforshipping_real_|Daysforshipment_scheduled_|encodedShippingMode| Late_delivery_risk|encodedDeliveryStatus|        order_hour|encodedOrderStatus|\n",
      "+-------+---------------------+--------------------------+-------------------+-------------------+---------------------+------------------+------------------+\n",
      "|  count|                54010|                     54010|              54010|              54010|                54010|             54010|             54010|\n",
      "|   mean|    3.498185521199778|         2.932438437326421| 2.2375671172005185| 0.5465469357526384|    1.174338085539715|11.495149046472875|  3.89020551749676|\n",
      "| stddev|   1.6262460754892987|         1.375428832909498| 1.0979604548700475|0.49783327682502115|    0.981285686231721| 6.918831517949968| 2.262147713143219|\n",
      "|    min|                    0|                         0|                  0|                  0|                    0|                 0|                 0|\n",
      "|    max|                    6|                         4|                  3|                  1|                    3|                23|                 8|\n",
      "+-------+---------------------+--------------------------+-------------------+-------------------+---------------------+------------------+------------------+\n",
      "\n"
     ]
    },
    {
     "name": "stderr",
     "output_type": "stream",
     "text": [
      "\r\n",
      "[Stage 565:>                                                        (0 + 4) / 4]\r\n",
      "\r\n",
      "                                                                                \r"
     ]
    }
   ],
   "source": [
    "df_test.createOrReplaceTempView('plotting')\n",
    "df_test.describe().show()"
   ]
  },
  {
   "cell_type": "code",
   "execution_count": 66,
   "id": "8ddd4d87",
   "metadata": {},
   "outputs": [
    {
     "name": "stderr",
     "output_type": "stream",
     "text": [
      "\r\n",
      "[Stage 568:============================>                            (2 + 2) / 4]\r\n",
      "\r\n",
      "                                                                                \r"
     ]
    },
    {
     "data": {
      "text/plain": [
       "<AxesSubplot:xlabel='Daysforshipment_scheduled_'>"
      ]
     },
     "execution_count": 66,
     "metadata": {},
     "output_type": "execute_result"
    },
    {
     "data": {
      "image/png": "[encoded data removed]",
      "text/plain": [
       "<Figure size 432x288 with 1 Axes>"
      ]
     },
     "metadata": {
      "needs_background": "light"
     },
     "output_type": "display_data"
    }
   ],
   "source": [
    "spark.sql(\"\"\"\n",
    "        Select Daysforshipment_scheduled_, count(*) as n\n",
    "        from plotting\n",
    "        group by Daysforshipment_scheduled_\n",
    "        order by n desc\n",
    "        limit 30\n",
    "        \"\"\").toPandas().plot.bar(x='Daysforshipment_scheduled_',y='n')"
   ]
  },
  {
   "cell_type": "code",
   "execution_count": 67,
   "id": "ca5d2420",
   "metadata": {},
   "outputs": [
    {
     "name": "stderr",
     "output_type": "stream",
     "text": [
      "\r\n",
      "[Stage 571:==============>                                          (1 + 3) / 4]\r\n",
      "\r\n",
      "                                                                                \r"
     ]
    },
    {
     "data": {
      "text/plain": [
       "<AxesSubplot:xlabel='Late_delivery_risk'>"
      ]
     },
     "execution_count": 67,
     "metadata": {},
     "output_type": "execute_result"
    },
    {
     "data": {
      "image/png": "[encoded data removed]",
      "text/plain": [
       "<Figure size 432x288 with 1 Axes>"
      ]
     },
     "metadata": {
      "needs_background": "light"
     },
     "output_type": "display_data"
    }
   ],
   "source": [
    "spark.sql(\"\"\"\n",
    "        Select Late_delivery_risk, count(*) as n\n",
    "        from plotting\n",
    "        group by Late_delivery_risk\n",
    "        order by n desc\n",
    "        limit 30\n",
    "        \"\"\").toPandas().plot.bar(x='Late_delivery_risk',y='n')"
   ]
  },
  {
   "cell_type": "code",
   "execution_count": 68,
   "id": "2932af6f",
   "metadata": {},
   "outputs": [
    {
     "name": "stdout",
     "output_type": "stream",
     "text": [
      "0: First Class\n",
      "1: Same Day\n",
      "2: Second Class\n",
      "3: Standard Class\n"
     ]
    },
    {
     "name": "stderr",
     "output_type": "stream",
     "text": [
      "\r\n",
      "[Stage 574:==========================================>              (3 + 1) / 4]\r\n",
      "\r\n",
      "                                                                                \r"
     ]
    },
    {
     "data": {
      "image/png": "[encoded data removed]",
      "text/plain": [
       "<Figure size 432x288 with 1 Axes>"
      ]
     },
     "metadata": {
      "needs_background": "light"
     },
     "output_type": "display_data"
    }
   ],
   "source": [
    "spark.sql(\"\"\"\n",
    "        Select encodedShippingMode, count(*) as n\n",
    "        from plotting\n",
    "        group by encodedShippingMode\n",
    "        order by n desc\n",
    "        limit 30\n",
    "        \"\"\").toPandas().plot.bar(x='encodedShippingMode',y='n')\n",
    "for i in range(len(encoder['ShippingMode'])):\n",
    "    print (str(i) + \": \" + encoder['ShippingMode'][i])"
   ]
  },
  {
   "cell_type": "code",
   "execution_count": 69,
   "id": "3fa3c3ef",
   "metadata": {},
   "outputs": [
    {
     "name": "stdout",
     "output_type": "stream",
     "text": [
      "0: Advance shipping\n",
      "1: Late delivery\n",
      "2: Shipping canceled\n",
      "3: Shipping on time\n"
     ]
    },
    {
     "data": {
      "image/png": "[encoded data removed]",
      "text/plain": [
       "<Figure size 432x288 with 1 Axes>"
      ]
     },
     "metadata": {
      "needs_background": "light"
     },
     "output_type": "display_data"
    }
   ],
   "source": [
    "spark.sql(\"\"\"\n",
    "        Select encodedDeliveryStatus, count(*) as n\n",
    "        from plotting\n",
    "        group by encodedDeliveryStatus\n",
    "        order by n desc\n",
    "        limit 30\n",
    "        \"\"\").toPandas().plot.bar(x='encodedDeliveryStatus',y='n')\n",
    "for i in range(len(encoder['DeliveryStatus'])):\n",
    "    print (str(i) + \": \" + encoder['DeliveryStatus'][i])"
   ]
  },
  {
   "cell_type": "code",
   "execution_count": 70,
   "id": "a833b375",
   "metadata": {},
   "outputs": [
    {
     "name": "stderr",
     "output_type": "stream",
     "text": [
      "\r\n",
      "[Stage 580:==============>                                          (1 + 3) / 4]\r\n",
      "\r\n",
      "                                                                                \r"
     ]
    },
    {
     "data": {
      "text/plain": [
       "<AxesSubplot:xlabel='order_hour'>"
      ]
     },
     "execution_count": 70,
     "metadata": {},
     "output_type": "execute_result"
    },
    {
     "data": {
      "image/png": "[encoded data removed]",
      "text/plain": [
       "<Figure size 432x288 with 1 Axes>"
      ]
     },
     "metadata": {
      "needs_background": "light"
     },
     "output_type": "display_data"
    }
   ],
   "source": [
    "spark.sql(\"\"\"\n",
    "        Select order_hour, count(*) as n\n",
    "        from plotting\n",
    "        group by order_hour\n",
    "        order by n desc\n",
    "        limit 30\n",
    "        \"\"\").toPandas().plot.bar(x='order_hour',y='n')"
   ]
  },
  {
   "cell_type": "code",
   "execution_count": 71,
   "id": "728b31d3",
   "metadata": {},
   "outputs": [
    {
     "name": "stderr",
     "output_type": "stream",
     "text": [
      "\r\n",
      "[Stage 583:>                                                        (0 + 4) / 4]\r\n",
      "\r\n",
      "                                                                                \r"
     ]
    },
    {
     "name": "stdout",
     "output_type": "stream",
     "text": [
      "0: CANCELED\n",
      "1: CLOSED\n",
      "2: COMPLETE\n",
      "3: ON_HOLD\n",
      "4: PAYMENT_REVIEW\n",
      "5: PENDING\n",
      "6: PENDING_PAYMENT\n",
      "7: PROCESSING\n",
      "8: SUSPECTED_FRAUD\n"
     ]
    },
    {
     "data": {
      "image/png": "[encoded data removed]",
      "text/plain": [
       "<Figure size 432x288 with 1 Axes>"
      ]
     },
     "metadata": {
      "needs_background": "light"
     },
     "output_type": "display_data"
    }
   ],
   "source": [
    "spark.sql(\"\"\"\n",
    "        Select encodedOrderStatus, count(*) as n\n",
    "        from plotting\n",
    "        group by encodedOrderStatus\n",
    "        order by n desc\n",
    "        limit 30\n",
    "        \"\"\").toPandas().plot.bar(x='encodedOrderStatus',y='n')\n",
    "for i in range(len(encoder['OrderStatus'])):\n",
    "    print (str(i) + \": \" + encoder['OrderStatus'][i])"
   ]
  },
  {
   "cell_type": "markdown",
   "id": "5a62c8ad",
   "metadata": {},
   "source": [
    "## Cài đặt các hàm hỗ trợ tính toán mô hình"
   ]
  },
  {
   "cell_type": "code",
   "execution_count": 72,
   "id": "9f14def1",
   "metadata": {},
   "outputs": [],
   "source": [
    "# Mỗi cột sẽ có một reg, reg được bằng tổng các bình phương - tổng ^ 2 / số dòng dữ liệu\n",
    "def calculate_reg(sum, sum_p2, n):\n",
    "    return sum_p2 - sum*sum/n\n",
    "# Reg_y được tính bằng tổng của các tích của cột đó với y - tổng cột đó * tổng y / số dòng dữ liệu\n",
    "def calculate_reg_y (n,sum_y,sum_x,sum_x_y):\n",
    "    return sum_x_y - sum_x * sum_y / n\n",
    "\n",
    "\n",
    "# Hàm tính model sử dụng các tổng\n",
    "# n là số dòng dữ liệu\n",
    "# sum y là tổng của cột y (Daysforshipping_real_)\n",
    "# sum_wide là tổng của các tích của toàn bộ các thuộc tính trên dòng dữ liệu đó không tính y\n",
    "# sums [\n",
    "#     [tổng cột 1, tổng tích cột 1 với y, tổng các bình phương cột 1 ],\n",
    "#     [tổng cột 2, tổng tích cột 2 với y, tổng các bình phương cột 2 ],\n",
    "# ]\n",
    "def calculateModel(n, sum_y, sum_wide, sums):\n",
    "    print(n,sum_y,sum_wide,len(sums))\n",
    "    for sum in sums:\n",
    "        print(sum)\n",
    "    # tính các reg tương ứng với các tổng và tổng tích y của các cột (không tính y)\n",
    "    regs = [calculate_reg(temp_sum[0],temp_sum[1],n) for temp_sum in sums ] \n",
    "    # tính các reg_y tương ứng với các tổng và tổng các bình phương của các cột (không tính y)\n",
    "    regs_y = [calculate_reg_y(n,sum_y,temp_sum[0],temp_sum[2]) for temp_sum in sums ] \n",
    "    avgs = [(temp_sum[0]) / (n) for temp_sum in sums] # tính trung vị với tổng của các cột và số dòng dữ liệu\n",
    "    sums_mul = 1 # Tích các sum\n",
    "    regs_mul = 1 # Tich các reg\n",
    "    regs_y_mul = 1 # Tích các reg_y\n",
    "    for i in range(0,len(sums)):\n",
    "        regs_mul *= regs[i]\n",
    "        regs_y_mul *= regs_y[i]\n",
    "        sums_mul *= sums[i][0]\n",
    "    reg_all = sum_wide - (sums_mul / n) # Chỉ dùng để hỗ trợ tính toán\n",
    "    print(reg_all)\n",
    "    coefs = list()\n",
    "    for i in range(0,len(sums)):\n",
    "        # Đối các cột biến phụ thuộc, lấy reg hiện tại, reg_y hiện tại\n",
    "        # Sau đó hệ số của cột đó sẽ = \n",
    "        # ( tích các reg không tính reg hiện tại * reg_y - reg_all * tích các reg_y không tính reg_y hiện tại ) \n",
    "        # / ( tích các reg - reg_all^2 )\n",
    "        reg = regs[i]\n",
    "        reg_y = regs_y[i]\n",
    "        coef = ((regs_mul/reg)*reg_y - reg_all * regs_y_mul / reg_y ) / ( regs_mul - reg_all*reg_all )\n",
    "        coefs.append(coef)\n",
    "        print(\"b\" + str(i+1) +\" =\" + str(coef))\n",
    "    # Hằng số sẽ là tổng y * trung vị y - hằng số cột 1 * trung vị cột 1 - hằng số cột 2 * trung vị cột 2 - ...\n",
    "    intercept = sum_y / n\n",
    "    for i in range(0,len(sums)):\n",
    "        intercept -= coefs[i]*avgs[i]\n",
    "    print(\"b0 =\" + str(intercept))\n",
    "    return [intercept] + coefs # return a list of [b0,b1,b2,...]\n",
    "\n",
    "def processSums(arr):\n",
    "    # Nhận vào mảng gồm ( 3 + 3 * số cột ) phần tử\n",
    "    # Chuyển kết quả trả về từ Dataframe sang các tham số hỗ trợ tính toán\n",
    "    n = Decimal(arr[0]) # Phần tử trả về đầu tiên là count(*)\n",
    "    sum_y = Decimal(arr[1]) # Phần tử trả về thứ hai là sum(df_train.Daysforshipping_real_)\n",
    "    sum_wide = Decimal(arr[2]) # Phần tử trả về thứ ba là tổng của các tích giữa các cột\n",
    "    sums = list()\n",
    "    for i in range(3,len(arr),3): # Đối với phần tử bắt đầu kể tử phần tử thứ 3, tăng i lên 3 mỗi vòng lặp\n",
    "         # Thêm mảng gồm [tổng cột, tổng của các tích giữa cột với y, \n",
    "         # tổng của các bình phương của cột] vào mảng chứa sums\n",
    "        sums.append([Decimal(arr[i]),Decimal(arr[i+1]),Decimal(arr[i+2])])\n",
    "    return (n,sum_y,sum_wide,sums) # Trả về các giá trị hỗ trợ tính toán\n"
   ]
  },
  {
   "cell_type": "markdown",
   "id": "f32e90f6",
   "metadata": {},
   "source": [
    "## Thực hiện tính toán các tổng"
   ]
  },
  {
   "cell_type": "code",
   "execution_count": 73,
   "id": "c1a0b1af",
   "metadata": {
    "scrolled": true
   },
   "outputs": [
    {
     "name": "stderr",
     "output_type": "stream",
     "text": [
      "\r\n",
      "[Stage 586:>                                                        (0 + 4) / 4]\r"
     ]
    },
    {
     "name": "stdout",
     "output_type": "stream",
     "text": [
      "+------+------+--------+-------------+----------------+---------------+--------+-----------+----------+-----------+--------------+-------------+--------+-----------+----------+--------+-----------+----------+-----------+--------------+-------------+\n",
      "|     n| sum_y|sum_wide|sum_scheduled|sum_scheduled_p2|sum_scheduled_y|sum_hour|sum_hour_p2|sum_hour_y|sum_oStatus|sum_oStatus_p2|sum_oStatus_y|sum_risk|sum_risk_p2|sum_risk_y|sum_mode|sum_mode_p2|sum_mode_y|sum_dStatus|sum_dStatus_p2|sum_dStatus_y|\n",
      "+------+------+--------+-------------+----------------+---------------+--------+-----------+----------+-----------+--------------+-------------+--------+-----------+----------+--------+-----------+----------+-----------+--------------+-------------+\n",
      "|126509|442456|18582940|       370873|       1326093.0|        1442432| 1452171|2.2735609E7|   5100137|     491409|     2555145.0|      1723128|   69458|    69458.0|    283814|  282574|   784848.0|   1104929|     147647|      293267.0|       522132|\n",
      "+------+------+--------+-------------+----------------+---------------+--------+-----------+----------+-----------+--------------+-------------+--------+-----------+----------+--------+-----------+----------+-----------+--------------+-------------+\n",
      "\n"
     ]
    },
    {
     "name": "stderr",
     "output_type": "stream",
     "text": [
      "\r\n",
      "                                                                                \r"
     ]
    }
   ],
   "source": [
    "# Sử dụng hàm hỗ trợ sum của pyspark.sql.functions để tích các tổng\n",
    "data_sums = df_train.select(\n",
    "    count(\"*\").alias(\"n\"), # Số dòng dữ liệu\n",
    "    sum(df_train.Daysforshipping_real_).alias(\"sum_y\"), # Tổng y\n",
    "    sum(\n",
    "        df_train.Daysforshipment_scheduled_ *\n",
    "        df_train.order_hour *\n",
    "        df_train.encodedOrderStatus *\n",
    "        df_train.Late_delivery_risk *\n",
    "        df_train.encodedShippingMode *\n",
    "        df_train.encodedDeliveryStatus\n",
    "    ).alias(\"sum_wide\"), # Tổng của các tích giữa các cột\n",
    "    sum(df_train.Daysforshipment_scheduled_).alias(\"sum_scheduled\"), # Tổng cột 1\n",
    "    # Tổng các tích của cột 1 với y  \n",
    "    sum(pow(df_train.Daysforshipment_scheduled_,2)).alias(\"sum_scheduled_p2\"), \n",
    "    # Tổng các bình phương của cột 1\n",
    "    sum(df_train.Daysforshipment_scheduled_ * df_train.Daysforshipping_real_).alias(\"sum_scheduled_y\"), \n",
    "    sum(df_train.order_hour).alias(\"sum_hour\"),\n",
    "    sum(pow(df_train.order_hour,2)).alias(\"sum_hour_p2\"),\n",
    "    sum(df_train.order_hour * df_train.Daysforshipping_real_).alias(\"sum_hour_y\"),\n",
    "    sum(df_train.encodedOrderStatus).alias(\"sum_oStatus\"),\n",
    "    sum(pow(df_train.encodedOrderStatus,2)).alias(\"sum_oStatus_p2\"),\n",
    "    sum(df_train.encodedOrderStatus * df_train.Daysforshipping_real_).alias(\"sum_oStatus_y\"),\n",
    "    sum(df_train.Late_delivery_risk).alias(\"sum_risk\"),\n",
    "    sum(pow(df_train.Late_delivery_risk,2)).alias(\"sum_risk_p2\"),\n",
    "    sum(df_train.Late_delivery_risk * df_train.Daysforshipping_real_).alias(\"sum_risk_y\"),\n",
    "    sum(df_train.encodedShippingMode).alias(\"sum_mode\"),\n",
    "    sum(pow(df_train.encodedShippingMode,2)).alias(\"sum_mode_p2\"),\n",
    "    sum(df_train.encodedShippingMode * df_train.Daysforshipping_real_).alias(\"sum_mode_y\"),\n",
    "    sum(df_train.encodedDeliveryStatus).alias(\"sum_dStatus\"),\n",
    "    sum(pow(df_train.encodedDeliveryStatus,2)).alias(\"sum_dStatus_p2\"),\n",
    "    sum(df_train.encodedDeliveryStatus * df_train.Daysforshipping_real_).alias(\"sum_dStatus_y\"),\n",
    ")\n",
    "data_sums.show()"
   ]
  },
  {
   "cell_type": "markdown",
   "id": "2e94cb41",
   "metadata": {},
   "source": [
    "## Tính toán các hệ số và hằng số, đưa ra mô hình"
   ]
  },
  {
   "cell_type": "code",
   "execution_count": 74,
   "id": "1d7bc9d8",
   "metadata": {},
   "outputs": [
    {
     "name": "stdout",
     "output_type": "stream",
     "text": [
      "Row(n=126509, sum_y=442456, sum_wide=18582940, sum_scheduled=370873, sum_scheduled_p2=1326093.0, sum_scheduled_y=1442432, sum_hour=1452171, sum_hour_p2=22735609.0, sum_hour_y=5100137, sum_oStatus=491409, sum_oStatus_p2=2555145.0, sum_oStatus_y=1723128, sum_risk=69458, sum_risk_p2=69458.0, sum_risk_y=283814, sum_mode=282574, sum_mode_p2=784848.0, sum_mode_y=1104929, sum_dStatus=147647, sum_dStatus_p2=293267.0, sum_dStatus_y=522132)\n",
      "126509 442456 18582940 6\n",
      "[Decimal('370873'), Decimal('1326093'), Decimal('1442432')]\n",
      "[Decimal('1452171'), Decimal('22735609'), Decimal('5100137')]\n",
      "[Decimal('491409'), Decimal('2555145'), Decimal('1723128')]\n",
      "[Decimal('69458'), Decimal('69458'), Decimal('283814')]\n",
      "[Decimal('282574'), Decimal('784848'), Decimal('1104929')]\n",
      "[Decimal('147647'), Decimal('293267'), Decimal('522132')]\n",
      "-6062388451357004731722682324\n",
      "b1 =-4.291410513837358676100945421E-7\n",
      "b2 =-0.000002931507836392653660176886915\n",
      "b3 =-0.00001398100487347110401274268864\n",
      "b4 =-0.000001525258604606638591246092853\n",
      "b5 =-5.346674960023700443986823480E-7\n",
      "b6 =-0.00001085143320298473339360825152\n",
      "b0 =3.497530972541262635755797150\n"
     ]
    },
    {
     "name": "stderr",
     "output_type": "stream",
     "text": [
      "\r\n",
      "[Stage 589:============================>                            (2 + 2) / 4]\r\n",
      "\r\n",
      "                                                                                \r"
     ]
    }
   ],
   "source": [
    "return_sums = data_sums.collect()[0] # Do dữ liệu trả về chỉ có một dòng gồm các tổng\n",
    "print(return_sums)\n",
    "n,sum_y,sum_wide,sums = processSums([return_sums[c] for c in range(len(return_sums))]) # Tạo mảng từ các phần tử trả về của data_sums.collect()\n",
    "model = calculateModel(n,sum_y,sum_wide,sums) # Lấy về model"
   ]
  },
  {
   "cell_type": "markdown",
   "id": "c2ff2516",
   "metadata": {},
   "source": [
    "## Lưu lại model vào Hadoop"
   ]
  },
  {
   "cell_type": "code",
   "execution_count": 75,
   "id": "d188b531",
   "metadata": {},
   "outputs": [
    {
     "name": "stdout",
     "output_type": "stream",
     "text": [
      "[Decimal('370873'), Decimal('1326093'), Decimal('1442432'), Decimal('1452171'), Decimal('22735609'), Decimal('5100137'), Decimal('491409'), Decimal('2555145'), Decimal('1723128'), Decimal('69458'), Decimal('69458'), Decimal('283814'), Decimal('282574'), Decimal('784848'), Decimal('1104929'), Decimal('147647'), Decimal('293267'), Decimal('522132')]\n",
      "+--------------------+--------------------+--------------------+--------------------+--------------------+--------------------+--------------------+\n",
      "|                  b0|                  b1|                  b2|                  b3|                  b4|                  b5|                  b6|\n",
      "+--------------------+--------------------+--------------------+--------------------+--------------------+--------------------+--------------------+\n",
      "|3.497530972541262636|-0.00000042914105...|-0.00000293150783...|-0.00001398100487...|-0.00000152525860...|-0.00000053466749...|-0.00001085143320...|\n",
      "+--------------------+--------------------+--------------------+--------------------+--------------------+--------------------+--------------------+\n",
      "\n"
     ]
    }
   ],
   "source": [
    "result_df = spark.createDataFrame(data= [model]\n",
    "                                 ,schema = [\"b\"+str(i) for i in range(len(model))])\n",
    "result_df.show()\n",
    "# Save the DataFrame to a CSV file\n",
    "result_df.write.csv(\"hdfs://localhost:9000/output/modelResult.csv\", header=True, mode=\"overwrite\")"
   ]
  },
  {
   "cell_type": "markdown",
   "id": "0884a118",
   "metadata": {},
   "source": [
    "# Đánh giá model"
   ]
  },
  {
   "cell_type": "code",
   "execution_count": 76,
   "id": "ecdb923f",
   "metadata": {},
   "outputs": [],
   "source": [
    "max_print_count = 0 # Dùng để giới hạn số lần print khi predict\n",
    "# Model evaluation helper functions\n",
    "def getPred(scheduled,hour,oStatus,risk,mode,dStatus):\n",
    "    global model\n",
    "    y_pred = model[0] # Lấy giá trị hằng số của model. Khởi tạo giá trị dự đoán bằng hằng số\n",
    "    params = [scheduled,hour,oStatus,risk,mode,dStatus]\n",
    "    for i in range(1,len(model)): \n",
    "    # Lấy giá trị các hệ số của các cột x nhân với dữ liệu đầu vào và cộng vào giá trị dự đoán \n",
    "        y_pred += model[i] * params[i-1] \n",
    "    y_pred = Decimal(y_pred)\n",
    "    global max_print_count\n",
    "    if (max_print_count < 20): # Nếu print tới lần thứ 20 thì sẽ ngưng\n",
    "        max_print_count +=1\n",
    "        print(\"Predicted value for input row \" + str(max_print_count) + \": \" + str(y_pred))\n",
    "    return y_pred\n",
    "\n",
    "def meanSquaredError(y,scheduled,hour,oStatus,risk,mode,dStatus):\n",
    "    global n\n",
    "    y_pred = getPred(scheduled,hour,oStatus,risk,mode,dStatus) # Lấy giá trị dự đoán\n",
    "    # print(y,y_pred)\n",
    "    return float(((y_pred-Decimal(y))**2)/n) # Trả về ( giá trị dự đoán - giá trị thật ) ^ 2 / số dòng dữ liệu\n",
    "\n",
    "def meanAbsoluteError(y,scheduled,hour,oStatus,risk,mode,dStatus):\n",
    "    global n\n",
    "    y_pred = getPred(scheduled,hour,oStatus,risk,mode,dStatus)\n",
    "    # print(y,y_pred)\n",
    "    return float((abs(y_pred-Decimal(y)))/n)  # Trả về trị tuyệt đối ( giá trị dự đoán - giá trị thật ) / số dòng dữ liệu\n",
    "# Khởi tạo user defined functions\n",
    "udf_mse = udf(meanSquaredError,DoubleType()) \n",
    "udf_mae = udf(meanAbsoluteError,DoubleType())\n"
   ]
  },
  {
   "cell_type": "markdown",
   "id": "8101583f",
   "metadata": {},
   "source": [
    "## Đánh giá trên tập test"
   ]
  },
  {
   "cell_type": "code",
   "execution_count": 77,
   "id": "6e77d3b2",
   "metadata": {},
   "outputs": [
    {
     "name": "stderr",
     "output_type": "stream",
     "text": [
      "Predicted value for input row 1: 3.497391023952700109779543238      (0 + 4) / 4]\n",
      "Predicted value for input row 1: 3.497391023952700109779543238\n",
      "Predicted value for input row 2: 3.497479419928996737382363765\n",
      "Predicted value for input row 2: 3.497479419928996737382363765\n",
      "Predicted value for input row 3: 3.497483902569284208081559183\n",
      "Predicted value for input row 3: 3.497483902569284208081559183\n",
      "Predicted value for input row 4: 3.497483902569284208081559183\n",
      "Predicted value for input row 4: 3.497483902569284208081559183\n",
      "Predicted value for input row 5: 3.497483902569284208081559183\n",
      "Predicted value for input row 5: 3.497483902569284208081559183\n",
      "Predicted value for input row 6: 3.497469921564410736977546441\n",
      "Predicted value for input row 6: 3.497469921564410736977546441\n",
      "Predicted value for input row 7: 3.497469921564410736977546441\n",
      "Predicted value for input row 7: 3.497469921564410736977546441\n",
      "Predicted value for input row 8: 3.497469921564410736977546441\n",
      "Predicted value for input row 8: 3.497469921564410736977546441\n",
      "Predicted value for input row 9: 3.497469921564410736977546441\n",
      "Predicted value for input row 9: 3.497469921564410736977546441\n",
      "Predicted value for input row 10: 3.497469921564410736977546441\n",
      "Predicted value for input row 10: 3.497469921564410736977546441\n",
      "Predicted value for input row 11: 3.497469921564410736977546441\n",
      "Predicted value for input row 11: 3.497469921564410736977546441\n",
      "Predicted value for input row 12: 3.497469921564410736977546441\n",
      "Predicted value for input row 12: 3.497469921564410736977546441\n",
      "Predicted value for input row 13: 3.497469921564410736977546441\n",
      "Predicted value for input row 13: 3.497469921564410736977546441\n",
      "Predicted value for input row 14: 3.497469921564410736977546441\n",
      "Predicted value for input row 14: 3.497469921564410736977546441\n",
      "Predicted value for input row 15: 3.497469921564410736977546441\n",
      "Predicted value for input row 15: 3.497469921564410736977546441\n",
      "Predicted value for input row 16: 3.497469921564410736977546441\n",
      "Predicted value for input row 16: 3.497469921564410736977546441\n",
      "Predicted value for input row 17: 3.497469921564410736977546441\n",
      "Predicted value for input row 17: 3.497469921564410736977546441\n",
      "Predicted value for input row 18: 3.497469921564410736977546441\n",
      "Predicted value for input row 18: 3.497469921564410736977546441\n",
      "Predicted value for input row 19: 3.497469921564410736977546441\n",
      "Predicted value for input row 19: 3.497469921564410736977546441\n",
      "Predicted value for input row 20: 3.497469921564410736977546441\n",
      "Predicted value for input row 20: 3.497469921564410736977546441\n",
      "Predicted value for input row 1: 3.497508735007360663918965534\n",
      "Predicted value for input row 1: 3.497508735007360663918965534\n",
      "Predicted value for input row 2: 3.497396886968372895086863592\n",
      "Predicted value for input row 2: 3.497396886968372895086863592\n",
      "Predicted value for input row 3: 3.497505803499524271265305357\n",
      "Predicted value for input row 3: 3.497505803499524271265305357\n",
      "Predicted value for input row 4: 3.497505803499524271265305357\n",
      "Predicted value for input row 4: 3.497505803499524271265305357\n",
      "Predicted value for input row 5: 3.497393955460536502433203415\n",
      "Predicted value for input row 5: 3.497393955460536502433203415\n",
      "Predicted value for input row 6: 3.497391023952700109779543238\n",
      "Predicted value for input row 6: 3.497391023952700109779543238\n",
      "Predicted value for input row 7: 3.497391023952700109779543238\n",
      "Predicted value for input row 7: 3.497391023952700109779543238\n",
      "Predicted value for input row 8: 3.497499940483851485957985003\n",
      "Predicted value for input row 8: 3.497499940483851485957985003\n",
      "Predicted value for input row 9: 3.497499940483851485957985003\n",
      "Predicted value for input row 9: 3.497499940483851485957985003\n",
      "Predicted value for input row 10: 3.497388092444863717125883061\n",
      "Predicted value for input row 10: 3.497388092444863717125883061\n",
      "Predicted value for input row 11: 3.497388092444863717125883061\n",
      "Predicted value for input row 11: 3.497388092444863717125883061\n",
      "Predicted value for input row 12: 3.497388092444863717125883061\n",
      "Predicted value for input row 12: 3.497388092444863717125883061\n",
      "Predicted value for input row 13: 3.497388092444863717125883061\n",
      "Predicted value for input row 13: 3.497388092444863717125883061\n",
      "Predicted value for input row 14: 3.497388092444863717125883061\n",
      "Predicted value for input row 14: 3.497388092444863717125883061\n",
      "Predicted value for input row 15: 3.497497008976015093304324826\n",
      "Predicted value for input row 15: 3.497497008976015093304324826\n",
      "Predicted value for input row 16: 3.497385160937027324472222884\n",
      "Predicted value for input row 16: 3.497385160937027324472222884\n",
      "Predicted value for input row 17: 3.497385160937027324472222884\n",
      "Predicted value for input row 17: 3.497385160937027324472222884\n",
      "Predicted value for input row 18: 3.497494077468178700650664650\n",
      "Predicted value for input row 18: 3.497494077468178700650664650\n",
      "Predicted value for input row 19: 3.497382229429190931818562708\n",
      "Predicted value for input row 19: 3.497382229429190931818562708\n",
      "Predicted value for input row 20: 3.497491145960342307997004473\n",
      "Predicted value for input row 20: 3.497491145960342307997004473\n",
      "Predicted value for input row 1: 3.497396886968372895086863592\n",
      "Predicted value for input row 1: 3.497396886968372895086863592\n",
      "Predicted value for input row 2: 3.497393955460536502433203415\n",
      "Predicted value for input row 2: 3.497393955460536502433203415\n",
      "Predicted value for input row 3: 3.497499940483851485957985003\n",
      "Predicted value for input row 3: 3.497499940483851485957985003\n",
      "Predicted value for input row 4: 3.497388092444863717125883061\n",
      "Predicted value for input row 4: 3.497388092444863717125883061\n",
      "Predicted value for input row 5: 3.497382229429190931818562708\n",
      "Predicted value for input row 5: 3.497382229429190931818562708\n",
      "Predicted value for input row 6: 3.497382229429190931818562708\n",
      "Predicted value for input row 6: 3.497382229429190931818562708\n",
      "Predicted value for input row 7: 3.497382229429190931818562708\n",
      "Predicted value for input row 7: 3.497382229429190931818562708\n",
      "Predicted value for input row 8: 3.497382229429190931818562708\n",
      "Predicted value for input row 8: 3.497382229429190931818562708\n",
      "Predicted value for input row 9: 3.497488214452505915343344296\n",
      "Predicted value for input row 9: 3.497488214452505915343344296\n",
      "Predicted value for input row 10: 3.497488214452505915343344296\n",
      "Predicted value for input row 10: 3.497488214452505915343344296\n",
      "Predicted value for input row 11: 3.497485282944669522689684119\n",
      "Predicted value for input row 11: 3.497485282944669522689684119\n",
      "Predicted value for input row 12: 3.497485282944669522689684119\n",
      "Predicted value for input row 12: 3.497485282944669522689684119\n",
      "Predicted value for input row 13: 3.497482351436833130036023942\n",
      "Predicted value for input row 13: 3.497482351436833130036023942\n",
      "Predicted value for input row 14: 3.497482351436833130036023942\n",
      "Predicted value for input row 14: 3.497482351436833130036023942\n",
      "Predicted value for input row 15: 3.497479419928996737382363765\n",
      "Predicted value for input row 15: 3.497479419928996737382363765\n",
      "Predicted value for input row 16: 3.497479419928996737382363765\n",
      "Predicted value for input row 16: 3.497479419928996737382363765\n",
      "Predicted value for input row 17: 3.497476488421160344728703588\n",
      "Predicted value for input row 17: 3.497476488421160344728703588\n",
      "Predicted value for input row 18: 3.497476488421160344728703588\n",
      "Predicted value for input row 18: 3.497476488421160344728703588\n",
      "Predicted value for input row 19: 3.497476488421160344728703588\n",
      "Predicted value for input row 19: 3.497476488421160344728703588\n",
      "Predicted value for input row 20: 3.497476488421160344728703588\n",
      "Predicted value for input row 20: 3.497476488421160344728703588\n",
      "Predicted value for input row 1: 3.497508735007360663918965534\n",
      "Predicted value for input row 1: 3.497508735007360663918965534\n",
      "Predicted value for input row 2: 3.497508735007360663918965534\n",
      "Predicted value for input row 2: 3.497508735007360663918965534\n",
      "Predicted value for input row 3: 3.497502871991687878611645180\n",
      "Predicted value for input row 3: 3.497502871991687878611645180\n",
      "Predicted value for input row 4: 3.497391023952700109779543238\n",
      "Predicted value for input row 4: 3.497391023952700109779543238\n",
      "Predicted value for input row 5: 3.497499940483851485957985003\n",
      "Predicted value for input row 5: 3.497499940483851485957985003\n",
      "Predicted value for input row 6: 3.497499940483851485957985003\n",
      "Predicted value for input row 6: 3.497499940483851485957985003\n",
      "Predicted value for input row 7: 3.497499940483851485957985003\n",
      "Predicted value for input row 7: 3.497499940483851485957985003\n",
      "Predicted value for input row 8: 3.497499940483851485957985003\n",
      "Predicted value for input row 8: 3.497499940483851485957985003\n",
      "Predicted value for input row 9: 3.497499940483851485957985003\n",
      "Predicted value for input row 9: 3.497499940483851485957985003\n",
      "Predicted value for input row 10: 3.497388092444863717125883061\n",
      "Predicted value for input row 10: 3.497388092444863717125883061\n",
      "Predicted value for input row 11: 3.497497008976015093304324826\n",
      "Predicted value for input row 11: 3.497497008976015093304324826\n",
      "Predicted value for input row 12: 3.497382229429190931818562708\n",
      "Predicted value for input row 12: 3.497382229429190931818562708\n",
      "Predicted value for input row 13: 3.497491145960342307997004473\n",
      "Predicted value for input row 13: 3.497491145960342307997004473\n",
      "Predicted value for input row 14: 3.497491145960342307997004473\n",
      "Predicted value for input row 14: 3.497491145960342307997004473\n",
      "Predicted value for input row 15: 3.497482351436833130036023942\n",
      "Predicted value for input row 15: 3.497482351436833130036023942\n",
      "Predicted value for input row 16: 3.497476488421160344728703588\n",
      "Predicted value for input row 16: 3.497476488421160344728703588\n",
      "Predicted value for input row 17: 3.497476488421160344728703588\n",
      "Predicted value for input row 17: 3.497476488421160344728703588\n",
      "Predicted value for input row 18: 3.497476488421160344728703588\n",
      "Predicted value for input row 18: 3.497476488421160344728703588\n",
      "Predicted value for input row 19: 3.497364640382172575896601646\n",
      "Predicted value for input row 19: 3.497364640382172575896601646\n",
      "Predicted value for input row 20: 3.497483902569284208081559183\n",
      "Predicted value for input row 20: 3.497483902569284208081559183\n"
     ]
    },
    {
     "name": "stdout",
     "output_type": "stream",
     "text": [
      "[1.0625738853225546, 0.608005963281564]\n"
     ]
    },
    {
     "name": "stderr",
     "output_type": "stream",
     "text": [
      "\r\n",
      "                                                                                \r"
     ]
    }
   ],
   "source": [
    "\n",
    "measures = df_test.select(sum(udf_mse( # Áp dụng user defined function udf để tính mean squared error (udf_mse)\n",
    "    'Daysforshipping_real_',\n",
    "    'Daysforshipment_scheduled_',\n",
    "    'order_hour',\n",
    "    'encodedOrderStatus',\n",
    "    'Late_delivery_risk',\n",
    "    'encodedShippingMode',\n",
    "    'encodedDeliveryStatus'\n",
    "                )).alias(\"mean_squared_error\"),\n",
    "            sum(udf_mae( # Áp dụng user defined function udf để tính mean squared error (udf_mae)\n",
    "    'Daysforshipping_real_',\n",
    "    'Daysforshipment_scheduled_',\n",
    "    'order_hour',\n",
    "    'encodedOrderStatus',\n",
    "    'Late_delivery_risk',\n",
    "    'encodedShippingMode',\n",
    "    'encodedDeliveryStatus'\n",
    "                )).alias(\"mean_absolute_error\")).collect()\n",
    "measures = [math.sqrt(float(measures[0][0])),float(measures[0][1])]\n",
    "print(measures)"
   ]
  },
  {
   "cell_type": "markdown",
   "id": "43f28447",
   "metadata": {},
   "source": [
    "## Đánh giá trên tập train"
   ]
  },
  {
   "cell_type": "code",
   "execution_count": 78,
   "id": "176dbe3a",
   "metadata": {},
   "outputs": [
    {
     "name": "stderr",
     "output_type": "stream",
     "text": [
      "Predicted value for input row 1: 3.497393955460536502433203415      (0 + 4) / 4]\n",
      "Predicted value for input row 1: 3.497393955460536502433203415\n",
      "Predicted value for input row 2: 3.497393955460536502433203415\n",
      "Predicted value for input row 2: 3.497393955460536502433203415\n",
      "Predicted value for input row 3: 3.497393955460536502433203415\n",
      "Predicted value for input row 3: 3.497393955460536502433203415\n",
      "Predicted value for input row 4: 3.497391023952700109779543238\n",
      "Predicted value for input row 4: 3.497391023952700109779543238\n",
      "Predicted value for input row 5: 3.497485282944669522689684119\n",
      "Predicted value for input row 5: 3.497485282944669522689684119\n",
      "Predicted value for input row 6: 3.497482351436833130036023942\n",
      "Predicted value for input row 6: 3.497482351436833130036023942\n",
      "Predicted value for input row 7: 3.497479419928996737382363765\n",
      "Predicted value for input row 7: 3.497479419928996737382363765\n",
      "Predicted value for input row 8: 3.497483902569284208081559183\n",
      "Predicted value for input row 8: 3.497483902569284208081559183\n",
      "Predicted value for input row 9: 3.497483902569284208081559183\n",
      "Predicted value for input row 9: 3.497483902569284208081559183\n",
      "Predicted value for input row 10: 3.497483902569284208081559183\n",
      "Predicted value for input row 10: 3.497483902569284208081559183\n",
      "Predicted value for input row 11: 3.497483902569284208081559183\n",
      "Predicted value for input row 11: 3.497483902569284208081559183\n",
      "Predicted value for input row 12: 3.497483902569284208081559183\n",
      "Predicted value for input row 12: 3.497483902569284208081559183\n",
      "Predicted value for input row 13: 3.497483902569284208081559183\n",
      "Predicted value for input row 13: 3.497483902569284208081559183\n",
      "Predicted value for input row 14: 3.497483902569284208081559183\n",
      "Predicted value for input row 14: 3.497483902569284208081559183\n",
      "Predicted value for input row 15: 3.497483902569284208081559183\n",
      "Predicted value for input row 15: 3.497483902569284208081559183\n",
      "Predicted value for input row 16: 3.497483902569284208081559183\n",
      "Predicted value for input row 16: 3.497483902569284208081559183\n",
      "Predicted value for input row 17: 3.497483902569284208081559183\n",
      "Predicted value for input row 17: 3.497483902569284208081559183\n",
      "Predicted value for input row 18: 3.497483902569284208081559183\n",
      "Predicted value for input row 18: 3.497483902569284208081559183\n",
      "Predicted value for input row 19: 3.497483902569284208081559183\n",
      "Predicted value for input row 19: 3.497483902569284208081559183\n",
      "Predicted value for input row 20: 3.497469921564410736977546441\n",
      "Predicted value for input row 20: 3.497469921564410736977546441\n",
      "Predicted value for input row 1: 3.497508735007360663918965534\n",
      "Predicted value for input row 1: 3.497508735007360663918965534\n",
      "Predicted value for input row 2: 3.497508735007360663918965534\n",
      "Predicted value for input row 2: 3.497508735007360663918965534\n",
      "Predicted value for input row 3: 3.497396886968372895086863592\n",
      "Predicted value for input row 3: 3.497396886968372895086863592\n",
      "Predicted value for input row 4: 3.497396886968372895086863592\n",
      "Predicted value for input row 4: 3.497396886968372895086863592\n",
      "Predicted value for input row 5: 3.497396886968372895086863592\n",
      "Predicted value for input row 5: 3.497396886968372895086863592\n",
      "Predicted value for input row 6: 3.497396886968372895086863592\n",
      "Predicted value for input row 6: 3.497396886968372895086863592\n",
      "Predicted value for input row 7: 3.497393955460536502433203415\n",
      "Predicted value for input row 7: 3.497393955460536502433203415\n",
      "Predicted value for input row 8: 3.497393955460536502433203415\n",
      "Predicted value for input row 8: 3.497393955460536502433203415\n",
      "Predicted value for input row 9: 3.497499940483851485957985003\n",
      "Predicted value for input row 9: 3.497499940483851485957985003\n",
      "Predicted value for input row 10: 3.497499940483851485957985003\n",
      "Predicted value for input row 10: 3.497499940483851485957985003\n",
      "Predicted value for input row 11: 3.497499940483851485957985003\n",
      "Predicted value for input row 11: 3.497499940483851485957985003\n",
      "Predicted value for input row 12: 3.497388092444863717125883061\n",
      "Predicted value for input row 12: 3.497388092444863717125883061\n",
      "Predicted value for input row 13: 3.497388092444863717125883061\n",
      "Predicted value for input row 13: 3.497388092444863717125883061\n",
      "Predicted value for input row 14: 3.497388092444863717125883061\n",
      "Predicted value for input row 14: 3.497388092444863717125883061\n",
      "Predicted value for input row 15: 3.497388092444863717125883061\n",
      "Predicted value for input row 15: 3.497388092444863717125883061\n",
      "Predicted value for input row 16: 3.497497008976015093304324826\n",
      "Predicted value for input row 16: 3.497497008976015093304324826\n",
      "Predicted value for input row 17: 3.497497008976015093304324826\n",
      "Predicted value for input row 17: 3.497497008976015093304324826\n",
      "Predicted value for input row 18: 3.497497008976015093304324826\n",
      "Predicted value for input row 18: 3.497497008976015093304324826\n",
      "Predicted value for input row 19: 3.497497008976015093304324826\n",
      "Predicted value for input row 19: 3.497497008976015093304324826\n",
      "Predicted value for input row 20: 3.497385160937027324472222884\n",
      "Predicted value for input row 20: 3.497385160937027324472222884\n",
      "Predicted value for input row 1: 3.497508735007360663918965534\n",
      "Predicted value for input row 1: 3.497508735007360663918965534\n",
      "Predicted value for input row 2: 3.497508735007360663918965534\n",
      "Predicted value for input row 2: 3.497508735007360663918965534\n",
      "Predicted value for input row 3: 3.497502871991687878611645180\n",
      "Predicted value for input row 3: 3.497502871991687878611645180\n",
      "Predicted value for input row 4: 3.497502871991687878611645180\n",
      "Predicted value for input row 4: 3.497502871991687878611645180\n",
      "Predicted value for input row 5: 3.497391023952700109779543238\n",
      "Predicted value for input row 5: 3.497391023952700109779543238\n",
      "Predicted value for input row 6: 3.497499940483851485957985003\n",
      "Predicted value for input row 6: 3.497499940483851485957985003\n",
      "Predicted value for input row 7: 3.497388092444863717125883061\n",
      "Predicted value for input row 7: 3.497388092444863717125883061\n",
      "Predicted value for input row 8: 3.497388092444863717125883061\n",
      "Predicted value for input row 8: 3.497388092444863717125883061\n",
      "Predicted value for input row 9: 3.497388092444863717125883061\n",
      "Predicted value for input row 9: 3.497388092444863717125883061\n",
      "Predicted value for input row 10: 3.497497008976015093304324826\n",
      "Predicted value for input row 10: 3.497497008976015093304324826\n",
      "Predicted value for input row 11: 3.497494077468178700650664650\n",
      "Predicted value for input row 11: 3.497494077468178700650664650\n",
      "Predicted value for input row 12: 3.497382229429190931818562708\n",
      "Predicted value for input row 12: 3.497382229429190931818562708\n",
      "Predicted value for input row 13: 3.497491145960342307997004473\n",
      "Predicted value for input row 13: 3.497491145960342307997004473\n",
      "Predicted value for input row 14: 3.497491145960342307997004473\n",
      "Predicted value for input row 14: 3.497491145960342307997004473\n",
      "Predicted value for input row 15: 3.497379297921354539164902531\n",
      "Predicted value for input row 15: 3.497379297921354539164902531\n",
      "Predicted value for input row 16: 3.497373434905681753857582177\n",
      "Predicted value for input row 16: 3.497373434905681753857582177\n",
      "Predicted value for input row 17: 3.497482351436833130036023942\n",
      "Predicted value for input row 17: 3.497482351436833130036023942\n",
      "Predicted value for input row 18: 3.497482351436833130036023942\n",
      "Predicted value for input row 18: 3.497482351436833130036023942\n",
      "Predicted value for input row 19: 3.497479419928996737382363765\n",
      "Predicted value for input row 19: 3.497479419928996737382363765\n",
      "Predicted value for input row 20: 3.497476488421160344728703588\n",
      "Predicted value for input row 20: 3.497476488421160344728703588\n",
      "Predicted value for input row 1: 3.497508735007360663918965534\n",
      "Predicted value for input row 1: 3.497508735007360663918965534\n",
      "Predicted value for input row 2: 3.497508735007360663918965534\n",
      "Predicted value for input row 2: 3.497508735007360663918965534\n",
      "Predicted value for input row 3: 3.497508735007360663918965534\n",
      "Predicted value for input row 3: 3.497508735007360663918965534\n",
      "Predicted value for input row 4: 3.497508735007360663918965534\n",
      "Predicted value for input row 4: 3.497508735007360663918965534\n",
      "Predicted value for input row 5: 3.497396886968372895086863592\n",
      "Predicted value for input row 5: 3.497396886968372895086863592\n",
      "Predicted value for input row 6: 3.497396886968372895086863592\n",
      "Predicted value for input row 6: 3.497396886968372895086863592\n",
      "Predicted value for input row 7: 3.497396886968372895086863592\n",
      "Predicted value for input row 7: 3.497396886968372895086863592\n",
      "Predicted value for input row 8: 3.497396886968372895086863592\n",
      "Predicted value for input row 8: 3.497396886968372895086863592\n",
      "Predicted value for input row 9: 3.497396886968372895086863592\n",
      "Predicted value for input row 9: 3.497396886968372895086863592\n",
      "Predicted value for input row 10: 3.497505803499524271265305357\n",
      "Predicted value for input row 10: 3.497505803499524271265305357\n",
      "Predicted value for input row 11: 3.497505803499524271265305357\n",
      "Predicted value for input row 11: 3.497505803499524271265305357\n",
      "Predicted value for input row 12: 3.497393955460536502433203415\n",
      "Predicted value for input row 12: 3.497393955460536502433203415\n",
      "Predicted value for input row 13: 3.497393955460536502433203415\n",
      "Predicted value for input row 13: 3.497393955460536502433203415\n",
      "Predicted value for input row 14: 3.497393955460536502433203415\n",
      "Predicted value for input row 14: 3.497393955460536502433203415\n",
      "Predicted value for input row 15: 3.497391023952700109779543238\n",
      "Predicted value for input row 15: 3.497391023952700109779543238\n",
      "Predicted value for input row 16: 3.497391023952700109779543238\n",
      "Predicted value for input row 16: 3.497391023952700109779543238\n",
      "Predicted value for input row 17: 3.497391023952700109779543238\n",
      "Predicted value for input row 17: 3.497391023952700109779543238\n",
      "Predicted value for input row 18: 3.497499940483851485957985003\n",
      "Predicted value for input row 18: 3.497499940483851485957985003\n",
      "Predicted value for input row 19: 3.497499940483851485957985003\n",
      "Predicted value for input row 19: 3.497499940483851485957985003\n",
      "Predicted value for input row 20: 3.497388092444863717125883061\n",
      "Predicted value for input row 20: 3.497388092444863717125883061\n"
     ]
    },
    {
     "name": "stdout",
     "output_type": "stream",
     "text": [
      "[1.6226447554984775, 1.4235989494286962]\n"
     ]
    },
    {
     "name": "stderr",
     "output_type": "stream",
     "text": [
      "\r\n",
      "[Stage 598:==========================================>              (3 + 1) / 4]\r\n",
      "\r\n",
      "                                                                                \r"
     ]
    }
   ],
   "source": [
    "measures_train = df_train.select(sum(udf_mse(\n",
    "    'Daysforshipping_real_',\n",
    "    'Daysforshipment_scheduled_',\n",
    "    'order_hour',\n",
    "    'encodedOrderStatus',\n",
    "    'Late_delivery_risk',\n",
    "    'encodedShippingMode',\n",
    "    'encodedDeliveryStatus'\n",
    "                )).alias(\"mean_squared_error\"),\n",
    "            sum(udf_mae(\n",
    "    'Daysforshipping_real_',\n",
    "    'Daysforshipment_scheduled_',\n",
    "    'order_hour',\n",
    "    'encodedOrderStatus',\n",
    "    'Late_delivery_risk',\n",
    "    'encodedShippingMode',\n",
    "    'encodedDeliveryStatus'\n",
    "                )).alias(\"mean_absolute_error\")).collect()\n",
    "measures_train = [math.sqrt(float(measures_train[0][0])),float(measures_train[0][1])]\n",
    "print(measures_train)"
   ]
  },
  {
   "cell_type": "markdown",
   "id": "9367355c",
   "metadata": {},
   "source": [
    "## Đánh giá trên toàn bộ dữ liệu"
   ]
  },
  {
   "cell_type": "code",
   "execution_count": 79,
   "id": "82285917",
   "metadata": {},
   "outputs": [
    {
     "name": "stderr",
     "output_type": "stream",
     "text": [
      "Predicted value for input row 1: 3.497435196792421513113644137\n",
      "Predicted value for input row 1: 3.497435196792421513113644137\n",
      "Predicted value for input row 2: 3.497410192164357434966222824\n",
      "Predicted value for input row 2: 3.497410192164357434966222824\n",
      "Predicted value for input row 3: 3.497445938576049956554077823\n",
      "Predicted value for input row 3: 3.497445938576049956554077823\n",
      "Predicted value for input row 4: 3.497467443378621832303906083\n",
      "Predicted value for input row 4: 3.497467443378621832303906083\n",
      "Predicted value for input row 5: 3.497411519359127947887855112\n",
      "Predicted value for input row 5: 3.497411519359127947887855112\n",
      "Predicted value for input row 6: 3.497473702521962805045144351\n",
      "Predicted value for input row 6: 3.497473702521962805045144351\n",
      "Predicted value for input row 7: 3.497460889620292791903317432\n",
      "Predicted value for input row 7: 3.497460889620292791903317432\n",
      "Predicted value for input row 8: 3.497390984595925436383253718\n",
      "Predicted value for input row 8: 3.497390984595925436383253718\n",
      "Predicted value for input row 9: 3.497473372149122874531373767\n",
      "Predicted value for input row 9: 3.497473372149122874531373767\n",
      "Predicted value for input row 10: 3.497477802133002655660990351\n",
      "Predicted value for input row 10: 3.497477802133002655660990351\n",
      "Predicted value for input row 11: 3.497369110448246591362142382\n",
      "Predicted value for input row 11: 3.497369110448246591362142382\n",
      "Predicted value for input row 12: 3.497423311145301775422643151\n",
      "Predicted value for input row 12: 3.497423311145301775422643151\n",
      "Predicted value for input row 13: 3.497423311145301775422643151\n",
      "Predicted value for input row 13: 3.497423311145301775422643151\n",
      "Predicted value for input row 14: 3.497466752635965577210637786\n",
      "Predicted value for input row 14: 3.497466752635965577210637786\n",
      "Predicted value for input row 15: 3.497399779119434614344234249\n",
      "Predicted value for input row 15: 3.497399779119434614344234249\n",
      "Predicted value for input row 16: 3.497469684143801969864297963\n",
      "Predicted value for input row 16: 3.497469684143801969864297963\n",
      "Predicted value for input row 17: 3.497412261648264696972290585\n",
      "Predicted value for input row 17: 3.497412261648264696972290585\n",
      "Predicted value for input row 18: 3.497486596656511833621970882\n",
      "Predicted value for input row 18: 3.497486596656511833621970882\n",
      "Predicted value for input row 19: 3.497472615651638362517958140\n",
      "Predicted value for input row 19: 3.497472615651638362517958140\n",
      "Predicted value for input row 20: 3.497396408497898496639534409\n",
      "Predicted value for input row 20: 3.497396408497898496639534409\n",
      "Predicted value for input row 1: 3.497440752094685663411045612\n",
      "Predicted value for input row 1: 3.497440752094685663411045612\n",
      "Predicted value for input row 2: 3.497476237902131010264886614\n",
      "Predicted value for input row 2: 3.497476237902131010264886614\n",
      "Predicted value for input row 3: 3.497475587241668989507542467\n",
      "Predicted value for input row 3: 3.497475587241668989507542467\n",
      "Predicted value for input row 4: 3.497452785839439869035605199\n",
      "Predicted value for input row 4: 3.497452785839439869035605199\n",
      "Predicted value for input row 5: 3.497493826949149366186847675\n",
      "Predicted value for input row 5: 3.497493826949149366186847675\n",
      "Predicted value for input row 6: 3.497467443378621832303906083\n",
      "Predicted value for input row 6: 3.497467443378621832303906083\n",
      "Predicted value for input row 7: 3.497475587241668989507542467\n",
      "Predicted value for input row 7: 3.497475587241668989507542467\n",
      "Predicted value for input row 8: 3.497458648855112654342925553\n",
      "Predicted value for input row 8: 3.497458648855112654342925553\n",
      "Predicted value for input row 9: 3.497476237902131010264886614\n",
      "Predicted value for input row 9: 3.497476237902131010264886614\n",
      "Predicted value for input row 10: 3.497425751608450314395319460\n",
      "Predicted value for input row 10: 3.497425751608450314395319460\n",
      "Predicted value for input row 11: 3.497431614624123099702639814\n",
      "Predicted value for input row 11: 3.497431614624123099702639814\n",
      "Predicted value for input row 12: 3.497411437016321736874443843\n",
      "Predicted value for input row 12: 3.497411437016321736874443843\n",
      "Predicted value for input row 13: 3.497460929702487026239241583\n",
      "Predicted value for input row 13: 3.497460929702487026239241583\n",
      "Predicted value for input row 14: 3.497431957571176485450065081\n",
      "Predicted value for input row 14: 3.497431957571176485450065081\n",
      "Predicted value for input row 15: 3.497414368524158129528104020\n",
      "Predicted value for input row 15: 3.497414368524158129528104020\n",
      "Predicted value for input row 16: 3.497467443378621832303906083\n",
      "Predicted value for input row 16: 3.497467443378621832303906083\n",
      "Predicted value for input row 17: 3.497449203671141455624600875\n",
      "Predicted value for input row 17: 3.497449203671141455624600875\n",
      "Predicted value for input row 18: 3.497476237902131010264886614\n",
      "Predicted value for input row 18: 3.497476237902131010264886614\n",
      "Predicted value for input row 19: 3.497466792718159811546561937\n",
      "Predicted value for input row 19: 3.497466792718159811546561937\n",
      "Predicted value for input row 20: 3.497432265284585120459983961\n",
      "Predicted value for input row 20: 3.497432265284585120459983961\n",
      "Predicted value for input row 1: 3.497463821128129184556977609\n",
      "Predicted value for input row 1: 3.497463821128129184556977609\n",
      "Predicted value for input row 2: 3.497434506049765258020375840\n",
      "Predicted value for input row 2: 3.497434506049765258020375840\n",
      "Predicted value for input row 3: 3.497431574541928865366715663\n",
      "Predicted value for input row 3: 3.497431574541928865366715663\n",
      "Predicted value for input row 4: 3.497428643034092472713055486\n",
      "Predicted value for input row 4: 3.497428643034092472713055486\n",
      "Predicted value for input row 5: 3.497452095096783613942336901\n",
      "Predicted value for input row 5: 3.497452095096783613942336901\n",
      "Predicted value for input row 6: 3.497449163588947221288676725\n",
      "Predicted value for input row 6: 3.497449163588947221288676725\n",
      "Predicted value for input row 7: 3.497431574541928865366715663\n",
      "Predicted value for input row 7: 3.497431574541928865366715663\n",
      "Predicted value for input row 8: 3.497481410175147540478938670\n",
      "Predicted value for input row 8: 3.497481410175147540478938670\n",
      "Predicted value for input row 9: 3.497475547159474755171618317\n",
      "Predicted value for input row 9: 3.497475547159474755171618317\n",
      "Predicted value for input row 10: 3.497428643034092472713055486\n",
      "Predicted value for input row 10: 3.497428643034092472713055486\n",
      "Predicted value for input row 11: 3.497478478667311147825278493\n",
      "Predicted value for input row 11: 3.497478478667311147825278493\n",
      "Predicted value for input row 12: 3.497457958112456399249657255\n",
      "Predicted value for input row 12: 3.497457958112456399249657255\n",
      "Predicted value for input row 13: 3.497437437557601650674036017\n",
      "Predicted value for input row 13: 3.497437437557601650674036017\n",
      "Predicted value for input row 14: 3.497472615651638362517958140\n",
      "Predicted value for input row 14: 3.497472615651638362517958140\n",
      "Predicted value for input row 15: 3.497446232081110828635016548\n",
      "Predicted value for input row 15: 3.497446232081110828635016548\n",
      "Predicted value for input row 16: 3.497475547159474755171618317\n",
      "Predicted value for input row 16: 3.497475547159474755171618317\n",
      "Predicted value for input row 17: 3.497428643034092472713055486\n",
      "Predicted value for input row 17: 3.497428643034092472713055486\n",
      "Predicted value for input row 18: 3.497484341682983933132598847\n",
      "Predicted value for input row 18: 3.497484341682983933132598847\n",
      "Predicted value for input row 19: 3.497469684143801969864297963\n",
      "Predicted value for input row 19: 3.497469684143801969864297963\n",
      "Predicted value for input row 20: 3.497475547159474755171618317\n",
      "Predicted value for input row 20: 3.497475547159474755171618317\n",
      "Predicted value for input row 1: 3.497426176898309911156155997      (0 + 4) / 4]\n",
      "Predicted value for input row 1: 3.497426176898309911156155997\n",
      "Predicted value for input row 2: 3.497390998804273199312233874\n",
      "Predicted value for input row 2: 3.497390998804273199312233874\n",
      "Predicted value for input row 3: 3.497352581488991459804732695\n",
      "Predicted value for input row 3: 3.497352581488991459804732695\n",
      "Predicted value for input row 4: 3.497405656343455162580534758\n",
      "Predicted value for input row 4: 3.497405656343455162580534758\n",
      "Predicted value for input row 5: 3.497376341265091236043932990\n",
      "Predicted value for input row 5: 3.497376341265091236043932990\n",
      "Predicted value for input row 6: 3.497425526237847890398811850\n",
      "Predicted value for input row 6: 3.497425526237847890398811850\n",
      "Predicted value for input row 7: 3.497384485128138393247569374\n",
      "Predicted value for input row 7: 3.497384485128138393247569374\n",
      "Predicted value for input row 8: 3.497405005682993141823190612\n",
      "Predicted value for input row 8: 3.497405005682993141823190612\n",
      "Predicted value for input row 9: 3.497370170536009815726693757\n",
      "Predicted value for input row 9: 3.497370170536009815726693757\n",
      "Predicted value for input row 10: 3.497382204280764021351253343\n",
      "Predicted value for input row 10: 3.497382204280764021351253343\n",
      "Predicted value for input row 11: 3.497367239028173423073033580\n",
      "Predicted value for input row 11: 3.497367239028173423073033580\n",
      "Predicted value for input row 12: 3.497378622112465607940249020\n",
      "Predicted value for input row 12: 3.497378622112465607940249020\n",
      "Predicted value for input row 13: 3.497375690604629215286588843\n",
      "Predicted value for input row 13: 3.497375690604629215286588843\n",
      "Predicted value for input row 14: 3.497432039913982696463476350\n",
      "Predicted value for input row 14: 3.497432039913982696463476350\n",
      "Predicted value for input row 15: 3.497434971421819089117136527\n",
      "Predicted value for input row 15: 3.497434971421819089117136527\n",
      "Predicted value for input row 16: 3.497387416635974785901229551\n",
      "Predicted value for input row 16: 3.497387416635974785901229551\n",
      "Predicted value for input row 17: 3.497388067296436806658573697\n",
      "Predicted value for input row 17: 3.497388067296436806658573697\n",
      "Predicted value for input row 18: 3.497378965059518993687674287\n",
      "Predicted value for input row 18: 3.497378965059518993687674287\n",
      "Predicted value for input row 19: 3.497396211159483963862210081\n",
      "Predicted value for input row 19: 3.497396211159483963862210081\n",
      "Predicted value for input row 20: 3.497388067296436806658573697\n",
      "Predicted value for input row 20: 3.497388067296436806658573697\n"
     ]
    },
    {
     "name": "stdout",
     "output_type": "stream",
     "text": [
      "[1.9395977068237946, 2.031604912710266]\n"
     ]
    },
    {
     "name": "stderr",
     "output_type": "stream",
     "text": [
      "\r\n",
      "[Stage 601:============================>                            (2 + 2) / 4]\r\n",
      "\r\n",
      "                                                                                \r"
     ]
    }
   ],
   "source": [
    "measures_all = df_modelData.select(sum(udf_mse(\n",
    "    'Daysforshipping_real_',\n",
    "    'Daysforshipment_scheduled_',\n",
    "    'order_hour',\n",
    "    'encodedOrderStatus',\n",
    "    'Late_delivery_risk',\n",
    "    'encodedShippingMode',\n",
    "    'encodedDeliveryStatus'\n",
    "                )).alias(\"mean_squared_error\"),\n",
    "            sum(udf_mae(\n",
    "    'Daysforshipping_real_',\n",
    "    'Daysforshipment_scheduled_',\n",
    "    'order_hour',\n",
    "    'encodedOrderStatus',\n",
    "    'Late_delivery_risk',\n",
    "    'encodedShippingMode',\n",
    "    'encodedDeliveryStatus'\n",
    "                )).alias(\"mean_absolute_error\")).collect()\n",
    "measures_all = [math.sqrt(float(measures_all[0][0])),float(measures_all[0][1])]\n",
    "print(measures_all)"
   ]
  },
  {
   "cell_type": "markdown",
   "id": "85236179",
   "metadata": {},
   "source": [
    "## So sánh kết quả đánh giá giữa các bộ dữ liệu"
   ]
  },
  {
   "cell_type": "code",
   "execution_count": 80,
   "id": "e166172a",
   "metadata": {
    "scrolled": true
   },
   "outputs": [
    {
     "name": "stdout",
     "output_type": "stream",
     "text": [
      "+-------+--------------------+------------------+\n",
      "|Dataset|RootMeanSquaredError| MeanAbsoluteError|\n",
      "+-------+--------------------+------------------+\n",
      "|  Train|  1.6226447554984775|1.4235989494286962|\n",
      "|   Test|  1.0625738853225546| 0.608005963281564|\n",
      "|    All|  1.9395977068237946| 2.031604912710266|\n",
      "+-------+--------------------+------------------+\n",
      "\n"
     ]
    },
    {
     "data": {
      "text/plain": [
       "<AxesSubplot:ylabel='Dataset'>"
      ]
     },
     "execution_count": 80,
     "metadata": {},
     "output_type": "execute_result"
    },
    {
     "data": {
      "image/png": "[encoded data removed]",
      "text/plain": [
       "<Figure size 432x288 with 1 Axes>"
      ]
     },
     "metadata": {
      "needs_background": "light"
     },
     "output_type": "display_data"
    }
   ],
   "source": [
    "# Mỗi kết quả đánh giá (measures) trả về một mảng 2 chiều\n",
    "# Thêm tên tập dữ liệu vào đầu mảng để mảng trở thành [Tên dataset, MSE, MAE]\n",
    "# Đặt schema là các tên cột\n",
    "plot_data = spark.createDataFrame(data= [['Train'] + measures_train,\n",
    "                                         ['Test'] + measures,\n",
    "                                         ['All'] + measures_all\n",
    "                                        ]\n",
    "                                  ,schema=['Dataset','RootMeanSquaredError','MeanAbsoluteError'])\n",
    "plot_data.show()\n",
    "plot_data.toPandas().plot.barh(x='Dataset')"
   ]
  },
  {
   "cell_type": "markdown",
   "id": "f2c210b6",
   "metadata": {},
   "source": [
    "## So sánh với thuật toán cung cấp sẵn bởi Spark"
   ]
  },
  {
   "cell_type": "markdown",
   "id": "1623d4f3",
   "metadata": {},
   "source": [
    "### Nhập thư viện"
   ]
  },
  {
   "cell_type": "code",
   "execution_count": 81,
   "id": "40ffe2a8",
   "metadata": {},
   "outputs": [],
   "source": [
    "from pyspark.ml.regression import LinearRegression\n",
    "from pyspark.ml.evaluation import RegressionEvaluator\n",
    "from pyspark.ml.feature import VectorAssembler\n",
    "from pyspark.sql.functions import lit"
   ]
  },
  {
   "cell_type": "markdown",
   "id": "eb1586b6",
   "metadata": {},
   "source": [
    "### Biến đổi dữ liệu"
   ]
  },
  {
   "cell_type": "code",
   "execution_count": 82,
   "id": "a62307a6",
   "metadata": {},
   "outputs": [
    {
     "name": "stdout",
     "output_type": "stream",
     "text": [
      "+---------------------+--------------------------+-------------------+------------------+---------------------+----------+------------------+--------------------+\n",
      "|Daysforshipping_real_|Daysforshipment_scheduled_|encodedShippingMode|Late_delivery_risk|encodedDeliveryStatus|order_hour|encodedOrderStatus|            features|\n",
      "+---------------------+--------------------------+-------------------+------------------+---------------------+----------+------------------+--------------------+\n",
      "|                    0|                         0|                  1|                 0|                    2|         1|                 8|[0.0,0.0,1.0,0.0,...|\n",
      "|                    0|                         0|                  1|                 0|                    2|         1|                 8|[0.0,0.0,1.0,0.0,...|\n",
      "|                    0|                         0|                  1|                 0|                    2|         1|                 8|[0.0,0.0,1.0,0.0,...|\n",
      "|                    0|                         0|                  1|                 0|                    2|         2|                 8|[0.0,0.0,1.0,0.0,...|\n",
      "|                    0|                         0|                  1|                 0|                    2|         8|                 0|(7,[2,4,5],[1.0,2...|\n",
      "|                    0|                         0|                  1|                 0|                    2|         9|                 0|(7,[2,4,5],[1.0,2...|\n",
      "|                    0|                         0|                  1|                 0|                    2|        10|                 0|(7,[2,4,5],[1.0,2...|\n",
      "|                    0|                         0|                  1|                 0|                    3|         0|                 1|(7,[2,4,6],[1.0,3...|\n",
      "|                    0|                         0|                  1|                 0|                    3|         0|                 1|(7,[2,4,6],[1.0,3...|\n",
      "|                    0|                         0|                  1|                 0|                    3|         0|                 1|(7,[2,4,6],[1.0,3...|\n",
      "|                    0|                         0|                  1|                 0|                    3|         0|                 1|(7,[2,4,6],[1.0,3...|\n",
      "|                    0|                         0|                  1|                 0|                    3|         0|                 1|(7,[2,4,6],[1.0,3...|\n",
      "|                    0|                         0|                  1|                 0|                    3|         0|                 1|(7,[2,4,6],[1.0,3...|\n",
      "|                    0|                         0|                  1|                 0|                    3|         0|                 1|(7,[2,4,6],[1.0,3...|\n",
      "|                    0|                         0|                  1|                 0|                    3|         0|                 1|(7,[2,4,6],[1.0,3...|\n",
      "|                    0|                         0|                  1|                 0|                    3|         0|                 1|(7,[2,4,6],[1.0,3...|\n",
      "|                    0|                         0|                  1|                 0|                    3|         0|                 1|(7,[2,4,6],[1.0,3...|\n",
      "|                    0|                         0|                  1|                 0|                    3|         0|                 1|(7,[2,4,6],[1.0,3...|\n",
      "|                    0|                         0|                  1|                 0|                    3|         0|                 1|(7,[2,4,6],[1.0,3...|\n",
      "|                    0|                         0|                  1|                 0|                    3|         0|                 2|(7,[2,4,6],[1.0,3...|\n",
      "+---------------------+--------------------------+-------------------+------------------+---------------------+----------+------------------+--------------------+\n",
      "only showing top 20 rows\n",
      "\n"
     ]
    }
   ],
   "source": [
    "assembler = VectorAssembler(\n",
    "    inputCols=df_train.columns, # Lấy toàn bộ các cột của df_train\n",
    "    outputCol=\"features\")\n",
    "\n",
    "train_data = assembler.transform(df_train)\n",
    "test_data = assembler.transform(df_test)\n",
    "all_data = assembler.transform(df_modelData)\n",
    "\n",
    "train_data.show()"
   ]
  },
  {
   "cell_type": "markdown",
   "id": "75a132a9",
   "metadata": {},
   "source": [
    "### Train model và đưa ra các đánh giá"
   ]
  },
  {
   "cell_type": "code",
   "execution_count": 84,
   "id": "8cd2c53d-7444-4d35-9413-e62f5f0bb194",
   "metadata": {
    "scrolled": false
   },
   "outputs": [
    {
     "name": "stderr",
     "output_type": "stream",
     "text": [
      "                                                                                \r"
     ]
    },
    {
     "name": "stdout",
     "output_type": "stream",
     "text": [
      "[1.2850845226191394, 1.1287580055590014]\n",
      "[1.2878022926257577, 1.1287580055590014]\n",
      "[1.2878022926257577, 1.1293603554503175]\n",
      "+-------+--------------------+------------------+------------------+------------------+\n",
      "|Dataset|RootMeanSquaredError| MeanAbsoluteError|        ManualRMSE|         ManualMAE|\n",
      "+-------+--------------------+------------------+------------------+------------------+\n",
      "|  Train|  1.2850845226191394|1.1287580055590014|1.6226447554984775|1.4235989494286962|\n",
      "|   Test|  1.2878022926257577|1.1287580055590014|1.0625738853225546| 0.608005963281564|\n",
      "|    All|  1.2878022926257577|1.1293603554503175|1.9395977068237946| 2.031604912710266|\n",
      "+-------+--------------------+------------------+------------------+------------------+\n",
      "\n"
     ]
    },
    {
     "data": {
      "text/plain": [
       "<AxesSubplot:ylabel='Dataset'>"
      ]
     },
     "execution_count": 84,
     "metadata": {},
     "output_type": "execute_result"
    },
    {
     "data": {
      "image/png": "[encoded data removed]",
      "text/plain": [
       "<Figure size 432x288 with 1 Axes>"
      ]
     },
     "metadata": {
      "needs_background": "light"
     },
     "output_type": "display_data"
    },
    {
     "data": {
      "image/png": "[encoded data removed]",
      "text/plain": [
       "<Figure size 432x288 with 1 Axes>"
      ]
     },
     "metadata": {
      "needs_background": "light"
     },
     "output_type": "display_data"
    }
   ],
   "source": [
    "lr = LinearRegression(regParam=10.0, solver=\"normal\",featuresCol=\"features\",\n",
    "                      labelCol=\"Daysforshipping_real_\", predictionCol=\"y_pred\")\n",
    "\n",
    "lr_model = lr.fit(train_data)\n",
    "\n",
    "test_predictions = lr_model.transform(test_data)\n",
    "train_predictions = lr_model.transform(train_data)\n",
    "all_predictions = lr_model.transform(test_data)\n",
    "\n",
    "mse_evaluator = RegressionEvaluator(labelCol=\"Daysforshipping_real_\", predictionCol=\"y_pred\", metricName=\"rmse\")\n",
    "mae_evaluator = RegressionEvaluator(labelCol=\"Daysforshipping_real_\", predictionCol=\"y_pred\", metricName=\"mae\")\n",
    "# Lấy RMSE và MAE đối với mỗi tập dự đoán\n",
    "ml_measures_test = [mse_evaluator.evaluate(test_predictions), mae_evaluator.evaluate(train_predictions)] \n",
    "ml_measures_train = [mse_evaluator.evaluate(train_predictions), mae_evaluator.evaluate(train_predictions)]\n",
    "ml_measures_all = [mse_evaluator.evaluate(all_predictions), mae_evaluator.evaluate(all_predictions)]\n",
    "\n",
    "print(ml_measures_train)\n",
    "print(ml_measures_test)\n",
    "print(ml_measures_all)\n",
    "#Plot kết quả kiểm định của model\n",
    "plot_data = spark.createDataFrame(data= [['Train'] + ml_measures_train,\n",
    "                                         ['Test'] + ml_measures_test,\n",
    "                                         ['All'] + ml_measures_all\n",
    "                                        ]\n",
    "                                  ,schema=['Dataset','RootMeanSquaredError','MeanAbsoluteError'])\n",
    "plot_data.toPandas().plot.barh(x='Dataset')\n",
    "# Tạo plot để so sánh với model tự thực hiện\n",
    "# Manual tượng trưng cho model tự thực hiện\n",
    "plot_data = spark.createDataFrame(data= [['Train'] + ml_measures_train + measures_train,\n",
    "                                         ['Test'] + ml_measures_test + measures,\n",
    "                                         ['All'] + ml_measures_all + measures_all,\n",
    "                                        ]\n",
    "                                  ,schema=[\n",
    "                                      'Dataset','RootMeanSquaredError',\n",
    "                                      'MeanAbsoluteError','ManualRMSE',\n",
    "                                      'ManualMAE'])\n",
    "\n",
    "plot_data.show()\n",
    "plot_data.toPandas().plot.barh(x='Dataset')"
   ]
  },
  {
   "cell_type": "code",
   "execution_count": null,
   "id": "dcc9b67d",
   "metadata": {},
   "outputs": [],
   "source": []
  }
 ],
 "metadata": {
  "kernelspec": {
   "display_name": "Python 3 (ipykernel)",
   "language": "python",
   "name": "python3"
  },
  "language_info": {
   "codemirror_mode": {
    "name": "ipython",
    "version": 3
   },
   "file_extension": ".py",
   "mimetype": "text/x-python",
   "name": "python",
   "nbconvert_exporter": "python",
   "pygments_lexer": "ipython3",
   "version": "3.10.12"
  }
 },
 "nbformat": 4,
 "nbformat_minor": 5
}
